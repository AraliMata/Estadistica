{
  "cells": [
    {
      "cell_type": "markdown",
      "metadata": {
        "id": "6beImIsfM0Rf"
      },
      "source": [
        "# Los peces y el mercurio\n",
        "### Yoceline Aralí Mata A01562116"
      ]
    },
    {
      "cell_type": "markdown",
      "source": [
        "Se llevó a cabo un estudio en 53 lagos de Florida con el fin de examinar los factores que influyen en el nivel de contaminación de mercurio, ya que este tipo de contaminación es una amenaza directa contra la salud. A continuación se realiza un análisis de los datos para conocer los principales factores que influyen en el nivel de contaminación."
      ],
      "metadata": {
        "id": "XCUCRBiC-A7X"
      }
    },
    {
      "cell_type": "code",
      "execution_count": 130,
      "metadata": {
        "_cell_guid": "b1076dfc-b9ad-4769-8c92-a6c4dae69d19",
        "_uuid": "8f2839f25d086af736a60e9eeb907d3b93b6e0e5",
        "execution": {
          "iopub.execute_input": "2022-08-29T00:08:48.853805Z",
          "iopub.status.busy": "2022-08-29T00:08:48.853229Z",
          "iopub.status.idle": "2022-08-29T00:08:49.916868Z",
          "shell.execute_reply": "2022-08-29T00:08:49.915539Z",
          "shell.execute_reply.started": "2022-08-29T00:08:48.853753Z"
        },
        "trusted": true,
        "id": "oR_p2uwNM0Ri"
      },
      "outputs": [],
      "source": [
        "import numpy as np # linear algebra\n",
        "import pandas as pd # data processing, CSV file I/O (e.g. pd.read_csv)\n",
        "import seaborn as sns\n",
        "import matplotlib.pyplot as plt"
      ]
    },
    {
      "cell_type": "code",
      "source": [
        "%load_ext rpy2.ipython"
      ],
      "metadata": {
        "id": "0xnfa_OyPurb",
        "colab": {
          "base_uri": "https://localhost:8080/"
        },
        "outputId": "beed08b5-c67f-4411-ffbc-4ef92239b116"
      },
      "execution_count": 131,
      "outputs": [
        {
          "output_type": "stream",
          "name": "stdout",
          "text": [
            "The rpy2.ipython extension is already loaded. To reload it, use:\n",
            "  %reload_ext rpy2.ipython\n"
          ]
        }
      ]
    },
    {
      "cell_type": "markdown",
      "metadata": {
        "id": "0v4DmfiDM0Rm"
      },
      "source": [
        "## 2. Explora las variables y familiarízate con su significado \n",
        "1. Identifica la cantidad de datos y variables presentes.\n",
        "2. Clasifica las variables de acuerdo a su tipo y escala de medición.\n"
      ]
    },
    {
      "cell_type": "code",
      "execution_count": 133,
      "metadata": {
        "execution": {
          "iopub.execute_input": "2022-08-29T00:08:49.919380Z",
          "iopub.status.busy": "2022-08-29T00:08:49.918931Z",
          "iopub.status.idle": "2022-08-29T00:08:49.952687Z",
          "shell.execute_reply": "2022-08-29T00:08:49.951270Z",
          "shell.execute_reply.started": "2022-08-29T00:08:49.919342Z"
        },
        "trusted": true,
        "id": "KTzeMg9rM0Ro"
      },
      "outputs": [],
      "source": [
        "columns_name = [\"nombre_lago\", \"alcalinidad\", \"ph\", \"calcio\", \"clorofila\", \"conc_mercurio\", \"num_peces\", \"min_conc_peces\", \"max_conc_peces\", \"estim_conc\", \"edad\"]\n",
        "data = pd.read_csv(\"mercurio.csv\", index_col = \"X1\")\n",
        "data.columns = columns_name"
      ]
    },
    {
      "cell_type": "code",
      "source": [
        "data.head()"
      ],
      "metadata": {
        "id": "QHFlWxcmZG4i",
        "colab": {
          "base_uri": "https://localhost:8080/",
          "height": 237
        },
        "outputId": "e1c7f0c7-3b4d-444b-ecf2-3f8108aaf384"
      },
      "execution_count": 135,
      "outputs": [
        {
          "output_type": "execute_result",
          "data": {
            "text/plain": [
              "     nombre_lago  alcalinidad   ph  calcio  clorofila  conc_mercurio  \\\n",
              "X1                                                                     \n",
              "1      Alligator          5.9  6.1     3.0        0.7           1.23   \n",
              "2          Annie          3.5  5.1     1.9        3.2           1.33   \n",
              "3         Apopka        116.0  9.1    44.1      128.3           0.04   \n",
              "4   Blue Cypress         39.4  6.9    16.4        3.5           0.44   \n",
              "5          Brick          2.5  4.6     2.9        1.8           1.20   \n",
              "\n",
              "    num_peces  min_conc_peces  max_conc_peces  estim_conc  edad  \n",
              "X1                                                               \n",
              "1           5            0.85            1.43        1.53     1  \n",
              "2           7            0.92            1.90        1.33     0  \n",
              "3           6            0.04            0.06        0.04     0  \n",
              "4          12            0.13            0.84        0.44     0  \n",
              "5          12            0.69            1.50        1.33     1  "
            ],
            "text/html": [
              "\n",
              "  <div id=\"df-c9ce2183-5a71-44b4-8361-b7492873db74\">\n",
              "    <div class=\"colab-df-container\">\n",
              "      <div>\n",
              "<style scoped>\n",
              "    .dataframe tbody tr th:only-of-type {\n",
              "        vertical-align: middle;\n",
              "    }\n",
              "\n",
              "    .dataframe tbody tr th {\n",
              "        vertical-align: top;\n",
              "    }\n",
              "\n",
              "    .dataframe thead th {\n",
              "        text-align: right;\n",
              "    }\n",
              "</style>\n",
              "<table border=\"1\" class=\"dataframe\">\n",
              "  <thead>\n",
              "    <tr style=\"text-align: right;\">\n",
              "      <th></th>\n",
              "      <th>nombre_lago</th>\n",
              "      <th>alcalinidad</th>\n",
              "      <th>ph</th>\n",
              "      <th>calcio</th>\n",
              "      <th>clorofila</th>\n",
              "      <th>conc_mercurio</th>\n",
              "      <th>num_peces</th>\n",
              "      <th>min_conc_peces</th>\n",
              "      <th>max_conc_peces</th>\n",
              "      <th>estim_conc</th>\n",
              "      <th>edad</th>\n",
              "    </tr>\n",
              "    <tr>\n",
              "      <th>X1</th>\n",
              "      <th></th>\n",
              "      <th></th>\n",
              "      <th></th>\n",
              "      <th></th>\n",
              "      <th></th>\n",
              "      <th></th>\n",
              "      <th></th>\n",
              "      <th></th>\n",
              "      <th></th>\n",
              "      <th></th>\n",
              "      <th></th>\n",
              "    </tr>\n",
              "  </thead>\n",
              "  <tbody>\n",
              "    <tr>\n",
              "      <th>1</th>\n",
              "      <td>Alligator</td>\n",
              "      <td>5.9</td>\n",
              "      <td>6.1</td>\n",
              "      <td>3.0</td>\n",
              "      <td>0.7</td>\n",
              "      <td>1.23</td>\n",
              "      <td>5</td>\n",
              "      <td>0.85</td>\n",
              "      <td>1.43</td>\n",
              "      <td>1.53</td>\n",
              "      <td>1</td>\n",
              "    </tr>\n",
              "    <tr>\n",
              "      <th>2</th>\n",
              "      <td>Annie</td>\n",
              "      <td>3.5</td>\n",
              "      <td>5.1</td>\n",
              "      <td>1.9</td>\n",
              "      <td>3.2</td>\n",
              "      <td>1.33</td>\n",
              "      <td>7</td>\n",
              "      <td>0.92</td>\n",
              "      <td>1.90</td>\n",
              "      <td>1.33</td>\n",
              "      <td>0</td>\n",
              "    </tr>\n",
              "    <tr>\n",
              "      <th>3</th>\n",
              "      <td>Apopka</td>\n",
              "      <td>116.0</td>\n",
              "      <td>9.1</td>\n",
              "      <td>44.1</td>\n",
              "      <td>128.3</td>\n",
              "      <td>0.04</td>\n",
              "      <td>6</td>\n",
              "      <td>0.04</td>\n",
              "      <td>0.06</td>\n",
              "      <td>0.04</td>\n",
              "      <td>0</td>\n",
              "    </tr>\n",
              "    <tr>\n",
              "      <th>4</th>\n",
              "      <td>Blue Cypress</td>\n",
              "      <td>39.4</td>\n",
              "      <td>6.9</td>\n",
              "      <td>16.4</td>\n",
              "      <td>3.5</td>\n",
              "      <td>0.44</td>\n",
              "      <td>12</td>\n",
              "      <td>0.13</td>\n",
              "      <td>0.84</td>\n",
              "      <td>0.44</td>\n",
              "      <td>0</td>\n",
              "    </tr>\n",
              "    <tr>\n",
              "      <th>5</th>\n",
              "      <td>Brick</td>\n",
              "      <td>2.5</td>\n",
              "      <td>4.6</td>\n",
              "      <td>2.9</td>\n",
              "      <td>1.8</td>\n",
              "      <td>1.20</td>\n",
              "      <td>12</td>\n",
              "      <td>0.69</td>\n",
              "      <td>1.50</td>\n",
              "      <td>1.33</td>\n",
              "      <td>1</td>\n",
              "    </tr>\n",
              "  </tbody>\n",
              "</table>\n",
              "</div>\n",
              "      <button class=\"colab-df-convert\" onclick=\"convertToInteractive('df-c9ce2183-5a71-44b4-8361-b7492873db74')\"\n",
              "              title=\"Convert this dataframe to an interactive table.\"\n",
              "              style=\"display:none;\">\n",
              "        \n",
              "  <svg xmlns=\"http://www.w3.org/2000/svg\" height=\"24px\"viewBox=\"0 0 24 24\"\n",
              "       width=\"24px\">\n",
              "    <path d=\"M0 0h24v24H0V0z\" fill=\"none\"/>\n",
              "    <path d=\"M18.56 5.44l.94 2.06.94-2.06 2.06-.94-2.06-.94-.94-2.06-.94 2.06-2.06.94zm-11 1L8.5 8.5l.94-2.06 2.06-.94-2.06-.94L8.5 2.5l-.94 2.06-2.06.94zm10 10l.94 2.06.94-2.06 2.06-.94-2.06-.94-.94-2.06-.94 2.06-2.06.94z\"/><path d=\"M17.41 7.96l-1.37-1.37c-.4-.4-.92-.59-1.43-.59-.52 0-1.04.2-1.43.59L10.3 9.45l-7.72 7.72c-.78.78-.78 2.05 0 2.83L4 21.41c.39.39.9.59 1.41.59.51 0 1.02-.2 1.41-.59l7.78-7.78 2.81-2.81c.8-.78.8-2.07 0-2.86zM5.41 20L4 18.59l7.72-7.72 1.47 1.35L5.41 20z\"/>\n",
              "  </svg>\n",
              "      </button>\n",
              "      \n",
              "  <style>\n",
              "    .colab-df-container {\n",
              "      display:flex;\n",
              "      flex-wrap:wrap;\n",
              "      gap: 12px;\n",
              "    }\n",
              "\n",
              "    .colab-df-convert {\n",
              "      background-color: #E8F0FE;\n",
              "      border: none;\n",
              "      border-radius: 50%;\n",
              "      cursor: pointer;\n",
              "      display: none;\n",
              "      fill: #1967D2;\n",
              "      height: 32px;\n",
              "      padding: 0 0 0 0;\n",
              "      width: 32px;\n",
              "    }\n",
              "\n",
              "    .colab-df-convert:hover {\n",
              "      background-color: #E2EBFA;\n",
              "      box-shadow: 0px 1px 2px rgba(60, 64, 67, 0.3), 0px 1px 3px 1px rgba(60, 64, 67, 0.15);\n",
              "      fill: #174EA6;\n",
              "    }\n",
              "\n",
              "    [theme=dark] .colab-df-convert {\n",
              "      background-color: #3B4455;\n",
              "      fill: #D2E3FC;\n",
              "    }\n",
              "\n",
              "    [theme=dark] .colab-df-convert:hover {\n",
              "      background-color: #434B5C;\n",
              "      box-shadow: 0px 1px 3px 1px rgba(0, 0, 0, 0.15);\n",
              "      filter: drop-shadow(0px 1px 2px rgba(0, 0, 0, 0.3));\n",
              "      fill: #FFFFFF;\n",
              "    }\n",
              "  </style>\n",
              "\n",
              "      <script>\n",
              "        const buttonEl =\n",
              "          document.querySelector('#df-c9ce2183-5a71-44b4-8361-b7492873db74 button.colab-df-convert');\n",
              "        buttonEl.style.display =\n",
              "          google.colab.kernel.accessAllowed ? 'block' : 'none';\n",
              "\n",
              "        async function convertToInteractive(key) {\n",
              "          const element = document.querySelector('#df-c9ce2183-5a71-44b4-8361-b7492873db74');\n",
              "          const dataTable =\n",
              "            await google.colab.kernel.invokeFunction('convertToInteractive',\n",
              "                                                     [key], {});\n",
              "          if (!dataTable) return;\n",
              "\n",
              "          const docLinkHtml = 'Like what you see? Visit the ' +\n",
              "            '<a target=\"_blank\" href=https://colab.research.google.com/notebooks/data_table.ipynb>data table notebook</a>'\n",
              "            + ' to learn more about interactive tables.';\n",
              "          element.innerHTML = '';\n",
              "          dataTable['output_type'] = 'display_data';\n",
              "          await google.colab.output.renderOutput(dataTable, element);\n",
              "          const docLink = document.createElement('div');\n",
              "          docLink.innerHTML = docLinkHtml;\n",
              "          element.appendChild(docLink);\n",
              "        }\n",
              "      </script>\n",
              "    </div>\n",
              "  </div>\n",
              "  "
            ]
          },
          "metadata": {},
          "execution_count": 135
        }
      ]
    },
    {
      "cell_type": "code",
      "execution_count": 136,
      "metadata": {
        "execution": {
          "iopub.execute_input": "2022-08-29T00:08:49.986612Z",
          "iopub.status.busy": "2022-08-29T00:08:49.985579Z",
          "iopub.status.idle": "2022-08-29T00:08:50.008379Z",
          "shell.execute_reply": "2022-08-29T00:08:50.006830Z",
          "shell.execute_reply.started": "2022-08-29T00:08:49.986556Z"
        },
        "trusted": true,
        "id": "QnqOdUdPM0Rq",
        "colab": {
          "base_uri": "https://localhost:8080/",
          "height": 237
        },
        "outputId": "55fbc068-4280-424a-f2e3-007e3db6f53f"
      },
      "outputs": [
        {
          "output_type": "execute_result",
          "data": {
            "text/plain": [
              "     nombre_lago  alcalinidad   ph  calcio  clorofila  conc_mercurio  \\\n",
              "X1                                                                     \n",
              "48         Trout          1.2  4.3     2.1        6.4           0.94   \n",
              "49  Tsala Apopka         34.0  7.0    13.1        4.6           0.40   \n",
              "50          Weir         15.5  6.9     5.2       16.5           0.43   \n",
              "52       Wildcat         17.3  5.2     3.0        2.6           0.25   \n",
              "53          Yale         71.8  7.9    20.5        8.8           0.27   \n",
              "\n",
              "    num_peces  min_conc_peces  max_conc_peces  estim_conc  edad  \n",
              "X1                                                               \n",
              "48         10            0.59            1.24        0.98     1  \n",
              "49         12            0.08            0.90        0.31     1  \n",
              "50         11            0.23            0.69        0.43     1  \n",
              "52         12            0.15            0.40        0.28     1  \n",
              "53         12            0.15            0.51        0.25     1  "
            ],
            "text/html": [
              "\n",
              "  <div id=\"df-8449b581-cb78-4e0d-a58a-9d0567f005ec\">\n",
              "    <div class=\"colab-df-container\">\n",
              "      <div>\n",
              "<style scoped>\n",
              "    .dataframe tbody tr th:only-of-type {\n",
              "        vertical-align: middle;\n",
              "    }\n",
              "\n",
              "    .dataframe tbody tr th {\n",
              "        vertical-align: top;\n",
              "    }\n",
              "\n",
              "    .dataframe thead th {\n",
              "        text-align: right;\n",
              "    }\n",
              "</style>\n",
              "<table border=\"1\" class=\"dataframe\">\n",
              "  <thead>\n",
              "    <tr style=\"text-align: right;\">\n",
              "      <th></th>\n",
              "      <th>nombre_lago</th>\n",
              "      <th>alcalinidad</th>\n",
              "      <th>ph</th>\n",
              "      <th>calcio</th>\n",
              "      <th>clorofila</th>\n",
              "      <th>conc_mercurio</th>\n",
              "      <th>num_peces</th>\n",
              "      <th>min_conc_peces</th>\n",
              "      <th>max_conc_peces</th>\n",
              "      <th>estim_conc</th>\n",
              "      <th>edad</th>\n",
              "    </tr>\n",
              "    <tr>\n",
              "      <th>X1</th>\n",
              "      <th></th>\n",
              "      <th></th>\n",
              "      <th></th>\n",
              "      <th></th>\n",
              "      <th></th>\n",
              "      <th></th>\n",
              "      <th></th>\n",
              "      <th></th>\n",
              "      <th></th>\n",
              "      <th></th>\n",
              "      <th></th>\n",
              "    </tr>\n",
              "  </thead>\n",
              "  <tbody>\n",
              "    <tr>\n",
              "      <th>48</th>\n",
              "      <td>Trout</td>\n",
              "      <td>1.2</td>\n",
              "      <td>4.3</td>\n",
              "      <td>2.1</td>\n",
              "      <td>6.4</td>\n",
              "      <td>0.94</td>\n",
              "      <td>10</td>\n",
              "      <td>0.59</td>\n",
              "      <td>1.24</td>\n",
              "      <td>0.98</td>\n",
              "      <td>1</td>\n",
              "    </tr>\n",
              "    <tr>\n",
              "      <th>49</th>\n",
              "      <td>Tsala Apopka</td>\n",
              "      <td>34.0</td>\n",
              "      <td>7.0</td>\n",
              "      <td>13.1</td>\n",
              "      <td>4.6</td>\n",
              "      <td>0.40</td>\n",
              "      <td>12</td>\n",
              "      <td>0.08</td>\n",
              "      <td>0.90</td>\n",
              "      <td>0.31</td>\n",
              "      <td>1</td>\n",
              "    </tr>\n",
              "    <tr>\n",
              "      <th>50</th>\n",
              "      <td>Weir</td>\n",
              "      <td>15.5</td>\n",
              "      <td>6.9</td>\n",
              "      <td>5.2</td>\n",
              "      <td>16.5</td>\n",
              "      <td>0.43</td>\n",
              "      <td>11</td>\n",
              "      <td>0.23</td>\n",
              "      <td>0.69</td>\n",
              "      <td>0.43</td>\n",
              "      <td>1</td>\n",
              "    </tr>\n",
              "    <tr>\n",
              "      <th>52</th>\n",
              "      <td>Wildcat</td>\n",
              "      <td>17.3</td>\n",
              "      <td>5.2</td>\n",
              "      <td>3.0</td>\n",
              "      <td>2.6</td>\n",
              "      <td>0.25</td>\n",
              "      <td>12</td>\n",
              "      <td>0.15</td>\n",
              "      <td>0.40</td>\n",
              "      <td>0.28</td>\n",
              "      <td>1</td>\n",
              "    </tr>\n",
              "    <tr>\n",
              "      <th>53</th>\n",
              "      <td>Yale</td>\n",
              "      <td>71.8</td>\n",
              "      <td>7.9</td>\n",
              "      <td>20.5</td>\n",
              "      <td>8.8</td>\n",
              "      <td>0.27</td>\n",
              "      <td>12</td>\n",
              "      <td>0.15</td>\n",
              "      <td>0.51</td>\n",
              "      <td>0.25</td>\n",
              "      <td>1</td>\n",
              "    </tr>\n",
              "  </tbody>\n",
              "</table>\n",
              "</div>\n",
              "      <button class=\"colab-df-convert\" onclick=\"convertToInteractive('df-8449b581-cb78-4e0d-a58a-9d0567f005ec')\"\n",
              "              title=\"Convert this dataframe to an interactive table.\"\n",
              "              style=\"display:none;\">\n",
              "        \n",
              "  <svg xmlns=\"http://www.w3.org/2000/svg\" height=\"24px\"viewBox=\"0 0 24 24\"\n",
              "       width=\"24px\">\n",
              "    <path d=\"M0 0h24v24H0V0z\" fill=\"none\"/>\n",
              "    <path d=\"M18.56 5.44l.94 2.06.94-2.06 2.06-.94-2.06-.94-.94-2.06-.94 2.06-2.06.94zm-11 1L8.5 8.5l.94-2.06 2.06-.94-2.06-.94L8.5 2.5l-.94 2.06-2.06.94zm10 10l.94 2.06.94-2.06 2.06-.94-2.06-.94-.94-2.06-.94 2.06-2.06.94z\"/><path d=\"M17.41 7.96l-1.37-1.37c-.4-.4-.92-.59-1.43-.59-.52 0-1.04.2-1.43.59L10.3 9.45l-7.72 7.72c-.78.78-.78 2.05 0 2.83L4 21.41c.39.39.9.59 1.41.59.51 0 1.02-.2 1.41-.59l7.78-7.78 2.81-2.81c.8-.78.8-2.07 0-2.86zM5.41 20L4 18.59l7.72-7.72 1.47 1.35L5.41 20z\"/>\n",
              "  </svg>\n",
              "      </button>\n",
              "      \n",
              "  <style>\n",
              "    .colab-df-container {\n",
              "      display:flex;\n",
              "      flex-wrap:wrap;\n",
              "      gap: 12px;\n",
              "    }\n",
              "\n",
              "    .colab-df-convert {\n",
              "      background-color: #E8F0FE;\n",
              "      border: none;\n",
              "      border-radius: 50%;\n",
              "      cursor: pointer;\n",
              "      display: none;\n",
              "      fill: #1967D2;\n",
              "      height: 32px;\n",
              "      padding: 0 0 0 0;\n",
              "      width: 32px;\n",
              "    }\n",
              "\n",
              "    .colab-df-convert:hover {\n",
              "      background-color: #E2EBFA;\n",
              "      box-shadow: 0px 1px 2px rgba(60, 64, 67, 0.3), 0px 1px 3px 1px rgba(60, 64, 67, 0.15);\n",
              "      fill: #174EA6;\n",
              "    }\n",
              "\n",
              "    [theme=dark] .colab-df-convert {\n",
              "      background-color: #3B4455;\n",
              "      fill: #D2E3FC;\n",
              "    }\n",
              "\n",
              "    [theme=dark] .colab-df-convert:hover {\n",
              "      background-color: #434B5C;\n",
              "      box-shadow: 0px 1px 3px 1px rgba(0, 0, 0, 0.15);\n",
              "      filter: drop-shadow(0px 1px 2px rgba(0, 0, 0, 0.3));\n",
              "      fill: #FFFFFF;\n",
              "    }\n",
              "  </style>\n",
              "\n",
              "      <script>\n",
              "        const buttonEl =\n",
              "          document.querySelector('#df-8449b581-cb78-4e0d-a58a-9d0567f005ec button.colab-df-convert');\n",
              "        buttonEl.style.display =\n",
              "          google.colab.kernel.accessAllowed ? 'block' : 'none';\n",
              "\n",
              "        async function convertToInteractive(key) {\n",
              "          const element = document.querySelector('#df-8449b581-cb78-4e0d-a58a-9d0567f005ec');\n",
              "          const dataTable =\n",
              "            await google.colab.kernel.invokeFunction('convertToInteractive',\n",
              "                                                     [key], {});\n",
              "          if (!dataTable) return;\n",
              "\n",
              "          const docLinkHtml = 'Like what you see? Visit the ' +\n",
              "            '<a target=\"_blank\" href=https://colab.research.google.com/notebooks/data_table.ipynb>data table notebook</a>'\n",
              "            + ' to learn more about interactive tables.';\n",
              "          element.innerHTML = '';\n",
              "          dataTable['output_type'] = 'display_data';\n",
              "          await google.colab.output.renderOutput(dataTable, element);\n",
              "          const docLink = document.createElement('div');\n",
              "          docLink.innerHTML = docLinkHtml;\n",
              "          element.appendChild(docLink);\n",
              "        }\n",
              "      </script>\n",
              "    </div>\n",
              "  </div>\n",
              "  "
            ]
          },
          "metadata": {},
          "execution_count": 136
        }
      ],
      "source": [
        "data.tail()"
      ]
    },
    {
      "cell_type": "code",
      "execution_count": 137,
      "metadata": {
        "execution": {
          "iopub.execute_input": "2022-08-29T00:08:50.010857Z",
          "iopub.status.busy": "2022-08-29T00:08:50.009910Z",
          "iopub.status.idle": "2022-08-29T00:08:50.035618Z",
          "shell.execute_reply": "2022-08-29T00:08:50.033974Z",
          "shell.execute_reply.started": "2022-08-29T00:08:50.010816Z"
        },
        "trusted": true,
        "id": "FZBUk-jeM0Rr",
        "colab": {
          "base_uri": "https://localhost:8080/"
        },
        "outputId": "91d78d6e-884a-476b-cff5-8344f217c6db"
      },
      "outputs": [
        {
          "output_type": "stream",
          "name": "stdout",
          "text": [
            "<class 'pandas.core.frame.DataFrame'>\n",
            "Int64Index: 53 entries, 1 to 53\n",
            "Data columns (total 11 columns):\n",
            " #   Column          Non-Null Count  Dtype  \n",
            "---  ------          --------------  -----  \n",
            " 0   nombre_lago     53 non-null     object \n",
            " 1   alcalinidad     53 non-null     float64\n",
            " 2   ph              53 non-null     float64\n",
            " 3   calcio          53 non-null     float64\n",
            " 4   clorofila       53 non-null     float64\n",
            " 5   conc_mercurio   53 non-null     float64\n",
            " 6   num_peces       53 non-null     int64  \n",
            " 7   min_conc_peces  53 non-null     float64\n",
            " 8   max_conc_peces  53 non-null     float64\n",
            " 9   estim_conc      53 non-null     float64\n",
            " 10  edad            53 non-null     int64  \n",
            "dtypes: float64(8), int64(2), object(1)\n",
            "memory usage: 5.0+ KB\n"
          ]
        }
      ],
      "source": [
        "data.info()"
      ]
    },
    {
      "cell_type": "markdown",
      "metadata": {
        "id": "R616Qg7eM0Rs"
      },
      "source": [
        "**Tipo de variables y escala de medición**\n",
        "\n",
        "Datos categóricos/cualitativos\n",
        "\n",
        "* Escala nominal: nombre_lago, edad \n",
        "\n",
        "Datos numéricos/cuantitativos\n",
        "\n",
        "* Escala de razón: alcalinidad, ph, calcio, clorofila, conc_mercurio, num_peces, min_concentracion_peces, max_concentracion_peces,estimacion_concentracion\n"
      ]
    },
    {
      "cell_type": "code",
      "source": [],
      "metadata": {
        "id": "QaGD70m0rC8X"
      },
      "execution_count": 137,
      "outputs": []
    },
    {
      "cell_type": "code",
      "execution_count": 138,
      "metadata": {
        "execution": {
          "iopub.execute_input": "2022-08-29T00:08:50.037619Z",
          "iopub.status.busy": "2022-08-29T00:08:50.037151Z",
          "iopub.status.idle": "2022-08-29T00:08:50.044945Z",
          "shell.execute_reply": "2022-08-29T00:08:50.043526Z",
          "shell.execute_reply.started": "2022-08-29T00:08:50.037584Z"
        },
        "trusted": true,
        "id": "riA-HZVUM0Rt"
      },
      "outputs": [],
      "source": [
        "cuantitativas = [\"alcalinidad\", \"ph\", \"calcio\", \"clorofila\", \"conc_mercurio\", \"num_peces\", \"min_conc_peces\", \"max_conc_peces\",\"estim_conc\"]\n",
        "cualitativas = [\"nombre_lago\", \"edad\"]"
      ]
    },
    {
      "cell_type": "markdown",
      "metadata": {
        "id": "W5JH_buWM0Rv"
      },
      "source": [
        "## 1. Exploración de la base de datos"
      ]
    },
    {
      "cell_type": "markdown",
      "source": [
        "### 1. Calcula medidas estadísticas"
      ],
      "metadata": {
        "id": "hR0h_Bnqe5E3"
      }
    },
    {
      "cell_type": "markdown",
      "metadata": {
        "id": "Y6AL51ZFM0Rw"
      },
      "source": [
        "#### Variables cuantitativas\n",
        "\n",
        "* Medidas de tendencia central\n",
        "\n",
        "* Medidas de dispersión"
      ]
    },
    {
      "cell_type": "code",
      "execution_count": 139,
      "metadata": {
        "execution": {
          "iopub.execute_input": "2022-08-29T00:08:50.051416Z",
          "iopub.status.busy": "2022-08-29T00:08:50.049236Z",
          "iopub.status.idle": "2022-08-29T00:08:50.079084Z",
          "shell.execute_reply": "2022-08-29T00:08:50.078006Z",
          "shell.execute_reply.started": "2022-08-29T00:08:50.051365Z"
        },
        "trusted": true,
        "id": "P4AF22JqM0Ry",
        "colab": {
          "base_uri": "https://localhost:8080/",
          "height": 300
        },
        "outputId": "ac32bd9c-6496-4918-b75b-62e994ff4068"
      },
      "outputs": [
        {
          "output_type": "execute_result",
          "data": {
            "text/plain": [
              "       alcalinidad         ph     calcio   clorofila  conc_mercurio  \\\n",
              "count    53.000000  53.000000  53.000000   53.000000      53.000000   \n",
              "mean     37.530189   6.590566  22.201887   23.116981       0.527170   \n",
              "std      38.203527   1.288449  24.932574   30.816321       0.341036   \n",
              "min       1.200000   3.600000   1.100000    0.700000       0.040000   \n",
              "25%       6.600000   5.800000   3.300000    4.600000       0.270000   \n",
              "50%      19.600000   6.800000  12.600000   12.800000       0.480000   \n",
              "75%      66.500000   7.400000  35.600000   24.700000       0.770000   \n",
              "max     128.000000   9.100000  90.700000  152.400000       1.330000   \n",
              "\n",
              "       num_peces  min_conc_peces  max_conc_peces  estim_conc  \n",
              "count  53.000000       53.000000       53.000000   53.000000  \n",
              "mean   13.056604        0.279811        0.874528    0.513208  \n",
              "std     8.560677        0.226406        0.522047    0.338729  \n",
              "min     4.000000        0.040000        0.060000    0.040000  \n",
              "25%    10.000000        0.090000        0.480000    0.250000  \n",
              "50%    12.000000        0.250000        0.840000    0.450000  \n",
              "75%    12.000000        0.330000        1.330000    0.700000  \n",
              "max    44.000000        0.920000        2.040000    1.530000  "
            ],
            "text/html": [
              "\n",
              "  <div id=\"df-9a5f12cf-745a-49ca-9f54-2b519f5dcd05\">\n",
              "    <div class=\"colab-df-container\">\n",
              "      <div>\n",
              "<style scoped>\n",
              "    .dataframe tbody tr th:only-of-type {\n",
              "        vertical-align: middle;\n",
              "    }\n",
              "\n",
              "    .dataframe tbody tr th {\n",
              "        vertical-align: top;\n",
              "    }\n",
              "\n",
              "    .dataframe thead th {\n",
              "        text-align: right;\n",
              "    }\n",
              "</style>\n",
              "<table border=\"1\" class=\"dataframe\">\n",
              "  <thead>\n",
              "    <tr style=\"text-align: right;\">\n",
              "      <th></th>\n",
              "      <th>alcalinidad</th>\n",
              "      <th>ph</th>\n",
              "      <th>calcio</th>\n",
              "      <th>clorofila</th>\n",
              "      <th>conc_mercurio</th>\n",
              "      <th>num_peces</th>\n",
              "      <th>min_conc_peces</th>\n",
              "      <th>max_conc_peces</th>\n",
              "      <th>estim_conc</th>\n",
              "    </tr>\n",
              "  </thead>\n",
              "  <tbody>\n",
              "    <tr>\n",
              "      <th>count</th>\n",
              "      <td>53.000000</td>\n",
              "      <td>53.000000</td>\n",
              "      <td>53.000000</td>\n",
              "      <td>53.000000</td>\n",
              "      <td>53.000000</td>\n",
              "      <td>53.000000</td>\n",
              "      <td>53.000000</td>\n",
              "      <td>53.000000</td>\n",
              "      <td>53.000000</td>\n",
              "    </tr>\n",
              "    <tr>\n",
              "      <th>mean</th>\n",
              "      <td>37.530189</td>\n",
              "      <td>6.590566</td>\n",
              "      <td>22.201887</td>\n",
              "      <td>23.116981</td>\n",
              "      <td>0.527170</td>\n",
              "      <td>13.056604</td>\n",
              "      <td>0.279811</td>\n",
              "      <td>0.874528</td>\n",
              "      <td>0.513208</td>\n",
              "    </tr>\n",
              "    <tr>\n",
              "      <th>std</th>\n",
              "      <td>38.203527</td>\n",
              "      <td>1.288449</td>\n",
              "      <td>24.932574</td>\n",
              "      <td>30.816321</td>\n",
              "      <td>0.341036</td>\n",
              "      <td>8.560677</td>\n",
              "      <td>0.226406</td>\n",
              "      <td>0.522047</td>\n",
              "      <td>0.338729</td>\n",
              "    </tr>\n",
              "    <tr>\n",
              "      <th>min</th>\n",
              "      <td>1.200000</td>\n",
              "      <td>3.600000</td>\n",
              "      <td>1.100000</td>\n",
              "      <td>0.700000</td>\n",
              "      <td>0.040000</td>\n",
              "      <td>4.000000</td>\n",
              "      <td>0.040000</td>\n",
              "      <td>0.060000</td>\n",
              "      <td>0.040000</td>\n",
              "    </tr>\n",
              "    <tr>\n",
              "      <th>25%</th>\n",
              "      <td>6.600000</td>\n",
              "      <td>5.800000</td>\n",
              "      <td>3.300000</td>\n",
              "      <td>4.600000</td>\n",
              "      <td>0.270000</td>\n",
              "      <td>10.000000</td>\n",
              "      <td>0.090000</td>\n",
              "      <td>0.480000</td>\n",
              "      <td>0.250000</td>\n",
              "    </tr>\n",
              "    <tr>\n",
              "      <th>50%</th>\n",
              "      <td>19.600000</td>\n",
              "      <td>6.800000</td>\n",
              "      <td>12.600000</td>\n",
              "      <td>12.800000</td>\n",
              "      <td>0.480000</td>\n",
              "      <td>12.000000</td>\n",
              "      <td>0.250000</td>\n",
              "      <td>0.840000</td>\n",
              "      <td>0.450000</td>\n",
              "    </tr>\n",
              "    <tr>\n",
              "      <th>75%</th>\n",
              "      <td>66.500000</td>\n",
              "      <td>7.400000</td>\n",
              "      <td>35.600000</td>\n",
              "      <td>24.700000</td>\n",
              "      <td>0.770000</td>\n",
              "      <td>12.000000</td>\n",
              "      <td>0.330000</td>\n",
              "      <td>1.330000</td>\n",
              "      <td>0.700000</td>\n",
              "    </tr>\n",
              "    <tr>\n",
              "      <th>max</th>\n",
              "      <td>128.000000</td>\n",
              "      <td>9.100000</td>\n",
              "      <td>90.700000</td>\n",
              "      <td>152.400000</td>\n",
              "      <td>1.330000</td>\n",
              "      <td>44.000000</td>\n",
              "      <td>0.920000</td>\n",
              "      <td>2.040000</td>\n",
              "      <td>1.530000</td>\n",
              "    </tr>\n",
              "  </tbody>\n",
              "</table>\n",
              "</div>\n",
              "      <button class=\"colab-df-convert\" onclick=\"convertToInteractive('df-9a5f12cf-745a-49ca-9f54-2b519f5dcd05')\"\n",
              "              title=\"Convert this dataframe to an interactive table.\"\n",
              "              style=\"display:none;\">\n",
              "        \n",
              "  <svg xmlns=\"http://www.w3.org/2000/svg\" height=\"24px\"viewBox=\"0 0 24 24\"\n",
              "       width=\"24px\">\n",
              "    <path d=\"M0 0h24v24H0V0z\" fill=\"none\"/>\n",
              "    <path d=\"M18.56 5.44l.94 2.06.94-2.06 2.06-.94-2.06-.94-.94-2.06-.94 2.06-2.06.94zm-11 1L8.5 8.5l.94-2.06 2.06-.94-2.06-.94L8.5 2.5l-.94 2.06-2.06.94zm10 10l.94 2.06.94-2.06 2.06-.94-2.06-.94-.94-2.06-.94 2.06-2.06.94z\"/><path d=\"M17.41 7.96l-1.37-1.37c-.4-.4-.92-.59-1.43-.59-.52 0-1.04.2-1.43.59L10.3 9.45l-7.72 7.72c-.78.78-.78 2.05 0 2.83L4 21.41c.39.39.9.59 1.41.59.51 0 1.02-.2 1.41-.59l7.78-7.78 2.81-2.81c.8-.78.8-2.07 0-2.86zM5.41 20L4 18.59l7.72-7.72 1.47 1.35L5.41 20z\"/>\n",
              "  </svg>\n",
              "      </button>\n",
              "      \n",
              "  <style>\n",
              "    .colab-df-container {\n",
              "      display:flex;\n",
              "      flex-wrap:wrap;\n",
              "      gap: 12px;\n",
              "    }\n",
              "\n",
              "    .colab-df-convert {\n",
              "      background-color: #E8F0FE;\n",
              "      border: none;\n",
              "      border-radius: 50%;\n",
              "      cursor: pointer;\n",
              "      display: none;\n",
              "      fill: #1967D2;\n",
              "      height: 32px;\n",
              "      padding: 0 0 0 0;\n",
              "      width: 32px;\n",
              "    }\n",
              "\n",
              "    .colab-df-convert:hover {\n",
              "      background-color: #E2EBFA;\n",
              "      box-shadow: 0px 1px 2px rgba(60, 64, 67, 0.3), 0px 1px 3px 1px rgba(60, 64, 67, 0.15);\n",
              "      fill: #174EA6;\n",
              "    }\n",
              "\n",
              "    [theme=dark] .colab-df-convert {\n",
              "      background-color: #3B4455;\n",
              "      fill: #D2E3FC;\n",
              "    }\n",
              "\n",
              "    [theme=dark] .colab-df-convert:hover {\n",
              "      background-color: #434B5C;\n",
              "      box-shadow: 0px 1px 3px 1px rgba(0, 0, 0, 0.15);\n",
              "      filter: drop-shadow(0px 1px 2px rgba(0, 0, 0, 0.3));\n",
              "      fill: #FFFFFF;\n",
              "    }\n",
              "  </style>\n",
              "\n",
              "      <script>\n",
              "        const buttonEl =\n",
              "          document.querySelector('#df-9a5f12cf-745a-49ca-9f54-2b519f5dcd05 button.colab-df-convert');\n",
              "        buttonEl.style.display =\n",
              "          google.colab.kernel.accessAllowed ? 'block' : 'none';\n",
              "\n",
              "        async function convertToInteractive(key) {\n",
              "          const element = document.querySelector('#df-9a5f12cf-745a-49ca-9f54-2b519f5dcd05');\n",
              "          const dataTable =\n",
              "            await google.colab.kernel.invokeFunction('convertToInteractive',\n",
              "                                                     [key], {});\n",
              "          if (!dataTable) return;\n",
              "\n",
              "          const docLinkHtml = 'Like what you see? Visit the ' +\n",
              "            '<a target=\"_blank\" href=https://colab.research.google.com/notebooks/data_table.ipynb>data table notebook</a>'\n",
              "            + ' to learn more about interactive tables.';\n",
              "          element.innerHTML = '';\n",
              "          dataTable['output_type'] = 'display_data';\n",
              "          await google.colab.output.renderOutput(dataTable, element);\n",
              "          const docLink = document.createElement('div');\n",
              "          docLink.innerHTML = docLinkHtml;\n",
              "          element.appendChild(docLink);\n",
              "        }\n",
              "      </script>\n",
              "    </div>\n",
              "  </div>\n",
              "  "
            ]
          },
          "metadata": {},
          "execution_count": 139
        }
      ],
      "source": [
        "data[cuantitativas].describe()"
      ]
    },
    {
      "cell_type": "code",
      "source": [
        "data[cuantitativas].var()"
      ],
      "metadata": {
        "id": "1TRxgJYui1ds",
        "colab": {
          "base_uri": "https://localhost:8080/"
        },
        "outputId": "06c9de87-4656-41eb-f494-a6a9d4aa6291"
      },
      "execution_count": 140,
      "outputs": [
        {
          "output_type": "execute_result",
          "data": {
            "text/plain": [
              "alcalinidad       1459.509456\n",
              "ph                   1.660102\n",
              "calcio             621.633266\n",
              "clorofila          949.645668\n",
              "conc_mercurio        0.116305\n",
              "num_peces           73.285196\n",
              "min_conc_peces       0.051260\n",
              "max_conc_peces       0.272533\n",
              "estim_conc           0.114738\n",
              "dtype: float64"
            ]
          },
          "metadata": {},
          "execution_count": 140
        }
      ]
    },
    {
      "cell_type": "code",
      "execution_count": 141,
      "metadata": {
        "execution": {
          "iopub.execute_input": "2022-08-29T00:08:50.081543Z",
          "iopub.status.busy": "2022-08-29T00:08:50.080768Z",
          "iopub.status.idle": "2022-08-29T00:08:50.097510Z",
          "shell.execute_reply": "2022-08-29T00:08:50.096253Z",
          "shell.execute_reply.started": "2022-08-29T00:08:50.081503Z"
        },
        "trusted": true,
        "id": "Mgg7Rd8qM0Ry",
        "colab": {
          "base_uri": "https://localhost:8080/",
          "height": 332
        },
        "outputId": "eec8a7a7-5762-4016-ec28-61af8adde072"
      },
      "outputs": [
        {
          "output_type": "execute_result",
          "data": {
            "text/plain": [
              "   alcalinidad   ph  calcio  clorofila  conc_mercurio  num_peces  \\\n",
              "0         17.3  5.8     3.0        1.6           0.34       12.0   \n",
              "1         25.4  6.9     3.3        3.2            NaN        NaN   \n",
              "2          NaN  NaN     5.2        9.6            NaN        NaN   \n",
              "3          NaN  NaN     6.3        NaN            NaN        NaN   \n",
              "4          NaN  NaN    20.5        NaN            NaN        NaN   \n",
              "5          NaN  NaN     NaN        NaN            NaN        NaN   \n",
              "6          NaN  NaN     NaN        NaN            NaN        NaN   \n",
              "7          NaN  NaN     NaN        NaN            NaN        NaN   \n",
              "8          NaN  NaN     NaN        NaN            NaN        NaN   \n",
              "\n",
              "   min_conc_peces  max_conc_peces  estim_conc  \n",
              "0            0.04            0.06        0.16  \n",
              "1             NaN            0.26         NaN  \n",
              "2             NaN            0.40         NaN  \n",
              "3             NaN            0.48         NaN  \n",
              "4             NaN            0.69         NaN  \n",
              "5             NaN            0.84         NaN  \n",
              "6             NaN            1.40         NaN  \n",
              "7             NaN            1.50         NaN  \n",
              "8             NaN            1.90         NaN  "
            ],
            "text/html": [
              "\n",
              "  <div id=\"df-aa548e20-3b59-4654-84b6-f22241b00cce\">\n",
              "    <div class=\"colab-df-container\">\n",
              "      <div>\n",
              "<style scoped>\n",
              "    .dataframe tbody tr th:only-of-type {\n",
              "        vertical-align: middle;\n",
              "    }\n",
              "\n",
              "    .dataframe tbody tr th {\n",
              "        vertical-align: top;\n",
              "    }\n",
              "\n",
              "    .dataframe thead th {\n",
              "        text-align: right;\n",
              "    }\n",
              "</style>\n",
              "<table border=\"1\" class=\"dataframe\">\n",
              "  <thead>\n",
              "    <tr style=\"text-align: right;\">\n",
              "      <th></th>\n",
              "      <th>alcalinidad</th>\n",
              "      <th>ph</th>\n",
              "      <th>calcio</th>\n",
              "      <th>clorofila</th>\n",
              "      <th>conc_mercurio</th>\n",
              "      <th>num_peces</th>\n",
              "      <th>min_conc_peces</th>\n",
              "      <th>max_conc_peces</th>\n",
              "      <th>estim_conc</th>\n",
              "    </tr>\n",
              "  </thead>\n",
              "  <tbody>\n",
              "    <tr>\n",
              "      <th>0</th>\n",
              "      <td>17.3</td>\n",
              "      <td>5.8</td>\n",
              "      <td>3.0</td>\n",
              "      <td>1.6</td>\n",
              "      <td>0.34</td>\n",
              "      <td>12.0</td>\n",
              "      <td>0.04</td>\n",
              "      <td>0.06</td>\n",
              "      <td>0.16</td>\n",
              "    </tr>\n",
              "    <tr>\n",
              "      <th>1</th>\n",
              "      <td>25.4</td>\n",
              "      <td>6.9</td>\n",
              "      <td>3.3</td>\n",
              "      <td>3.2</td>\n",
              "      <td>NaN</td>\n",
              "      <td>NaN</td>\n",
              "      <td>NaN</td>\n",
              "      <td>0.26</td>\n",
              "      <td>NaN</td>\n",
              "    </tr>\n",
              "    <tr>\n",
              "      <th>2</th>\n",
              "      <td>NaN</td>\n",
              "      <td>NaN</td>\n",
              "      <td>5.2</td>\n",
              "      <td>9.6</td>\n",
              "      <td>NaN</td>\n",
              "      <td>NaN</td>\n",
              "      <td>NaN</td>\n",
              "      <td>0.40</td>\n",
              "      <td>NaN</td>\n",
              "    </tr>\n",
              "    <tr>\n",
              "      <th>3</th>\n",
              "      <td>NaN</td>\n",
              "      <td>NaN</td>\n",
              "      <td>6.3</td>\n",
              "      <td>NaN</td>\n",
              "      <td>NaN</td>\n",
              "      <td>NaN</td>\n",
              "      <td>NaN</td>\n",
              "      <td>0.48</td>\n",
              "      <td>NaN</td>\n",
              "    </tr>\n",
              "    <tr>\n",
              "      <th>4</th>\n",
              "      <td>NaN</td>\n",
              "      <td>NaN</td>\n",
              "      <td>20.5</td>\n",
              "      <td>NaN</td>\n",
              "      <td>NaN</td>\n",
              "      <td>NaN</td>\n",
              "      <td>NaN</td>\n",
              "      <td>0.69</td>\n",
              "      <td>NaN</td>\n",
              "    </tr>\n",
              "    <tr>\n",
              "      <th>5</th>\n",
              "      <td>NaN</td>\n",
              "      <td>NaN</td>\n",
              "      <td>NaN</td>\n",
              "      <td>NaN</td>\n",
              "      <td>NaN</td>\n",
              "      <td>NaN</td>\n",
              "      <td>NaN</td>\n",
              "      <td>0.84</td>\n",
              "      <td>NaN</td>\n",
              "    </tr>\n",
              "    <tr>\n",
              "      <th>6</th>\n",
              "      <td>NaN</td>\n",
              "      <td>NaN</td>\n",
              "      <td>NaN</td>\n",
              "      <td>NaN</td>\n",
              "      <td>NaN</td>\n",
              "      <td>NaN</td>\n",
              "      <td>NaN</td>\n",
              "      <td>1.40</td>\n",
              "      <td>NaN</td>\n",
              "    </tr>\n",
              "    <tr>\n",
              "      <th>7</th>\n",
              "      <td>NaN</td>\n",
              "      <td>NaN</td>\n",
              "      <td>NaN</td>\n",
              "      <td>NaN</td>\n",
              "      <td>NaN</td>\n",
              "      <td>NaN</td>\n",
              "      <td>NaN</td>\n",
              "      <td>1.50</td>\n",
              "      <td>NaN</td>\n",
              "    </tr>\n",
              "    <tr>\n",
              "      <th>8</th>\n",
              "      <td>NaN</td>\n",
              "      <td>NaN</td>\n",
              "      <td>NaN</td>\n",
              "      <td>NaN</td>\n",
              "      <td>NaN</td>\n",
              "      <td>NaN</td>\n",
              "      <td>NaN</td>\n",
              "      <td>1.90</td>\n",
              "      <td>NaN</td>\n",
              "    </tr>\n",
              "  </tbody>\n",
              "</table>\n",
              "</div>\n",
              "      <button class=\"colab-df-convert\" onclick=\"convertToInteractive('df-aa548e20-3b59-4654-84b6-f22241b00cce')\"\n",
              "              title=\"Convert this dataframe to an interactive table.\"\n",
              "              style=\"display:none;\">\n",
              "        \n",
              "  <svg xmlns=\"http://www.w3.org/2000/svg\" height=\"24px\"viewBox=\"0 0 24 24\"\n",
              "       width=\"24px\">\n",
              "    <path d=\"M0 0h24v24H0V0z\" fill=\"none\"/>\n",
              "    <path d=\"M18.56 5.44l.94 2.06.94-2.06 2.06-.94-2.06-.94-.94-2.06-.94 2.06-2.06.94zm-11 1L8.5 8.5l.94-2.06 2.06-.94-2.06-.94L8.5 2.5l-.94 2.06-2.06.94zm10 10l.94 2.06.94-2.06 2.06-.94-2.06-.94-.94-2.06-.94 2.06-2.06.94z\"/><path d=\"M17.41 7.96l-1.37-1.37c-.4-.4-.92-.59-1.43-.59-.52 0-1.04.2-1.43.59L10.3 9.45l-7.72 7.72c-.78.78-.78 2.05 0 2.83L4 21.41c.39.39.9.59 1.41.59.51 0 1.02-.2 1.41-.59l7.78-7.78 2.81-2.81c.8-.78.8-2.07 0-2.86zM5.41 20L4 18.59l7.72-7.72 1.47 1.35L5.41 20z\"/>\n",
              "  </svg>\n",
              "      </button>\n",
              "      \n",
              "  <style>\n",
              "    .colab-df-container {\n",
              "      display:flex;\n",
              "      flex-wrap:wrap;\n",
              "      gap: 12px;\n",
              "    }\n",
              "\n",
              "    .colab-df-convert {\n",
              "      background-color: #E8F0FE;\n",
              "      border: none;\n",
              "      border-radius: 50%;\n",
              "      cursor: pointer;\n",
              "      display: none;\n",
              "      fill: #1967D2;\n",
              "      height: 32px;\n",
              "      padding: 0 0 0 0;\n",
              "      width: 32px;\n",
              "    }\n",
              "\n",
              "    .colab-df-convert:hover {\n",
              "      background-color: #E2EBFA;\n",
              "      box-shadow: 0px 1px 2px rgba(60, 64, 67, 0.3), 0px 1px 3px 1px rgba(60, 64, 67, 0.15);\n",
              "      fill: #174EA6;\n",
              "    }\n",
              "\n",
              "    [theme=dark] .colab-df-convert {\n",
              "      background-color: #3B4455;\n",
              "      fill: #D2E3FC;\n",
              "    }\n",
              "\n",
              "    [theme=dark] .colab-df-convert:hover {\n",
              "      background-color: #434B5C;\n",
              "      box-shadow: 0px 1px 3px 1px rgba(0, 0, 0, 0.15);\n",
              "      filter: drop-shadow(0px 1px 2px rgba(0, 0, 0, 0.3));\n",
              "      fill: #FFFFFF;\n",
              "    }\n",
              "  </style>\n",
              "\n",
              "      <script>\n",
              "        const buttonEl =\n",
              "          document.querySelector('#df-aa548e20-3b59-4654-84b6-f22241b00cce button.colab-df-convert');\n",
              "        buttonEl.style.display =\n",
              "          google.colab.kernel.accessAllowed ? 'block' : 'none';\n",
              "\n",
              "        async function convertToInteractive(key) {\n",
              "          const element = document.querySelector('#df-aa548e20-3b59-4654-84b6-f22241b00cce');\n",
              "          const dataTable =\n",
              "            await google.colab.kernel.invokeFunction('convertToInteractive',\n",
              "                                                     [key], {});\n",
              "          if (!dataTable) return;\n",
              "\n",
              "          const docLinkHtml = 'Like what you see? Visit the ' +\n",
              "            '<a target=\"_blank\" href=https://colab.research.google.com/notebooks/data_table.ipynb>data table notebook</a>'\n",
              "            + ' to learn more about interactive tables.';\n",
              "          element.innerHTML = '';\n",
              "          dataTable['output_type'] = 'display_data';\n",
              "          await google.colab.output.renderOutput(dataTable, element);\n",
              "          const docLink = document.createElement('div');\n",
              "          docLink.innerHTML = docLinkHtml;\n",
              "          element.appendChild(docLink);\n",
              "        }\n",
              "      </script>\n",
              "    </div>\n",
              "  </div>\n",
              "  "
            ]
          },
          "metadata": {},
          "execution_count": 141
        }
      ],
      "source": [
        "data[cuantitativas].mode()"
      ]
    },
    {
      "cell_type": "code",
      "source": [],
      "metadata": {
        "id": "7eD1AXxzfn9t"
      },
      "execution_count": 141,
      "outputs": []
    },
    {
      "cell_type": "markdown",
      "metadata": {
        "id": "8F5ap5WHM0Rz"
      },
      "source": [
        "####  Variables cualitativas\n",
        "* Tabla de distribución de frecuencia"
      ]
    },
    {
      "cell_type": "code",
      "execution_count": 142,
      "metadata": {
        "execution": {
          "iopub.execute_input": "2022-08-29T00:08:50.099749Z",
          "iopub.status.busy": "2022-08-29T00:08:50.099066Z",
          "iopub.status.idle": "2022-08-29T00:08:50.135417Z",
          "shell.execute_reply": "2022-08-29T00:08:50.133977Z",
          "shell.execute_reply.started": "2022-08-29T00:08:50.099681Z"
        },
        "trusted": true,
        "id": "4a0qQd42M0R0",
        "colab": {
          "base_uri": "https://localhost:8080/",
          "height": 1000
        },
        "outputId": "91ea3fd4-cf0e-4412-8238-4dcf2b0fa57f"
      },
      "outputs": [
        {
          "output_type": "execute_result",
          "data": {
            "text/plain": [
              "col_0              frequency\n",
              "nombre_lago                 \n",
              "Alligator                  1\n",
              "Annie                      1\n",
              "Apopka                     1\n",
              "Blue Cypress               1\n",
              "Brick                      1\n",
              "Bryant                     1\n",
              "Cherry                     1\n",
              "Crescent                   1\n",
              "Deer Point                 1\n",
              "Dias                       1\n",
              "Dorr                       1\n",
              "Down                       1\n",
              "East Tohopekaliga          1\n",
              "Eaton                      1\n",
              "Farm-13                    1\n",
              "George                     1\n",
              "Griffin                    1\n",
              "Harney                     1\n",
              "Hart                       1\n",
              "Hatchineha                 1\n",
              "Iamonia                    1\n",
              "Istokpoga                  1\n",
              "Jackson                    1\n",
              "Josephine                  1\n",
              "Kingsley                   1\n",
              "Kissimmee                  1\n",
              "Lochloosa                  1\n",
              "Louisa                     1\n",
              "Miccasukee                 1\n",
              "Minneola                   1\n",
              "Monroe                     1\n",
              "Newmans                    1\n",
              "Ocean Pond                 1\n",
              "Ocheese Pond               1\n",
              "Okeechobee                 1\n",
              "Orange                     1\n",
              "Panasoffkee                1\n",
              "Parker                     1\n",
              "Placid                     1\n",
              "Puzzle                     1\n",
              "Rodman                     1\n",
              "Rousseau                   1\n",
              "Sampson                    1\n",
              "Shipp                      1\n",
              "Talquin                    1\n",
              "Tarpon                     1\n",
              "Tohopekaliga               1\n",
              "Trafford                   1\n",
              "Trout                      1\n",
              "Tsala Apopka               1\n",
              "Weir                       1\n",
              "Wildcat                    1\n",
              "Yale                       1"
            ],
            "text/html": [
              "\n",
              "  <div id=\"df-29615ef4-6d45-441e-8c95-ac5d7b34bb52\">\n",
              "    <div class=\"colab-df-container\">\n",
              "      <div>\n",
              "<style scoped>\n",
              "    .dataframe tbody tr th:only-of-type {\n",
              "        vertical-align: middle;\n",
              "    }\n",
              "\n",
              "    .dataframe tbody tr th {\n",
              "        vertical-align: top;\n",
              "    }\n",
              "\n",
              "    .dataframe thead th {\n",
              "        text-align: right;\n",
              "    }\n",
              "</style>\n",
              "<table border=\"1\" class=\"dataframe\">\n",
              "  <thead>\n",
              "    <tr style=\"text-align: right;\">\n",
              "      <th>col_0</th>\n",
              "      <th>frequency</th>\n",
              "    </tr>\n",
              "    <tr>\n",
              "      <th>nombre_lago</th>\n",
              "      <th></th>\n",
              "    </tr>\n",
              "  </thead>\n",
              "  <tbody>\n",
              "    <tr>\n",
              "      <th>Alligator</th>\n",
              "      <td>1</td>\n",
              "    </tr>\n",
              "    <tr>\n",
              "      <th>Annie</th>\n",
              "      <td>1</td>\n",
              "    </tr>\n",
              "    <tr>\n",
              "      <th>Apopka</th>\n",
              "      <td>1</td>\n",
              "    </tr>\n",
              "    <tr>\n",
              "      <th>Blue Cypress</th>\n",
              "      <td>1</td>\n",
              "    </tr>\n",
              "    <tr>\n",
              "      <th>Brick</th>\n",
              "      <td>1</td>\n",
              "    </tr>\n",
              "    <tr>\n",
              "      <th>Bryant</th>\n",
              "      <td>1</td>\n",
              "    </tr>\n",
              "    <tr>\n",
              "      <th>Cherry</th>\n",
              "      <td>1</td>\n",
              "    </tr>\n",
              "    <tr>\n",
              "      <th>Crescent</th>\n",
              "      <td>1</td>\n",
              "    </tr>\n",
              "    <tr>\n",
              "      <th>Deer Point</th>\n",
              "      <td>1</td>\n",
              "    </tr>\n",
              "    <tr>\n",
              "      <th>Dias</th>\n",
              "      <td>1</td>\n",
              "    </tr>\n",
              "    <tr>\n",
              "      <th>Dorr</th>\n",
              "      <td>1</td>\n",
              "    </tr>\n",
              "    <tr>\n",
              "      <th>Down</th>\n",
              "      <td>1</td>\n",
              "    </tr>\n",
              "    <tr>\n",
              "      <th>East Tohopekaliga</th>\n",
              "      <td>1</td>\n",
              "    </tr>\n",
              "    <tr>\n",
              "      <th>Eaton</th>\n",
              "      <td>1</td>\n",
              "    </tr>\n",
              "    <tr>\n",
              "      <th>Farm-13</th>\n",
              "      <td>1</td>\n",
              "    </tr>\n",
              "    <tr>\n",
              "      <th>George</th>\n",
              "      <td>1</td>\n",
              "    </tr>\n",
              "    <tr>\n",
              "      <th>Griffin</th>\n",
              "      <td>1</td>\n",
              "    </tr>\n",
              "    <tr>\n",
              "      <th>Harney</th>\n",
              "      <td>1</td>\n",
              "    </tr>\n",
              "    <tr>\n",
              "      <th>Hart</th>\n",
              "      <td>1</td>\n",
              "    </tr>\n",
              "    <tr>\n",
              "      <th>Hatchineha</th>\n",
              "      <td>1</td>\n",
              "    </tr>\n",
              "    <tr>\n",
              "      <th>Iamonia</th>\n",
              "      <td>1</td>\n",
              "    </tr>\n",
              "    <tr>\n",
              "      <th>Istokpoga</th>\n",
              "      <td>1</td>\n",
              "    </tr>\n",
              "    <tr>\n",
              "      <th>Jackson</th>\n",
              "      <td>1</td>\n",
              "    </tr>\n",
              "    <tr>\n",
              "      <th>Josephine</th>\n",
              "      <td>1</td>\n",
              "    </tr>\n",
              "    <tr>\n",
              "      <th>Kingsley</th>\n",
              "      <td>1</td>\n",
              "    </tr>\n",
              "    <tr>\n",
              "      <th>Kissimmee</th>\n",
              "      <td>1</td>\n",
              "    </tr>\n",
              "    <tr>\n",
              "      <th>Lochloosa</th>\n",
              "      <td>1</td>\n",
              "    </tr>\n",
              "    <tr>\n",
              "      <th>Louisa</th>\n",
              "      <td>1</td>\n",
              "    </tr>\n",
              "    <tr>\n",
              "      <th>Miccasukee</th>\n",
              "      <td>1</td>\n",
              "    </tr>\n",
              "    <tr>\n",
              "      <th>Minneola</th>\n",
              "      <td>1</td>\n",
              "    </tr>\n",
              "    <tr>\n",
              "      <th>Monroe</th>\n",
              "      <td>1</td>\n",
              "    </tr>\n",
              "    <tr>\n",
              "      <th>Newmans</th>\n",
              "      <td>1</td>\n",
              "    </tr>\n",
              "    <tr>\n",
              "      <th>Ocean Pond</th>\n",
              "      <td>1</td>\n",
              "    </tr>\n",
              "    <tr>\n",
              "      <th>Ocheese Pond</th>\n",
              "      <td>1</td>\n",
              "    </tr>\n",
              "    <tr>\n",
              "      <th>Okeechobee</th>\n",
              "      <td>1</td>\n",
              "    </tr>\n",
              "    <tr>\n",
              "      <th>Orange</th>\n",
              "      <td>1</td>\n",
              "    </tr>\n",
              "    <tr>\n",
              "      <th>Panasoffkee</th>\n",
              "      <td>1</td>\n",
              "    </tr>\n",
              "    <tr>\n",
              "      <th>Parker</th>\n",
              "      <td>1</td>\n",
              "    </tr>\n",
              "    <tr>\n",
              "      <th>Placid</th>\n",
              "      <td>1</td>\n",
              "    </tr>\n",
              "    <tr>\n",
              "      <th>Puzzle</th>\n",
              "      <td>1</td>\n",
              "    </tr>\n",
              "    <tr>\n",
              "      <th>Rodman</th>\n",
              "      <td>1</td>\n",
              "    </tr>\n",
              "    <tr>\n",
              "      <th>Rousseau</th>\n",
              "      <td>1</td>\n",
              "    </tr>\n",
              "    <tr>\n",
              "      <th>Sampson</th>\n",
              "      <td>1</td>\n",
              "    </tr>\n",
              "    <tr>\n",
              "      <th>Shipp</th>\n",
              "      <td>1</td>\n",
              "    </tr>\n",
              "    <tr>\n",
              "      <th>Talquin</th>\n",
              "      <td>1</td>\n",
              "    </tr>\n",
              "    <tr>\n",
              "      <th>Tarpon</th>\n",
              "      <td>1</td>\n",
              "    </tr>\n",
              "    <tr>\n",
              "      <th>Tohopekaliga</th>\n",
              "      <td>1</td>\n",
              "    </tr>\n",
              "    <tr>\n",
              "      <th>Trafford</th>\n",
              "      <td>1</td>\n",
              "    </tr>\n",
              "    <tr>\n",
              "      <th>Trout</th>\n",
              "      <td>1</td>\n",
              "    </tr>\n",
              "    <tr>\n",
              "      <th>Tsala Apopka</th>\n",
              "      <td>1</td>\n",
              "    </tr>\n",
              "    <tr>\n",
              "      <th>Weir</th>\n",
              "      <td>1</td>\n",
              "    </tr>\n",
              "    <tr>\n",
              "      <th>Wildcat</th>\n",
              "      <td>1</td>\n",
              "    </tr>\n",
              "    <tr>\n",
              "      <th>Yale</th>\n",
              "      <td>1</td>\n",
              "    </tr>\n",
              "  </tbody>\n",
              "</table>\n",
              "</div>\n",
              "      <button class=\"colab-df-convert\" onclick=\"convertToInteractive('df-29615ef4-6d45-441e-8c95-ac5d7b34bb52')\"\n",
              "              title=\"Convert this dataframe to an interactive table.\"\n",
              "              style=\"display:none;\">\n",
              "        \n",
              "  <svg xmlns=\"http://www.w3.org/2000/svg\" height=\"24px\"viewBox=\"0 0 24 24\"\n",
              "       width=\"24px\">\n",
              "    <path d=\"M0 0h24v24H0V0z\" fill=\"none\"/>\n",
              "    <path d=\"M18.56 5.44l.94 2.06.94-2.06 2.06-.94-2.06-.94-.94-2.06-.94 2.06-2.06.94zm-11 1L8.5 8.5l.94-2.06 2.06-.94-2.06-.94L8.5 2.5l-.94 2.06-2.06.94zm10 10l.94 2.06.94-2.06 2.06-.94-2.06-.94-.94-2.06-.94 2.06-2.06.94z\"/><path d=\"M17.41 7.96l-1.37-1.37c-.4-.4-.92-.59-1.43-.59-.52 0-1.04.2-1.43.59L10.3 9.45l-7.72 7.72c-.78.78-.78 2.05 0 2.83L4 21.41c.39.39.9.59 1.41.59.51 0 1.02-.2 1.41-.59l7.78-7.78 2.81-2.81c.8-.78.8-2.07 0-2.86zM5.41 20L4 18.59l7.72-7.72 1.47 1.35L5.41 20z\"/>\n",
              "  </svg>\n",
              "      </button>\n",
              "      \n",
              "  <style>\n",
              "    .colab-df-container {\n",
              "      display:flex;\n",
              "      flex-wrap:wrap;\n",
              "      gap: 12px;\n",
              "    }\n",
              "\n",
              "    .colab-df-convert {\n",
              "      background-color: #E8F0FE;\n",
              "      border: none;\n",
              "      border-radius: 50%;\n",
              "      cursor: pointer;\n",
              "      display: none;\n",
              "      fill: #1967D2;\n",
              "      height: 32px;\n",
              "      padding: 0 0 0 0;\n",
              "      width: 32px;\n",
              "    }\n",
              "\n",
              "    .colab-df-convert:hover {\n",
              "      background-color: #E2EBFA;\n",
              "      box-shadow: 0px 1px 2px rgba(60, 64, 67, 0.3), 0px 1px 3px 1px rgba(60, 64, 67, 0.15);\n",
              "      fill: #174EA6;\n",
              "    }\n",
              "\n",
              "    [theme=dark] .colab-df-convert {\n",
              "      background-color: #3B4455;\n",
              "      fill: #D2E3FC;\n",
              "    }\n",
              "\n",
              "    [theme=dark] .colab-df-convert:hover {\n",
              "      background-color: #434B5C;\n",
              "      box-shadow: 0px 1px 3px 1px rgba(0, 0, 0, 0.15);\n",
              "      filter: drop-shadow(0px 1px 2px rgba(0, 0, 0, 0.3));\n",
              "      fill: #FFFFFF;\n",
              "    }\n",
              "  </style>\n",
              "\n",
              "      <script>\n",
              "        const buttonEl =\n",
              "          document.querySelector('#df-29615ef4-6d45-441e-8c95-ac5d7b34bb52 button.colab-df-convert');\n",
              "        buttonEl.style.display =\n",
              "          google.colab.kernel.accessAllowed ? 'block' : 'none';\n",
              "\n",
              "        async function convertToInteractive(key) {\n",
              "          const element = document.querySelector('#df-29615ef4-6d45-441e-8c95-ac5d7b34bb52');\n",
              "          const dataTable =\n",
              "            await google.colab.kernel.invokeFunction('convertToInteractive',\n",
              "                                                     [key], {});\n",
              "          if (!dataTable) return;\n",
              "\n",
              "          const docLinkHtml = 'Like what you see? Visit the ' +\n",
              "            '<a target=\"_blank\" href=https://colab.research.google.com/notebooks/data_table.ipynb>data table notebook</a>'\n",
              "            + ' to learn more about interactive tables.';\n",
              "          element.innerHTML = '';\n",
              "          dataTable['output_type'] = 'display_data';\n",
              "          await google.colab.output.renderOutput(dataTable, element);\n",
              "          const docLink = document.createElement('div');\n",
              "          docLink.innerHTML = docLinkHtml;\n",
              "          element.appendChild(docLink);\n",
              "        }\n",
              "      </script>\n",
              "    </div>\n",
              "  </div>\n",
              "  "
            ]
          },
          "metadata": {},
          "execution_count": 142
        }
      ],
      "source": [
        "pd.crosstab(data[\"nombre_lago\"], 'frequency')"
      ]
    },
    {
      "cell_type": "code",
      "execution_count": 143,
      "metadata": {
        "execution": {
          "iopub.execute_input": "2022-08-29T00:08:50.141968Z",
          "iopub.status.busy": "2022-08-29T00:08:50.141532Z",
          "iopub.status.idle": "2022-08-29T00:08:50.168541Z",
          "shell.execute_reply": "2022-08-29T00:08:50.167141Z",
          "shell.execute_reply.started": "2022-08-29T00:08:50.141932Z"
        },
        "trusted": true,
        "id": "38lqxv0GM0R0",
        "colab": {
          "base_uri": "https://localhost:8080/",
          "height": 143
        },
        "outputId": "28393c7e-8248-43cd-9650-8d44c2504eb8"
      },
      "outputs": [
        {
          "output_type": "execute_result",
          "data": {
            "text/plain": [
              "col_0  frequency\n",
              "edad            \n",
              "0             10\n",
              "1             43"
            ],
            "text/html": [
              "\n",
              "  <div id=\"df-f4fbe260-ccab-451b-a807-498d2393a14b\">\n",
              "    <div class=\"colab-df-container\">\n",
              "      <div>\n",
              "<style scoped>\n",
              "    .dataframe tbody tr th:only-of-type {\n",
              "        vertical-align: middle;\n",
              "    }\n",
              "\n",
              "    .dataframe tbody tr th {\n",
              "        vertical-align: top;\n",
              "    }\n",
              "\n",
              "    .dataframe thead th {\n",
              "        text-align: right;\n",
              "    }\n",
              "</style>\n",
              "<table border=\"1\" class=\"dataframe\">\n",
              "  <thead>\n",
              "    <tr style=\"text-align: right;\">\n",
              "      <th>col_0</th>\n",
              "      <th>frequency</th>\n",
              "    </tr>\n",
              "    <tr>\n",
              "      <th>edad</th>\n",
              "      <th></th>\n",
              "    </tr>\n",
              "  </thead>\n",
              "  <tbody>\n",
              "    <tr>\n",
              "      <th>0</th>\n",
              "      <td>10</td>\n",
              "    </tr>\n",
              "    <tr>\n",
              "      <th>1</th>\n",
              "      <td>43</td>\n",
              "    </tr>\n",
              "  </tbody>\n",
              "</table>\n",
              "</div>\n",
              "      <button class=\"colab-df-convert\" onclick=\"convertToInteractive('df-f4fbe260-ccab-451b-a807-498d2393a14b')\"\n",
              "              title=\"Convert this dataframe to an interactive table.\"\n",
              "              style=\"display:none;\">\n",
              "        \n",
              "  <svg xmlns=\"http://www.w3.org/2000/svg\" height=\"24px\"viewBox=\"0 0 24 24\"\n",
              "       width=\"24px\">\n",
              "    <path d=\"M0 0h24v24H0V0z\" fill=\"none\"/>\n",
              "    <path d=\"M18.56 5.44l.94 2.06.94-2.06 2.06-.94-2.06-.94-.94-2.06-.94 2.06-2.06.94zm-11 1L8.5 8.5l.94-2.06 2.06-.94-2.06-.94L8.5 2.5l-.94 2.06-2.06.94zm10 10l.94 2.06.94-2.06 2.06-.94-2.06-.94-.94-2.06-.94 2.06-2.06.94z\"/><path d=\"M17.41 7.96l-1.37-1.37c-.4-.4-.92-.59-1.43-.59-.52 0-1.04.2-1.43.59L10.3 9.45l-7.72 7.72c-.78.78-.78 2.05 0 2.83L4 21.41c.39.39.9.59 1.41.59.51 0 1.02-.2 1.41-.59l7.78-7.78 2.81-2.81c.8-.78.8-2.07 0-2.86zM5.41 20L4 18.59l7.72-7.72 1.47 1.35L5.41 20z\"/>\n",
              "  </svg>\n",
              "      </button>\n",
              "      \n",
              "  <style>\n",
              "    .colab-df-container {\n",
              "      display:flex;\n",
              "      flex-wrap:wrap;\n",
              "      gap: 12px;\n",
              "    }\n",
              "\n",
              "    .colab-df-convert {\n",
              "      background-color: #E8F0FE;\n",
              "      border: none;\n",
              "      border-radius: 50%;\n",
              "      cursor: pointer;\n",
              "      display: none;\n",
              "      fill: #1967D2;\n",
              "      height: 32px;\n",
              "      padding: 0 0 0 0;\n",
              "      width: 32px;\n",
              "    }\n",
              "\n",
              "    .colab-df-convert:hover {\n",
              "      background-color: #E2EBFA;\n",
              "      box-shadow: 0px 1px 2px rgba(60, 64, 67, 0.3), 0px 1px 3px 1px rgba(60, 64, 67, 0.15);\n",
              "      fill: #174EA6;\n",
              "    }\n",
              "\n",
              "    [theme=dark] .colab-df-convert {\n",
              "      background-color: #3B4455;\n",
              "      fill: #D2E3FC;\n",
              "    }\n",
              "\n",
              "    [theme=dark] .colab-df-convert:hover {\n",
              "      background-color: #434B5C;\n",
              "      box-shadow: 0px 1px 3px 1px rgba(0, 0, 0, 0.15);\n",
              "      filter: drop-shadow(0px 1px 2px rgba(0, 0, 0, 0.3));\n",
              "      fill: #FFFFFF;\n",
              "    }\n",
              "  </style>\n",
              "\n",
              "      <script>\n",
              "        const buttonEl =\n",
              "          document.querySelector('#df-f4fbe260-ccab-451b-a807-498d2393a14b button.colab-df-convert');\n",
              "        buttonEl.style.display =\n",
              "          google.colab.kernel.accessAllowed ? 'block' : 'none';\n",
              "\n",
              "        async function convertToInteractive(key) {\n",
              "          const element = document.querySelector('#df-f4fbe260-ccab-451b-a807-498d2393a14b');\n",
              "          const dataTable =\n",
              "            await google.colab.kernel.invokeFunction('convertToInteractive',\n",
              "                                                     [key], {});\n",
              "          if (!dataTable) return;\n",
              "\n",
              "          const docLinkHtml = 'Like what you see? Visit the ' +\n",
              "            '<a target=\"_blank\" href=https://colab.research.google.com/notebooks/data_table.ipynb>data table notebook</a>'\n",
              "            + ' to learn more about interactive tables.';\n",
              "          element.innerHTML = '';\n",
              "          dataTable['output_type'] = 'display_data';\n",
              "          await google.colab.output.renderOutput(dataTable, element);\n",
              "          const docLink = document.createElement('div');\n",
              "          docLink.innerHTML = docLinkHtml;\n",
              "          element.appendChild(docLink);\n",
              "        }\n",
              "      </script>\n",
              "    </div>\n",
              "  </div>\n",
              "  "
            ]
          },
          "metadata": {},
          "execution_count": 143
        }
      ],
      "source": [
        "pd.crosstab(data[\"edad\"], 'frequency')"
      ]
    },
    {
      "cell_type": "markdown",
      "metadata": {
        "id": "DFqR240uM0R6"
      },
      "source": [
        "* Moda\n"
      ]
    },
    {
      "cell_type": "code",
      "execution_count": 144,
      "metadata": {
        "execution": {
          "iopub.execute_input": "2022-08-29T00:08:50.379138Z",
          "iopub.status.busy": "2022-08-29T00:08:50.377803Z",
          "iopub.status.idle": "2022-08-29T00:08:50.400397Z",
          "shell.execute_reply": "2022-08-29T00:08:50.399200Z",
          "shell.execute_reply.started": "2022-08-29T00:08:50.379084Z"
        },
        "trusted": true,
        "id": "y1ozYLKNM0R6",
        "colab": {
          "base_uri": "https://localhost:8080/",
          "height": 1000
        },
        "outputId": "c758b262-73b0-4a74-c27e-5885f12dbbda"
      },
      "outputs": [
        {
          "output_type": "execute_result",
          "data": {
            "text/plain": [
              "          nombre_lago  edad\n",
              "0           Alligator   1.0\n",
              "1               Annie   NaN\n",
              "2              Apopka   NaN\n",
              "3        Blue Cypress   NaN\n",
              "4               Brick   NaN\n",
              "5              Bryant   NaN\n",
              "6              Cherry   NaN\n",
              "7            Crescent   NaN\n",
              "8          Deer Point   NaN\n",
              "9                Dias   NaN\n",
              "10               Dorr   NaN\n",
              "11               Down   NaN\n",
              "12  East Tohopekaliga   NaN\n",
              "13              Eaton   NaN\n",
              "14            Farm-13   NaN\n",
              "15             George   NaN\n",
              "16            Griffin   NaN\n",
              "17             Harney   NaN\n",
              "18               Hart   NaN\n",
              "19         Hatchineha   NaN\n",
              "20            Iamonia   NaN\n",
              "21          Istokpoga   NaN\n",
              "22            Jackson   NaN\n",
              "23          Josephine   NaN\n",
              "24           Kingsley   NaN\n",
              "25          Kissimmee   NaN\n",
              "26          Lochloosa   NaN\n",
              "27             Louisa   NaN\n",
              "28         Miccasukee   NaN\n",
              "29           Minneola   NaN\n",
              "30             Monroe   NaN\n",
              "31            Newmans   NaN\n",
              "32         Ocean Pond   NaN\n",
              "33       Ocheese Pond   NaN\n",
              "34         Okeechobee   NaN\n",
              "35             Orange   NaN\n",
              "36        Panasoffkee   NaN\n",
              "37             Parker   NaN\n",
              "38             Placid   NaN\n",
              "39             Puzzle   NaN\n",
              "40             Rodman   NaN\n",
              "41           Rousseau   NaN\n",
              "42            Sampson   NaN\n",
              "43              Shipp   NaN\n",
              "44            Talquin   NaN\n",
              "45             Tarpon   NaN\n",
              "46       Tohopekaliga   NaN\n",
              "47           Trafford   NaN\n",
              "48              Trout   NaN\n",
              "49       Tsala Apopka   NaN\n",
              "50               Weir   NaN\n",
              "51            Wildcat   NaN\n",
              "52               Yale   NaN"
            ],
            "text/html": [
              "\n",
              "  <div id=\"df-59811ea2-8f7a-4f5b-92ab-62e36878b5da\">\n",
              "    <div class=\"colab-df-container\">\n",
              "      <div>\n",
              "<style scoped>\n",
              "    .dataframe tbody tr th:only-of-type {\n",
              "        vertical-align: middle;\n",
              "    }\n",
              "\n",
              "    .dataframe tbody tr th {\n",
              "        vertical-align: top;\n",
              "    }\n",
              "\n",
              "    .dataframe thead th {\n",
              "        text-align: right;\n",
              "    }\n",
              "</style>\n",
              "<table border=\"1\" class=\"dataframe\">\n",
              "  <thead>\n",
              "    <tr style=\"text-align: right;\">\n",
              "      <th></th>\n",
              "      <th>nombre_lago</th>\n",
              "      <th>edad</th>\n",
              "    </tr>\n",
              "  </thead>\n",
              "  <tbody>\n",
              "    <tr>\n",
              "      <th>0</th>\n",
              "      <td>Alligator</td>\n",
              "      <td>1.0</td>\n",
              "    </tr>\n",
              "    <tr>\n",
              "      <th>1</th>\n",
              "      <td>Annie</td>\n",
              "      <td>NaN</td>\n",
              "    </tr>\n",
              "    <tr>\n",
              "      <th>2</th>\n",
              "      <td>Apopka</td>\n",
              "      <td>NaN</td>\n",
              "    </tr>\n",
              "    <tr>\n",
              "      <th>3</th>\n",
              "      <td>Blue Cypress</td>\n",
              "      <td>NaN</td>\n",
              "    </tr>\n",
              "    <tr>\n",
              "      <th>4</th>\n",
              "      <td>Brick</td>\n",
              "      <td>NaN</td>\n",
              "    </tr>\n",
              "    <tr>\n",
              "      <th>5</th>\n",
              "      <td>Bryant</td>\n",
              "      <td>NaN</td>\n",
              "    </tr>\n",
              "    <tr>\n",
              "      <th>6</th>\n",
              "      <td>Cherry</td>\n",
              "      <td>NaN</td>\n",
              "    </tr>\n",
              "    <tr>\n",
              "      <th>7</th>\n",
              "      <td>Crescent</td>\n",
              "      <td>NaN</td>\n",
              "    </tr>\n",
              "    <tr>\n",
              "      <th>8</th>\n",
              "      <td>Deer Point</td>\n",
              "      <td>NaN</td>\n",
              "    </tr>\n",
              "    <tr>\n",
              "      <th>9</th>\n",
              "      <td>Dias</td>\n",
              "      <td>NaN</td>\n",
              "    </tr>\n",
              "    <tr>\n",
              "      <th>10</th>\n",
              "      <td>Dorr</td>\n",
              "      <td>NaN</td>\n",
              "    </tr>\n",
              "    <tr>\n",
              "      <th>11</th>\n",
              "      <td>Down</td>\n",
              "      <td>NaN</td>\n",
              "    </tr>\n",
              "    <tr>\n",
              "      <th>12</th>\n",
              "      <td>East Tohopekaliga</td>\n",
              "      <td>NaN</td>\n",
              "    </tr>\n",
              "    <tr>\n",
              "      <th>13</th>\n",
              "      <td>Eaton</td>\n",
              "      <td>NaN</td>\n",
              "    </tr>\n",
              "    <tr>\n",
              "      <th>14</th>\n",
              "      <td>Farm-13</td>\n",
              "      <td>NaN</td>\n",
              "    </tr>\n",
              "    <tr>\n",
              "      <th>15</th>\n",
              "      <td>George</td>\n",
              "      <td>NaN</td>\n",
              "    </tr>\n",
              "    <tr>\n",
              "      <th>16</th>\n",
              "      <td>Griffin</td>\n",
              "      <td>NaN</td>\n",
              "    </tr>\n",
              "    <tr>\n",
              "      <th>17</th>\n",
              "      <td>Harney</td>\n",
              "      <td>NaN</td>\n",
              "    </tr>\n",
              "    <tr>\n",
              "      <th>18</th>\n",
              "      <td>Hart</td>\n",
              "      <td>NaN</td>\n",
              "    </tr>\n",
              "    <tr>\n",
              "      <th>19</th>\n",
              "      <td>Hatchineha</td>\n",
              "      <td>NaN</td>\n",
              "    </tr>\n",
              "    <tr>\n",
              "      <th>20</th>\n",
              "      <td>Iamonia</td>\n",
              "      <td>NaN</td>\n",
              "    </tr>\n",
              "    <tr>\n",
              "      <th>21</th>\n",
              "      <td>Istokpoga</td>\n",
              "      <td>NaN</td>\n",
              "    </tr>\n",
              "    <tr>\n",
              "      <th>22</th>\n",
              "      <td>Jackson</td>\n",
              "      <td>NaN</td>\n",
              "    </tr>\n",
              "    <tr>\n",
              "      <th>23</th>\n",
              "      <td>Josephine</td>\n",
              "      <td>NaN</td>\n",
              "    </tr>\n",
              "    <tr>\n",
              "      <th>24</th>\n",
              "      <td>Kingsley</td>\n",
              "      <td>NaN</td>\n",
              "    </tr>\n",
              "    <tr>\n",
              "      <th>25</th>\n",
              "      <td>Kissimmee</td>\n",
              "      <td>NaN</td>\n",
              "    </tr>\n",
              "    <tr>\n",
              "      <th>26</th>\n",
              "      <td>Lochloosa</td>\n",
              "      <td>NaN</td>\n",
              "    </tr>\n",
              "    <tr>\n",
              "      <th>27</th>\n",
              "      <td>Louisa</td>\n",
              "      <td>NaN</td>\n",
              "    </tr>\n",
              "    <tr>\n",
              "      <th>28</th>\n",
              "      <td>Miccasukee</td>\n",
              "      <td>NaN</td>\n",
              "    </tr>\n",
              "    <tr>\n",
              "      <th>29</th>\n",
              "      <td>Minneola</td>\n",
              "      <td>NaN</td>\n",
              "    </tr>\n",
              "    <tr>\n",
              "      <th>30</th>\n",
              "      <td>Monroe</td>\n",
              "      <td>NaN</td>\n",
              "    </tr>\n",
              "    <tr>\n",
              "      <th>31</th>\n",
              "      <td>Newmans</td>\n",
              "      <td>NaN</td>\n",
              "    </tr>\n",
              "    <tr>\n",
              "      <th>32</th>\n",
              "      <td>Ocean Pond</td>\n",
              "      <td>NaN</td>\n",
              "    </tr>\n",
              "    <tr>\n",
              "      <th>33</th>\n",
              "      <td>Ocheese Pond</td>\n",
              "      <td>NaN</td>\n",
              "    </tr>\n",
              "    <tr>\n",
              "      <th>34</th>\n",
              "      <td>Okeechobee</td>\n",
              "      <td>NaN</td>\n",
              "    </tr>\n",
              "    <tr>\n",
              "      <th>35</th>\n",
              "      <td>Orange</td>\n",
              "      <td>NaN</td>\n",
              "    </tr>\n",
              "    <tr>\n",
              "      <th>36</th>\n",
              "      <td>Panasoffkee</td>\n",
              "      <td>NaN</td>\n",
              "    </tr>\n",
              "    <tr>\n",
              "      <th>37</th>\n",
              "      <td>Parker</td>\n",
              "      <td>NaN</td>\n",
              "    </tr>\n",
              "    <tr>\n",
              "      <th>38</th>\n",
              "      <td>Placid</td>\n",
              "      <td>NaN</td>\n",
              "    </tr>\n",
              "    <tr>\n",
              "      <th>39</th>\n",
              "      <td>Puzzle</td>\n",
              "      <td>NaN</td>\n",
              "    </tr>\n",
              "    <tr>\n",
              "      <th>40</th>\n",
              "      <td>Rodman</td>\n",
              "      <td>NaN</td>\n",
              "    </tr>\n",
              "    <tr>\n",
              "      <th>41</th>\n",
              "      <td>Rousseau</td>\n",
              "      <td>NaN</td>\n",
              "    </tr>\n",
              "    <tr>\n",
              "      <th>42</th>\n",
              "      <td>Sampson</td>\n",
              "      <td>NaN</td>\n",
              "    </tr>\n",
              "    <tr>\n",
              "      <th>43</th>\n",
              "      <td>Shipp</td>\n",
              "      <td>NaN</td>\n",
              "    </tr>\n",
              "    <tr>\n",
              "      <th>44</th>\n",
              "      <td>Talquin</td>\n",
              "      <td>NaN</td>\n",
              "    </tr>\n",
              "    <tr>\n",
              "      <th>45</th>\n",
              "      <td>Tarpon</td>\n",
              "      <td>NaN</td>\n",
              "    </tr>\n",
              "    <tr>\n",
              "      <th>46</th>\n",
              "      <td>Tohopekaliga</td>\n",
              "      <td>NaN</td>\n",
              "    </tr>\n",
              "    <tr>\n",
              "      <th>47</th>\n",
              "      <td>Trafford</td>\n",
              "      <td>NaN</td>\n",
              "    </tr>\n",
              "    <tr>\n",
              "      <th>48</th>\n",
              "      <td>Trout</td>\n",
              "      <td>NaN</td>\n",
              "    </tr>\n",
              "    <tr>\n",
              "      <th>49</th>\n",
              "      <td>Tsala Apopka</td>\n",
              "      <td>NaN</td>\n",
              "    </tr>\n",
              "    <tr>\n",
              "      <th>50</th>\n",
              "      <td>Weir</td>\n",
              "      <td>NaN</td>\n",
              "    </tr>\n",
              "    <tr>\n",
              "      <th>51</th>\n",
              "      <td>Wildcat</td>\n",
              "      <td>NaN</td>\n",
              "    </tr>\n",
              "    <tr>\n",
              "      <th>52</th>\n",
              "      <td>Yale</td>\n",
              "      <td>NaN</td>\n",
              "    </tr>\n",
              "  </tbody>\n",
              "</table>\n",
              "</div>\n",
              "      <button class=\"colab-df-convert\" onclick=\"convertToInteractive('df-59811ea2-8f7a-4f5b-92ab-62e36878b5da')\"\n",
              "              title=\"Convert this dataframe to an interactive table.\"\n",
              "              style=\"display:none;\">\n",
              "        \n",
              "  <svg xmlns=\"http://www.w3.org/2000/svg\" height=\"24px\"viewBox=\"0 0 24 24\"\n",
              "       width=\"24px\">\n",
              "    <path d=\"M0 0h24v24H0V0z\" fill=\"none\"/>\n",
              "    <path d=\"M18.56 5.44l.94 2.06.94-2.06 2.06-.94-2.06-.94-.94-2.06-.94 2.06-2.06.94zm-11 1L8.5 8.5l.94-2.06 2.06-.94-2.06-.94L8.5 2.5l-.94 2.06-2.06.94zm10 10l.94 2.06.94-2.06 2.06-.94-2.06-.94-.94-2.06-.94 2.06-2.06.94z\"/><path d=\"M17.41 7.96l-1.37-1.37c-.4-.4-.92-.59-1.43-.59-.52 0-1.04.2-1.43.59L10.3 9.45l-7.72 7.72c-.78.78-.78 2.05 0 2.83L4 21.41c.39.39.9.59 1.41.59.51 0 1.02-.2 1.41-.59l7.78-7.78 2.81-2.81c.8-.78.8-2.07 0-2.86zM5.41 20L4 18.59l7.72-7.72 1.47 1.35L5.41 20z\"/>\n",
              "  </svg>\n",
              "      </button>\n",
              "      \n",
              "  <style>\n",
              "    .colab-df-container {\n",
              "      display:flex;\n",
              "      flex-wrap:wrap;\n",
              "      gap: 12px;\n",
              "    }\n",
              "\n",
              "    .colab-df-convert {\n",
              "      background-color: #E8F0FE;\n",
              "      border: none;\n",
              "      border-radius: 50%;\n",
              "      cursor: pointer;\n",
              "      display: none;\n",
              "      fill: #1967D2;\n",
              "      height: 32px;\n",
              "      padding: 0 0 0 0;\n",
              "      width: 32px;\n",
              "    }\n",
              "\n",
              "    .colab-df-convert:hover {\n",
              "      background-color: #E2EBFA;\n",
              "      box-shadow: 0px 1px 2px rgba(60, 64, 67, 0.3), 0px 1px 3px 1px rgba(60, 64, 67, 0.15);\n",
              "      fill: #174EA6;\n",
              "    }\n",
              "\n",
              "    [theme=dark] .colab-df-convert {\n",
              "      background-color: #3B4455;\n",
              "      fill: #D2E3FC;\n",
              "    }\n",
              "\n",
              "    [theme=dark] .colab-df-convert:hover {\n",
              "      background-color: #434B5C;\n",
              "      box-shadow: 0px 1px 3px 1px rgba(0, 0, 0, 0.15);\n",
              "      filter: drop-shadow(0px 1px 2px rgba(0, 0, 0, 0.3));\n",
              "      fill: #FFFFFF;\n",
              "    }\n",
              "  </style>\n",
              "\n",
              "      <script>\n",
              "        const buttonEl =\n",
              "          document.querySelector('#df-59811ea2-8f7a-4f5b-92ab-62e36878b5da button.colab-df-convert');\n",
              "        buttonEl.style.display =\n",
              "          google.colab.kernel.accessAllowed ? 'block' : 'none';\n",
              "\n",
              "        async function convertToInteractive(key) {\n",
              "          const element = document.querySelector('#df-59811ea2-8f7a-4f5b-92ab-62e36878b5da');\n",
              "          const dataTable =\n",
              "            await google.colab.kernel.invokeFunction('convertToInteractive',\n",
              "                                                     [key], {});\n",
              "          if (!dataTable) return;\n",
              "\n",
              "          const docLinkHtml = 'Like what you see? Visit the ' +\n",
              "            '<a target=\"_blank\" href=https://colab.research.google.com/notebooks/data_table.ipynb>data table notebook</a>'\n",
              "            + ' to learn more about interactive tables.';\n",
              "          element.innerHTML = '';\n",
              "          dataTable['output_type'] = 'display_data';\n",
              "          await google.colab.output.renderOutput(dataTable, element);\n",
              "          const docLink = document.createElement('div');\n",
              "          docLink.innerHTML = docLinkHtml;\n",
              "          element.appendChild(docLink);\n",
              "        }\n",
              "      </script>\n",
              "    </div>\n",
              "  </div>\n",
              "  "
            ]
          },
          "metadata": {},
          "execution_count": 144
        }
      ],
      "source": [
        "data[cualitativas].mode()"
      ]
    },
    {
      "cell_type": "markdown",
      "source": [
        "* Moda"
      ],
      "metadata": {
        "id": "4UKLZeO4uQBO"
      }
    },
    {
      "cell_type": "code",
      "source": [
        "data[cuantitativas].mode()"
      ],
      "metadata": {
        "colab": {
          "base_uri": "https://localhost:8080/",
          "height": 332
        },
        "id": "2lW8q6gzuPso",
        "outputId": "52e63d7e-dc90-4317-8955-f322ed3bb841"
      },
      "execution_count": 145,
      "outputs": [
        {
          "output_type": "execute_result",
          "data": {
            "text/plain": [
              "   alcalinidad   ph  calcio  clorofila  conc_mercurio  num_peces  \\\n",
              "0         17.3  5.8     3.0        1.6           0.34       12.0   \n",
              "1         25.4  6.9     3.3        3.2            NaN        NaN   \n",
              "2          NaN  NaN     5.2        9.6            NaN        NaN   \n",
              "3          NaN  NaN     6.3        NaN            NaN        NaN   \n",
              "4          NaN  NaN    20.5        NaN            NaN        NaN   \n",
              "5          NaN  NaN     NaN        NaN            NaN        NaN   \n",
              "6          NaN  NaN     NaN        NaN            NaN        NaN   \n",
              "7          NaN  NaN     NaN        NaN            NaN        NaN   \n",
              "8          NaN  NaN     NaN        NaN            NaN        NaN   \n",
              "\n",
              "   min_conc_peces  max_conc_peces  estim_conc  \n",
              "0            0.04            0.06        0.16  \n",
              "1             NaN            0.26         NaN  \n",
              "2             NaN            0.40         NaN  \n",
              "3             NaN            0.48         NaN  \n",
              "4             NaN            0.69         NaN  \n",
              "5             NaN            0.84         NaN  \n",
              "6             NaN            1.40         NaN  \n",
              "7             NaN            1.50         NaN  \n",
              "8             NaN            1.90         NaN  "
            ],
            "text/html": [
              "\n",
              "  <div id=\"df-78246f65-6e25-459c-bf79-5cb6418dc1fe\">\n",
              "    <div class=\"colab-df-container\">\n",
              "      <div>\n",
              "<style scoped>\n",
              "    .dataframe tbody tr th:only-of-type {\n",
              "        vertical-align: middle;\n",
              "    }\n",
              "\n",
              "    .dataframe tbody tr th {\n",
              "        vertical-align: top;\n",
              "    }\n",
              "\n",
              "    .dataframe thead th {\n",
              "        text-align: right;\n",
              "    }\n",
              "</style>\n",
              "<table border=\"1\" class=\"dataframe\">\n",
              "  <thead>\n",
              "    <tr style=\"text-align: right;\">\n",
              "      <th></th>\n",
              "      <th>alcalinidad</th>\n",
              "      <th>ph</th>\n",
              "      <th>calcio</th>\n",
              "      <th>clorofila</th>\n",
              "      <th>conc_mercurio</th>\n",
              "      <th>num_peces</th>\n",
              "      <th>min_conc_peces</th>\n",
              "      <th>max_conc_peces</th>\n",
              "      <th>estim_conc</th>\n",
              "    </tr>\n",
              "  </thead>\n",
              "  <tbody>\n",
              "    <tr>\n",
              "      <th>0</th>\n",
              "      <td>17.3</td>\n",
              "      <td>5.8</td>\n",
              "      <td>3.0</td>\n",
              "      <td>1.6</td>\n",
              "      <td>0.34</td>\n",
              "      <td>12.0</td>\n",
              "      <td>0.04</td>\n",
              "      <td>0.06</td>\n",
              "      <td>0.16</td>\n",
              "    </tr>\n",
              "    <tr>\n",
              "      <th>1</th>\n",
              "      <td>25.4</td>\n",
              "      <td>6.9</td>\n",
              "      <td>3.3</td>\n",
              "      <td>3.2</td>\n",
              "      <td>NaN</td>\n",
              "      <td>NaN</td>\n",
              "      <td>NaN</td>\n",
              "      <td>0.26</td>\n",
              "      <td>NaN</td>\n",
              "    </tr>\n",
              "    <tr>\n",
              "      <th>2</th>\n",
              "      <td>NaN</td>\n",
              "      <td>NaN</td>\n",
              "      <td>5.2</td>\n",
              "      <td>9.6</td>\n",
              "      <td>NaN</td>\n",
              "      <td>NaN</td>\n",
              "      <td>NaN</td>\n",
              "      <td>0.40</td>\n",
              "      <td>NaN</td>\n",
              "    </tr>\n",
              "    <tr>\n",
              "      <th>3</th>\n",
              "      <td>NaN</td>\n",
              "      <td>NaN</td>\n",
              "      <td>6.3</td>\n",
              "      <td>NaN</td>\n",
              "      <td>NaN</td>\n",
              "      <td>NaN</td>\n",
              "      <td>NaN</td>\n",
              "      <td>0.48</td>\n",
              "      <td>NaN</td>\n",
              "    </tr>\n",
              "    <tr>\n",
              "      <th>4</th>\n",
              "      <td>NaN</td>\n",
              "      <td>NaN</td>\n",
              "      <td>20.5</td>\n",
              "      <td>NaN</td>\n",
              "      <td>NaN</td>\n",
              "      <td>NaN</td>\n",
              "      <td>NaN</td>\n",
              "      <td>0.69</td>\n",
              "      <td>NaN</td>\n",
              "    </tr>\n",
              "    <tr>\n",
              "      <th>5</th>\n",
              "      <td>NaN</td>\n",
              "      <td>NaN</td>\n",
              "      <td>NaN</td>\n",
              "      <td>NaN</td>\n",
              "      <td>NaN</td>\n",
              "      <td>NaN</td>\n",
              "      <td>NaN</td>\n",
              "      <td>0.84</td>\n",
              "      <td>NaN</td>\n",
              "    </tr>\n",
              "    <tr>\n",
              "      <th>6</th>\n",
              "      <td>NaN</td>\n",
              "      <td>NaN</td>\n",
              "      <td>NaN</td>\n",
              "      <td>NaN</td>\n",
              "      <td>NaN</td>\n",
              "      <td>NaN</td>\n",
              "      <td>NaN</td>\n",
              "      <td>1.40</td>\n",
              "      <td>NaN</td>\n",
              "    </tr>\n",
              "    <tr>\n",
              "      <th>7</th>\n",
              "      <td>NaN</td>\n",
              "      <td>NaN</td>\n",
              "      <td>NaN</td>\n",
              "      <td>NaN</td>\n",
              "      <td>NaN</td>\n",
              "      <td>NaN</td>\n",
              "      <td>NaN</td>\n",
              "      <td>1.50</td>\n",
              "      <td>NaN</td>\n",
              "    </tr>\n",
              "    <tr>\n",
              "      <th>8</th>\n",
              "      <td>NaN</td>\n",
              "      <td>NaN</td>\n",
              "      <td>NaN</td>\n",
              "      <td>NaN</td>\n",
              "      <td>NaN</td>\n",
              "      <td>NaN</td>\n",
              "      <td>NaN</td>\n",
              "      <td>1.90</td>\n",
              "      <td>NaN</td>\n",
              "    </tr>\n",
              "  </tbody>\n",
              "</table>\n",
              "</div>\n",
              "      <button class=\"colab-df-convert\" onclick=\"convertToInteractive('df-78246f65-6e25-459c-bf79-5cb6418dc1fe')\"\n",
              "              title=\"Convert this dataframe to an interactive table.\"\n",
              "              style=\"display:none;\">\n",
              "        \n",
              "  <svg xmlns=\"http://www.w3.org/2000/svg\" height=\"24px\"viewBox=\"0 0 24 24\"\n",
              "       width=\"24px\">\n",
              "    <path d=\"M0 0h24v24H0V0z\" fill=\"none\"/>\n",
              "    <path d=\"M18.56 5.44l.94 2.06.94-2.06 2.06-.94-2.06-.94-.94-2.06-.94 2.06-2.06.94zm-11 1L8.5 8.5l.94-2.06 2.06-.94-2.06-.94L8.5 2.5l-.94 2.06-2.06.94zm10 10l.94 2.06.94-2.06 2.06-.94-2.06-.94-.94-2.06-.94 2.06-2.06.94z\"/><path d=\"M17.41 7.96l-1.37-1.37c-.4-.4-.92-.59-1.43-.59-.52 0-1.04.2-1.43.59L10.3 9.45l-7.72 7.72c-.78.78-.78 2.05 0 2.83L4 21.41c.39.39.9.59 1.41.59.51 0 1.02-.2 1.41-.59l7.78-7.78 2.81-2.81c.8-.78.8-2.07 0-2.86zM5.41 20L4 18.59l7.72-7.72 1.47 1.35L5.41 20z\"/>\n",
              "  </svg>\n",
              "      </button>\n",
              "      \n",
              "  <style>\n",
              "    .colab-df-container {\n",
              "      display:flex;\n",
              "      flex-wrap:wrap;\n",
              "      gap: 12px;\n",
              "    }\n",
              "\n",
              "    .colab-df-convert {\n",
              "      background-color: #E8F0FE;\n",
              "      border: none;\n",
              "      border-radius: 50%;\n",
              "      cursor: pointer;\n",
              "      display: none;\n",
              "      fill: #1967D2;\n",
              "      height: 32px;\n",
              "      padding: 0 0 0 0;\n",
              "      width: 32px;\n",
              "    }\n",
              "\n",
              "    .colab-df-convert:hover {\n",
              "      background-color: #E2EBFA;\n",
              "      box-shadow: 0px 1px 2px rgba(60, 64, 67, 0.3), 0px 1px 3px 1px rgba(60, 64, 67, 0.15);\n",
              "      fill: #174EA6;\n",
              "    }\n",
              "\n",
              "    [theme=dark] .colab-df-convert {\n",
              "      background-color: #3B4455;\n",
              "      fill: #D2E3FC;\n",
              "    }\n",
              "\n",
              "    [theme=dark] .colab-df-convert:hover {\n",
              "      background-color: #434B5C;\n",
              "      box-shadow: 0px 1px 3px 1px rgba(0, 0, 0, 0.15);\n",
              "      filter: drop-shadow(0px 1px 2px rgba(0, 0, 0, 0.3));\n",
              "      fill: #FFFFFF;\n",
              "    }\n",
              "  </style>\n",
              "\n",
              "      <script>\n",
              "        const buttonEl =\n",
              "          document.querySelector('#df-78246f65-6e25-459c-bf79-5cb6418dc1fe button.colab-df-convert');\n",
              "        buttonEl.style.display =\n",
              "          google.colab.kernel.accessAllowed ? 'block' : 'none';\n",
              "\n",
              "        async function convertToInteractive(key) {\n",
              "          const element = document.querySelector('#df-78246f65-6e25-459c-bf79-5cb6418dc1fe');\n",
              "          const dataTable =\n",
              "            await google.colab.kernel.invokeFunction('convertToInteractive',\n",
              "                                                     [key], {});\n",
              "          if (!dataTable) return;\n",
              "\n",
              "          const docLinkHtml = 'Like what you see? Visit the ' +\n",
              "            '<a target=\"_blank\" href=https://colab.research.google.com/notebooks/data_table.ipynb>data table notebook</a>'\n",
              "            + ' to learn more about interactive tables.';\n",
              "          element.innerHTML = '';\n",
              "          dataTable['output_type'] = 'display_data';\n",
              "          await google.colab.output.renderOutput(dataTable, element);\n",
              "          const docLink = document.createElement('div');\n",
              "          docLink.innerHTML = docLinkHtml;\n",
              "          element.appendChild(docLink);\n",
              "        }\n",
              "      </script>\n",
              "    </div>\n",
              "  </div>\n",
              "  "
            ]
          },
          "metadata": {},
          "execution_count": 145
        }
      ]
    },
    {
      "cell_type": "markdown",
      "source": [
        "\n",
        "**Observaciones**\n",
        "\n",
        "*   La mayoría de los peces son maduros.\n",
        "\n",
        "*   Todos los registros son de lagos distintos, a excepción de 1, por lo que podría ser que esta variable no sea tan significativa en la concentración media de mercurio en esta muestra, o en caso de ser significativa, la mejor decisión sería no incluirla en el modelo, pues se tendrían que obtener los datos dummys y eso añadiría 51 variables.\n",
        "\n"
      ],
      "metadata": {
        "id": "2RwKn3PJfpdR"
      }
    },
    {
      "cell_type": "markdown",
      "metadata": {
        "id": "GuQtA-etM0R7"
      },
      "source": [
        "### 2. Explora los datos usando herramientas de visualización "
      ]
    },
    {
      "cell_type": "markdown",
      "metadata": {
        "id": "AXlG--dLM0R8"
      },
      "source": [
        "#### Variables cuantitativas\n",
        "* Medidas de posición"
      ]
    },
    {
      "cell_type": "markdown",
      "source": [
        "cuantitativas = [\"alcalinidad\", \"ph\", \"calcio\", \"clorofila\", \"conc_mercurio\", \"num_peces\", \"min_conc_peces\", \"max_conc_peces\",\"estim_conc\"]\n",
        "cualitativas = [\"nombre_lago\", \"edad\"]"
      ],
      "metadata": {
        "id": "2MNkBBlSp-99"
      }
    },
    {
      "cell_type": "code",
      "execution_count": 146,
      "metadata": {
        "execution": {
          "iopub.execute_input": "2022-08-29T00:08:50.403209Z",
          "iopub.status.busy": "2022-08-29T00:08:50.402305Z",
          "iopub.status.idle": "2022-08-29T00:08:50.625494Z",
          "shell.execute_reply": "2022-08-29T00:08:50.624209Z",
          "shell.execute_reply.started": "2022-08-29T00:08:50.403160Z"
        },
        "trusted": true,
        "id": "ihsuYa2CM0R8",
        "colab": {
          "base_uri": "https://localhost:8080/",
          "height": 729
        },
        "outputId": "7b886a8c-d9e9-4983-9f45-19b1c8d06bd1"
      },
      "outputs": [
        {
          "output_type": "display_data",
          "data": {
            "text/plain": [
              "<Figure size 720x720 with 9 Axes>"
            ],
            "image/png": "[encoded data removed]"
          },
          "metadata": {
            "needs_background": "light"
          }
        }
      ],
      "source": [
        "\n",
        "fig, axes = plt.subplots(3,3, figsize=(10, 10))\n",
        "\n",
        "for i,el in enumerate(cuantitativas):\n",
        "    a = data.boxplot(el, ax=axes.flatten()[i])\n",
        "\n",
        "plt.tight_layout() \n",
        "\n",
        "plt.show()"
      ]
    },
    {
      "cell_type": "markdown",
      "source": [
        "\"\"\"Como primera observación, se encuentra que las columnas tienen escalas muy distintas, por lo que antes de entrenar cualquier modelo, va a ser necesario hacer un escalamiento de los datos.\"\"\"\n",
        "\n",
        "**Observaciones**\n",
        "\n",
        "\n",
        "*   En la mayoría de las variables los datos no se comportan de manera simétrica.\n",
        "\n",
        "*   Se observan outliers en las variables calcio, clorofila, número de peces, concentración mínima de mercurio, concentración maxima de mercurio y estimación de la concentración."
      ],
      "metadata": {
        "id": "lVJ_03z7ty5f"
      }
    },
    {
      "cell_type": "markdown",
      "metadata": {
        "id": "BP364zdPM0R9"
      },
      "source": [
        "* Outliers"
      ]
    },
    {
      "cell_type": "markdown",
      "source": [
        "A continuación se calcula el número de datos atípicos en cada variable y el valor de estos."
      ],
      "metadata": {
        "id": "7eb09L61aPe4"
      }
    },
    {
      "cell_type": "code",
      "execution_count": 147,
      "metadata": {
        "execution": {
          "iopub.execute_input": "2022-08-29T00:08:50.769165Z",
          "iopub.status.busy": "2022-08-29T00:08:50.768350Z",
          "iopub.status.idle": "2022-08-29T00:08:50.785516Z",
          "shell.execute_reply": "2022-08-29T00:08:50.783858Z",
          "shell.execute_reply.started": "2022-08-29T00:08:50.769114Z"
        },
        "trusted": true,
        "id": "OlWCCZHOM0R9",
        "colab": {
          "base_uri": "https://localhost:8080/",
          "height": 1000
        },
        "outputId": "e5b268f1-31ce-4243-d96a-14befcce5171"
      },
      "outputs": [
        {
          "output_type": "display_data",
          "data": {
            "text/plain": [
              "Empty DataFrame\n",
              "Columns: [alcalinidad]\n",
              "Index: []"
            ],
            "text/html": [
              "\n",
              "  <div id=\"df-c08de202-d593-49ad-b6b5-011d2735a079\">\n",
              "    <div class=\"colab-df-container\">\n",
              "      <div>\n",
              "<style scoped>\n",
              "    .dataframe tbody tr th:only-of-type {\n",
              "        vertical-align: middle;\n",
              "    }\n",
              "\n",
              "    .dataframe tbody tr th {\n",
              "        vertical-align: top;\n",
              "    }\n",
              "\n",
              "    .dataframe thead th {\n",
              "        text-align: right;\n",
              "    }\n",
              "</style>\n",
              "<table border=\"1\" class=\"dataframe\">\n",
              "  <thead>\n",
              "    <tr style=\"text-align: right;\">\n",
              "      <th></th>\n",
              "      <th>alcalinidad</th>\n",
              "    </tr>\n",
              "    <tr>\n",
              "      <th>X1</th>\n",
              "      <th></th>\n",
              "    </tr>\n",
              "  </thead>\n",
              "  <tbody>\n",
              "  </tbody>\n",
              "</table>\n",
              "</div>\n",
              "      <button class=\"colab-df-convert\" onclick=\"convertToInteractive('df-c08de202-d593-49ad-b6b5-011d2735a079')\"\n",
              "              title=\"Convert this dataframe to an interactive table.\"\n",
              "              style=\"display:none;\">\n",
              "        \n",
              "  <svg xmlns=\"http://www.w3.org/2000/svg\" height=\"24px\"viewBox=\"0 0 24 24\"\n",
              "       width=\"24px\">\n",
              "    <path d=\"M0 0h24v24H0V0z\" fill=\"none\"/>\n",
              "    <path d=\"M18.56 5.44l.94 2.06.94-2.06 2.06-.94-2.06-.94-.94-2.06-.94 2.06-2.06.94zm-11 1L8.5 8.5l.94-2.06 2.06-.94-2.06-.94L8.5 2.5l-.94 2.06-2.06.94zm10 10l.94 2.06.94-2.06 2.06-.94-2.06-.94-.94-2.06-.94 2.06-2.06.94z\"/><path d=\"M17.41 7.96l-1.37-1.37c-.4-.4-.92-.59-1.43-.59-.52 0-1.04.2-1.43.59L10.3 9.45l-7.72 7.72c-.78.78-.78 2.05 0 2.83L4 21.41c.39.39.9.59 1.41.59.51 0 1.02-.2 1.41-.59l7.78-7.78 2.81-2.81c.8-.78.8-2.07 0-2.86zM5.41 20L4 18.59l7.72-7.72 1.47 1.35L5.41 20z\"/>\n",
              "  </svg>\n",
              "      </button>\n",
              "      \n",
              "  <style>\n",
              "    .colab-df-container {\n",
              "      display:flex;\n",
              "      flex-wrap:wrap;\n",
              "      gap: 12px;\n",
              "    }\n",
              "\n",
              "    .colab-df-convert {\n",
              "      background-color: #E8F0FE;\n",
              "      border: none;\n",
              "      border-radius: 50%;\n",
              "      cursor: pointer;\n",
              "      display: none;\n",
              "      fill: #1967D2;\n",
              "      height: 32px;\n",
              "      padding: 0 0 0 0;\n",
              "      width: 32px;\n",
              "    }\n",
              "\n",
              "    .colab-df-convert:hover {\n",
              "      background-color: #E2EBFA;\n",
              "      box-shadow: 0px 1px 2px rgba(60, 64, 67, 0.3), 0px 1px 3px 1px rgba(60, 64, 67, 0.15);\n",
              "      fill: #174EA6;\n",
              "    }\n",
              "\n",
              "    [theme=dark] .colab-df-convert {\n",
              "      background-color: #3B4455;\n",
              "      fill: #D2E3FC;\n",
              "    }\n",
              "\n",
              "    [theme=dark] .colab-df-convert:hover {\n",
              "      background-color: #434B5C;\n",
              "      box-shadow: 0px 1px 3px 1px rgba(0, 0, 0, 0.15);\n",
              "      filter: drop-shadow(0px 1px 2px rgba(0, 0, 0, 0.3));\n",
              "      fill: #FFFFFF;\n",
              "    }\n",
              "  </style>\n",
              "\n",
              "      <script>\n",
              "        const buttonEl =\n",
              "          document.querySelector('#df-c08de202-d593-49ad-b6b5-011d2735a079 button.colab-df-convert');\n",
              "        buttonEl.style.display =\n",
              "          google.colab.kernel.accessAllowed ? 'block' : 'none';\n",
              "\n",
              "        async function convertToInteractive(key) {\n",
              "          const element = document.querySelector('#df-c08de202-d593-49ad-b6b5-011d2735a079');\n",
              "          const dataTable =\n",
              "            await google.colab.kernel.invokeFunction('convertToInteractive',\n",
              "                                                     [key], {});\n",
              "          if (!dataTable) return;\n",
              "\n",
              "          const docLinkHtml = 'Like what you see? Visit the ' +\n",
              "            '<a target=\"_blank\" href=https://colab.research.google.com/notebooks/data_table.ipynb>data table notebook</a>'\n",
              "            + ' to learn more about interactive tables.';\n",
              "          element.innerHTML = '';\n",
              "          dataTable['output_type'] = 'display_data';\n",
              "          await google.colab.output.renderOutput(dataTable, element);\n",
              "          const docLink = document.createElement('div');\n",
              "          docLink.innerHTML = docLinkHtml;\n",
              "          element.appendChild(docLink);\n",
              "        }\n",
              "      </script>\n",
              "    </div>\n",
              "  </div>\n",
              "  "
            ]
          },
          "metadata": {}
        },
        {
          "output_type": "stream",
          "name": "stdout",
          "text": [
            "Cantidad de outliers:\n"
          ]
        },
        {
          "output_type": "display_data",
          "data": {
            "text/plain": [
              "alcalinidad    0\n",
              "dtype: int64"
            ]
          },
          "metadata": {}
        },
        {
          "output_type": "display_data",
          "data": {
            "text/plain": [
              "Empty DataFrame\n",
              "Columns: [ph]\n",
              "Index: []"
            ],
            "text/html": [
              "\n",
              "  <div id=\"df-bf5b48aa-d3b2-426c-a63a-53baa5e8110a\">\n",
              "    <div class=\"colab-df-container\">\n",
              "      <div>\n",
              "<style scoped>\n",
              "    .dataframe tbody tr th:only-of-type {\n",
              "        vertical-align: middle;\n",
              "    }\n",
              "\n",
              "    .dataframe tbody tr th {\n",
              "        vertical-align: top;\n",
              "    }\n",
              "\n",
              "    .dataframe thead th {\n",
              "        text-align: right;\n",
              "    }\n",
              "</style>\n",
              "<table border=\"1\" class=\"dataframe\">\n",
              "  <thead>\n",
              "    <tr style=\"text-align: right;\">\n",
              "      <th></th>\n",
              "      <th>ph</th>\n",
              "    </tr>\n",
              "    <tr>\n",
              "      <th>X1</th>\n",
              "      <th></th>\n",
              "    </tr>\n",
              "  </thead>\n",
              "  <tbody>\n",
              "  </tbody>\n",
              "</table>\n",
              "</div>\n",
              "      <button class=\"colab-df-convert\" onclick=\"convertToInteractive('df-bf5b48aa-d3b2-426c-a63a-53baa5e8110a')\"\n",
              "              title=\"Convert this dataframe to an interactive table.\"\n",
              "              style=\"display:none;\">\n",
              "        \n",
              "  <svg xmlns=\"http://www.w3.org/2000/svg\" height=\"24px\"viewBox=\"0 0 24 24\"\n",
              "       width=\"24px\">\n",
              "    <path d=\"M0 0h24v24H0V0z\" fill=\"none\"/>\n",
              "    <path d=\"M18.56 5.44l.94 2.06.94-2.06 2.06-.94-2.06-.94-.94-2.06-.94 2.06-2.06.94zm-11 1L8.5 8.5l.94-2.06 2.06-.94-2.06-.94L8.5 2.5l-.94 2.06-2.06.94zm10 10l.94 2.06.94-2.06 2.06-.94-2.06-.94-.94-2.06-.94 2.06-2.06.94z\"/><path d=\"M17.41 7.96l-1.37-1.37c-.4-.4-.92-.59-1.43-.59-.52 0-1.04.2-1.43.59L10.3 9.45l-7.72 7.72c-.78.78-.78 2.05 0 2.83L4 21.41c.39.39.9.59 1.41.59.51 0 1.02-.2 1.41-.59l7.78-7.78 2.81-2.81c.8-.78.8-2.07 0-2.86zM5.41 20L4 18.59l7.72-7.72 1.47 1.35L5.41 20z\"/>\n",
              "  </svg>\n",
              "      </button>\n",
              "      \n",
              "  <style>\n",
              "    .colab-df-container {\n",
              "      display:flex;\n",
              "      flex-wrap:wrap;\n",
              "      gap: 12px;\n",
              "    }\n",
              "\n",
              "    .colab-df-convert {\n",
              "      background-color: #E8F0FE;\n",
              "      border: none;\n",
              "      border-radius: 50%;\n",
              "      cursor: pointer;\n",
              "      display: none;\n",
              "      fill: #1967D2;\n",
              "      height: 32px;\n",
              "      padding: 0 0 0 0;\n",
              "      width: 32px;\n",
              "    }\n",
              "\n",
              "    .colab-df-convert:hover {\n",
              "      background-color: #E2EBFA;\n",
              "      box-shadow: 0px 1px 2px rgba(60, 64, 67, 0.3), 0px 1px 3px 1px rgba(60, 64, 67, 0.15);\n",
              "      fill: #174EA6;\n",
              "    }\n",
              "\n",
              "    [theme=dark] .colab-df-convert {\n",
              "      background-color: #3B4455;\n",
              "      fill: #D2E3FC;\n",
              "    }\n",
              "\n",
              "    [theme=dark] .colab-df-convert:hover {\n",
              "      background-color: #434B5C;\n",
              "      box-shadow: 0px 1px 3px 1px rgba(0, 0, 0, 0.15);\n",
              "      filter: drop-shadow(0px 1px 2px rgba(0, 0, 0, 0.3));\n",
              "      fill: #FFFFFF;\n",
              "    }\n",
              "  </style>\n",
              "\n",
              "      <script>\n",
              "        const buttonEl =\n",
              "          document.querySelector('#df-bf5b48aa-d3b2-426c-a63a-53baa5e8110a button.colab-df-convert');\n",
              "        buttonEl.style.display =\n",
              "          google.colab.kernel.accessAllowed ? 'block' : 'none';\n",
              "\n",
              "        async function convertToInteractive(key) {\n",
              "          const element = document.querySelector('#df-bf5b48aa-d3b2-426c-a63a-53baa5e8110a');\n",
              "          const dataTable =\n",
              "            await google.colab.kernel.invokeFunction('convertToInteractive',\n",
              "                                                     [key], {});\n",
              "          if (!dataTable) return;\n",
              "\n",
              "          const docLinkHtml = 'Like what you see? Visit the ' +\n",
              "            '<a target=\"_blank\" href=https://colab.research.google.com/notebooks/data_table.ipynb>data table notebook</a>'\n",
              "            + ' to learn more about interactive tables.';\n",
              "          element.innerHTML = '';\n",
              "          dataTable['output_type'] = 'display_data';\n",
              "          await google.colab.output.renderOutput(dataTable, element);\n",
              "          const docLink = document.createElement('div');\n",
              "          docLink.innerHTML = docLinkHtml;\n",
              "          element.appendChild(docLink);\n",
              "        }\n",
              "      </script>\n",
              "    </div>\n",
              "  </div>\n",
              "  "
            ]
          },
          "metadata": {}
        },
        {
          "output_type": "stream",
          "name": "stdout",
          "text": [
            "Cantidad de outliers:\n"
          ]
        },
        {
          "output_type": "display_data",
          "data": {
            "text/plain": [
              "ph    0\n",
              "dtype: int64"
            ]
          },
          "metadata": {}
        },
        {
          "output_type": "display_data",
          "data": {
            "text/plain": [
              "Empty DataFrame\n",
              "Columns: [calcio]\n",
              "Index: []"
            ],
            "text/html": [
              "\n",
              "  <div id=\"df-e08f5b60-e997-49ce-99e8-18652a575741\">\n",
              "    <div class=\"colab-df-container\">\n",
              "      <div>\n",
              "<style scoped>\n",
              "    .dataframe tbody tr th:only-of-type {\n",
              "        vertical-align: middle;\n",
              "    }\n",
              "\n",
              "    .dataframe tbody tr th {\n",
              "        vertical-align: top;\n",
              "    }\n",
              "\n",
              "    .dataframe thead th {\n",
              "        text-align: right;\n",
              "    }\n",
              "</style>\n",
              "<table border=\"1\" class=\"dataframe\">\n",
              "  <thead>\n",
              "    <tr style=\"text-align: right;\">\n",
              "      <th></th>\n",
              "      <th>calcio</th>\n",
              "    </tr>\n",
              "    <tr>\n",
              "      <th>X1</th>\n",
              "      <th></th>\n",
              "    </tr>\n",
              "  </thead>\n",
              "  <tbody>\n",
              "  </tbody>\n",
              "</table>\n",
              "</div>\n",
              "      <button class=\"colab-df-convert\" onclick=\"convertToInteractive('df-e08f5b60-e997-49ce-99e8-18652a575741')\"\n",
              "              title=\"Convert this dataframe to an interactive table.\"\n",
              "              style=\"display:none;\">\n",
              "        \n",
              "  <svg xmlns=\"http://www.w3.org/2000/svg\" height=\"24px\"viewBox=\"0 0 24 24\"\n",
              "       width=\"24px\">\n",
              "    <path d=\"M0 0h24v24H0V0z\" fill=\"none\"/>\n",
              "    <path d=\"M18.56 5.44l.94 2.06.94-2.06 2.06-.94-2.06-.94-.94-2.06-.94 2.06-2.06.94zm-11 1L8.5 8.5l.94-2.06 2.06-.94-2.06-.94L8.5 2.5l-.94 2.06-2.06.94zm10 10l.94 2.06.94-2.06 2.06-.94-2.06-.94-.94-2.06-.94 2.06-2.06.94z\"/><path d=\"M17.41 7.96l-1.37-1.37c-.4-.4-.92-.59-1.43-.59-.52 0-1.04.2-1.43.59L10.3 9.45l-7.72 7.72c-.78.78-.78 2.05 0 2.83L4 21.41c.39.39.9.59 1.41.59.51 0 1.02-.2 1.41-.59l7.78-7.78 2.81-2.81c.8-.78.8-2.07 0-2.86zM5.41 20L4 18.59l7.72-7.72 1.47 1.35L5.41 20z\"/>\n",
              "  </svg>\n",
              "      </button>\n",
              "      \n",
              "  <style>\n",
              "    .colab-df-container {\n",
              "      display:flex;\n",
              "      flex-wrap:wrap;\n",
              "      gap: 12px;\n",
              "    }\n",
              "\n",
              "    .colab-df-convert {\n",
              "      background-color: #E8F0FE;\n",
              "      border: none;\n",
              "      border-radius: 50%;\n",
              "      cursor: pointer;\n",
              "      display: none;\n",
              "      fill: #1967D2;\n",
              "      height: 32px;\n",
              "      padding: 0 0 0 0;\n",
              "      width: 32px;\n",
              "    }\n",
              "\n",
              "    .colab-df-convert:hover {\n",
              "      background-color: #E2EBFA;\n",
              "      box-shadow: 0px 1px 2px rgba(60, 64, 67, 0.3), 0px 1px 3px 1px rgba(60, 64, 67, 0.15);\n",
              "      fill: #174EA6;\n",
              "    }\n",
              "\n",
              "    [theme=dark] .colab-df-convert {\n",
              "      background-color: #3B4455;\n",
              "      fill: #D2E3FC;\n",
              "    }\n",
              "\n",
              "    [theme=dark] .colab-df-convert:hover {\n",
              "      background-color: #434B5C;\n",
              "      box-shadow: 0px 1px 3px 1px rgba(0, 0, 0, 0.15);\n",
              "      filter: drop-shadow(0px 1px 2px rgba(0, 0, 0, 0.3));\n",
              "      fill: #FFFFFF;\n",
              "    }\n",
              "  </style>\n",
              "\n",
              "      <script>\n",
              "        const buttonEl =\n",
              "          document.querySelector('#df-e08f5b60-e997-49ce-99e8-18652a575741 button.colab-df-convert');\n",
              "        buttonEl.style.display =\n",
              "          google.colab.kernel.accessAllowed ? 'block' : 'none';\n",
              "\n",
              "        async function convertToInteractive(key) {\n",
              "          const element = document.querySelector('#df-e08f5b60-e997-49ce-99e8-18652a575741');\n",
              "          const dataTable =\n",
              "            await google.colab.kernel.invokeFunction('convertToInteractive',\n",
              "                                                     [key], {});\n",
              "          if (!dataTable) return;\n",
              "\n",
              "          const docLinkHtml = 'Like what you see? Visit the ' +\n",
              "            '<a target=\"_blank\" href=https://colab.research.google.com/notebooks/data_table.ipynb>data table notebook</a>'\n",
              "            + ' to learn more about interactive tables.';\n",
              "          element.innerHTML = '';\n",
              "          dataTable['output_type'] = 'display_data';\n",
              "          await google.colab.output.renderOutput(dataTable, element);\n",
              "          const docLink = document.createElement('div');\n",
              "          docLink.innerHTML = docLinkHtml;\n",
              "          element.appendChild(docLink);\n",
              "        }\n",
              "      </script>\n",
              "    </div>\n",
              "  </div>\n",
              "  "
            ]
          },
          "metadata": {}
        },
        {
          "output_type": "stream",
          "name": "stdout",
          "text": [
            "Cantidad de outliers:\n"
          ]
        },
        {
          "output_type": "display_data",
          "data": {
            "text/plain": [
              "calcio    0\n",
              "dtype: int64"
            ]
          },
          "metadata": {}
        },
        {
          "output_type": "display_data",
          "data": {
            "text/plain": [
              "    clorofila\n",
              "X1           \n",
              "3       128.3\n",
              "38      152.4"
            ],
            "text/html": [
              "\n",
              "  <div id=\"df-a263824c-a319-4131-9c5c-a9471fbc222a\">\n",
              "    <div class=\"colab-df-container\">\n",
              "      <div>\n",
              "<style scoped>\n",
              "    .dataframe tbody tr th:only-of-type {\n",
              "        vertical-align: middle;\n",
              "    }\n",
              "\n",
              "    .dataframe tbody tr th {\n",
              "        vertical-align: top;\n",
              "    }\n",
              "\n",
              "    .dataframe thead th {\n",
              "        text-align: right;\n",
              "    }\n",
              "</style>\n",
              "<table border=\"1\" class=\"dataframe\">\n",
              "  <thead>\n",
              "    <tr style=\"text-align: right;\">\n",
              "      <th></th>\n",
              "      <th>clorofila</th>\n",
              "    </tr>\n",
              "    <tr>\n",
              "      <th>X1</th>\n",
              "      <th></th>\n",
              "    </tr>\n",
              "  </thead>\n",
              "  <tbody>\n",
              "    <tr>\n",
              "      <th>3</th>\n",
              "      <td>128.3</td>\n",
              "    </tr>\n",
              "    <tr>\n",
              "      <th>38</th>\n",
              "      <td>152.4</td>\n",
              "    </tr>\n",
              "  </tbody>\n",
              "</table>\n",
              "</div>\n",
              "      <button class=\"colab-df-convert\" onclick=\"convertToInteractive('df-a263824c-a319-4131-9c5c-a9471fbc222a')\"\n",
              "              title=\"Convert this dataframe to an interactive table.\"\n",
              "              style=\"display:none;\">\n",
              "        \n",
              "  <svg xmlns=\"http://www.w3.org/2000/svg\" height=\"24px\"viewBox=\"0 0 24 24\"\n",
              "       width=\"24px\">\n",
              "    <path d=\"M0 0h24v24H0V0z\" fill=\"none\"/>\n",
              "    <path d=\"M18.56 5.44l.94 2.06.94-2.06 2.06-.94-2.06-.94-.94-2.06-.94 2.06-2.06.94zm-11 1L8.5 8.5l.94-2.06 2.06-.94-2.06-.94L8.5 2.5l-.94 2.06-2.06.94zm10 10l.94 2.06.94-2.06 2.06-.94-2.06-.94-.94-2.06-.94 2.06-2.06.94z\"/><path d=\"M17.41 7.96l-1.37-1.37c-.4-.4-.92-.59-1.43-.59-.52 0-1.04.2-1.43.59L10.3 9.45l-7.72 7.72c-.78.78-.78 2.05 0 2.83L4 21.41c.39.39.9.59 1.41.59.51 0 1.02-.2 1.41-.59l7.78-7.78 2.81-2.81c.8-.78.8-2.07 0-2.86zM5.41 20L4 18.59l7.72-7.72 1.47 1.35L5.41 20z\"/>\n",
              "  </svg>\n",
              "      </button>\n",
              "      \n",
              "  <style>\n",
              "    .colab-df-container {\n",
              "      display:flex;\n",
              "      flex-wrap:wrap;\n",
              "      gap: 12px;\n",
              "    }\n",
              "\n",
              "    .colab-df-convert {\n",
              "      background-color: #E8F0FE;\n",
              "      border: none;\n",
              "      border-radius: 50%;\n",
              "      cursor: pointer;\n",
              "      display: none;\n",
              "      fill: #1967D2;\n",
              "      height: 32px;\n",
              "      padding: 0 0 0 0;\n",
              "      width: 32px;\n",
              "    }\n",
              "\n",
              "    .colab-df-convert:hover {\n",
              "      background-color: #E2EBFA;\n",
              "      box-shadow: 0px 1px 2px rgba(60, 64, 67, 0.3), 0px 1px 3px 1px rgba(60, 64, 67, 0.15);\n",
              "      fill: #174EA6;\n",
              "    }\n",
              "\n",
              "    [theme=dark] .colab-df-convert {\n",
              "      background-color: #3B4455;\n",
              "      fill: #D2E3FC;\n",
              "    }\n",
              "\n",
              "    [theme=dark] .colab-df-convert:hover {\n",
              "      background-color: #434B5C;\n",
              "      box-shadow: 0px 1px 3px 1px rgba(0, 0, 0, 0.15);\n",
              "      filter: drop-shadow(0px 1px 2px rgba(0, 0, 0, 0.3));\n",
              "      fill: #FFFFFF;\n",
              "    }\n",
              "  </style>\n",
              "\n",
              "      <script>\n",
              "        const buttonEl =\n",
              "          document.querySelector('#df-a263824c-a319-4131-9c5c-a9471fbc222a button.colab-df-convert');\n",
              "        buttonEl.style.display =\n",
              "          google.colab.kernel.accessAllowed ? 'block' : 'none';\n",
              "\n",
              "        async function convertToInteractive(key) {\n",
              "          const element = document.querySelector('#df-a263824c-a319-4131-9c5c-a9471fbc222a');\n",
              "          const dataTable =\n",
              "            await google.colab.kernel.invokeFunction('convertToInteractive',\n",
              "                                                     [key], {});\n",
              "          if (!dataTable) return;\n",
              "\n",
              "          const docLinkHtml = 'Like what you see? Visit the ' +\n",
              "            '<a target=\"_blank\" href=https://colab.research.google.com/notebooks/data_table.ipynb>data table notebook</a>'\n",
              "            + ' to learn more about interactive tables.';\n",
              "          element.innerHTML = '';\n",
              "          dataTable['output_type'] = 'display_data';\n",
              "          await google.colab.output.renderOutput(dataTable, element);\n",
              "          const docLink = document.createElement('div');\n",
              "          docLink.innerHTML = docLinkHtml;\n",
              "          element.appendChild(docLink);\n",
              "        }\n",
              "      </script>\n",
              "    </div>\n",
              "  </div>\n",
              "  "
            ]
          },
          "metadata": {}
        },
        {
          "output_type": "stream",
          "name": "stdout",
          "text": [
            "Cantidad de outliers:\n"
          ]
        },
        {
          "output_type": "display_data",
          "data": {
            "text/plain": [
              "clorofila    2\n",
              "dtype: int64"
            ]
          },
          "metadata": {}
        },
        {
          "output_type": "display_data",
          "data": {
            "text/plain": [
              "Empty DataFrame\n",
              "Columns: [conc_mercurio]\n",
              "Index: []"
            ],
            "text/html": [
              "\n",
              "  <div id=\"df-27b787c2-6136-4cbe-bb2a-af5ec376b68a\">\n",
              "    <div class=\"colab-df-container\">\n",
              "      <div>\n",
              "<style scoped>\n",
              "    .dataframe tbody tr th:only-of-type {\n",
              "        vertical-align: middle;\n",
              "    }\n",
              "\n",
              "    .dataframe tbody tr th {\n",
              "        vertical-align: top;\n",
              "    }\n",
              "\n",
              "    .dataframe thead th {\n",
              "        text-align: right;\n",
              "    }\n",
              "</style>\n",
              "<table border=\"1\" class=\"dataframe\">\n",
              "  <thead>\n",
              "    <tr style=\"text-align: right;\">\n",
              "      <th></th>\n",
              "      <th>conc_mercurio</th>\n",
              "    </tr>\n",
              "    <tr>\n",
              "      <th>X1</th>\n",
              "      <th></th>\n",
              "    </tr>\n",
              "  </thead>\n",
              "  <tbody>\n",
              "  </tbody>\n",
              "</table>\n",
              "</div>\n",
              "      <button class=\"colab-df-convert\" onclick=\"convertToInteractive('df-27b787c2-6136-4cbe-bb2a-af5ec376b68a')\"\n",
              "              title=\"Convert this dataframe to an interactive table.\"\n",
              "              style=\"display:none;\">\n",
              "        \n",
              "  <svg xmlns=\"http://www.w3.org/2000/svg\" height=\"24px\"viewBox=\"0 0 24 24\"\n",
              "       width=\"24px\">\n",
              "    <path d=\"M0 0h24v24H0V0z\" fill=\"none\"/>\n",
              "    <path d=\"M18.56 5.44l.94 2.06.94-2.06 2.06-.94-2.06-.94-.94-2.06-.94 2.06-2.06.94zm-11 1L8.5 8.5l.94-2.06 2.06-.94-2.06-.94L8.5 2.5l-.94 2.06-2.06.94zm10 10l.94 2.06.94-2.06 2.06-.94-2.06-.94-.94-2.06-.94 2.06-2.06.94z\"/><path d=\"M17.41 7.96l-1.37-1.37c-.4-.4-.92-.59-1.43-.59-.52 0-1.04.2-1.43.59L10.3 9.45l-7.72 7.72c-.78.78-.78 2.05 0 2.83L4 21.41c.39.39.9.59 1.41.59.51 0 1.02-.2 1.41-.59l7.78-7.78 2.81-2.81c.8-.78.8-2.07 0-2.86zM5.41 20L4 18.59l7.72-7.72 1.47 1.35L5.41 20z\"/>\n",
              "  </svg>\n",
              "      </button>\n",
              "      \n",
              "  <style>\n",
              "    .colab-df-container {\n",
              "      display:flex;\n",
              "      flex-wrap:wrap;\n",
              "      gap: 12px;\n",
              "    }\n",
              "\n",
              "    .colab-df-convert {\n",
              "      background-color: #E8F0FE;\n",
              "      border: none;\n",
              "      border-radius: 50%;\n",
              "      cursor: pointer;\n",
              "      display: none;\n",
              "      fill: #1967D2;\n",
              "      height: 32px;\n",
              "      padding: 0 0 0 0;\n",
              "      width: 32px;\n",
              "    }\n",
              "\n",
              "    .colab-df-convert:hover {\n",
              "      background-color: #E2EBFA;\n",
              "      box-shadow: 0px 1px 2px rgba(60, 64, 67, 0.3), 0px 1px 3px 1px rgba(60, 64, 67, 0.15);\n",
              "      fill: #174EA6;\n",
              "    }\n",
              "\n",
              "    [theme=dark] .colab-df-convert {\n",
              "      background-color: #3B4455;\n",
              "      fill: #D2E3FC;\n",
              "    }\n",
              "\n",
              "    [theme=dark] .colab-df-convert:hover {\n",
              "      background-color: #434B5C;\n",
              "      box-shadow: 0px 1px 3px 1px rgba(0, 0, 0, 0.15);\n",
              "      filter: drop-shadow(0px 1px 2px rgba(0, 0, 0, 0.3));\n",
              "      fill: #FFFFFF;\n",
              "    }\n",
              "  </style>\n",
              "\n",
              "      <script>\n",
              "        const buttonEl =\n",
              "          document.querySelector('#df-27b787c2-6136-4cbe-bb2a-af5ec376b68a button.colab-df-convert');\n",
              "        buttonEl.style.display =\n",
              "          google.colab.kernel.accessAllowed ? 'block' : 'none';\n",
              "\n",
              "        async function convertToInteractive(key) {\n",
              "          const element = document.querySelector('#df-27b787c2-6136-4cbe-bb2a-af5ec376b68a');\n",
              "          const dataTable =\n",
              "            await google.colab.kernel.invokeFunction('convertToInteractive',\n",
              "                                                     [key], {});\n",
              "          if (!dataTable) return;\n",
              "\n",
              "          const docLinkHtml = 'Like what you see? Visit the ' +\n",
              "            '<a target=\"_blank\" href=https://colab.research.google.com/notebooks/data_table.ipynb>data table notebook</a>'\n",
              "            + ' to learn more about interactive tables.';\n",
              "          element.innerHTML = '';\n",
              "          dataTable['output_type'] = 'display_data';\n",
              "          await google.colab.output.renderOutput(dataTable, element);\n",
              "          const docLink = document.createElement('div');\n",
              "          docLink.innerHTML = docLinkHtml;\n",
              "          element.appendChild(docLink);\n",
              "        }\n",
              "      </script>\n",
              "    </div>\n",
              "  </div>\n",
              "  "
            ]
          },
          "metadata": {}
        },
        {
          "output_type": "stream",
          "name": "stdout",
          "text": [
            "Cantidad de outliers:\n"
          ]
        },
        {
          "output_type": "display_data",
          "data": {
            "text/plain": [
              "conc_mercurio    0\n",
              "dtype: int64"
            ]
          },
          "metadata": {}
        },
        {
          "output_type": "display_data",
          "data": {
            "text/plain": [
              "    num_peces\n",
              "X1           \n",
              "14         43\n",
              "17         40\n",
              "51         44"
            ],
            "text/html": [
              "\n",
              "  <div id=\"df-05eb3b56-1bb9-4b76-a54c-81bfb1b2dc2c\">\n",
              "    <div class=\"colab-df-container\">\n",
              "      <div>\n",
              "<style scoped>\n",
              "    .dataframe tbody tr th:only-of-type {\n",
              "        vertical-align: middle;\n",
              "    }\n",
              "\n",
              "    .dataframe tbody tr th {\n",
              "        vertical-align: top;\n",
              "    }\n",
              "\n",
              "    .dataframe thead th {\n",
              "        text-align: right;\n",
              "    }\n",
              "</style>\n",
              "<table border=\"1\" class=\"dataframe\">\n",
              "  <thead>\n",
              "    <tr style=\"text-align: right;\">\n",
              "      <th></th>\n",
              "      <th>num_peces</th>\n",
              "    </tr>\n",
              "    <tr>\n",
              "      <th>X1</th>\n",
              "      <th></th>\n",
              "    </tr>\n",
              "  </thead>\n",
              "  <tbody>\n",
              "    <tr>\n",
              "      <th>14</th>\n",
              "      <td>43</td>\n",
              "    </tr>\n",
              "    <tr>\n",
              "      <th>17</th>\n",
              "      <td>40</td>\n",
              "    </tr>\n",
              "    <tr>\n",
              "      <th>51</th>\n",
              "      <td>44</td>\n",
              "    </tr>\n",
              "  </tbody>\n",
              "</table>\n",
              "</div>\n",
              "      <button class=\"colab-df-convert\" onclick=\"convertToInteractive('df-05eb3b56-1bb9-4b76-a54c-81bfb1b2dc2c')\"\n",
              "              title=\"Convert this dataframe to an interactive table.\"\n",
              "              style=\"display:none;\">\n",
              "        \n",
              "  <svg xmlns=\"http://www.w3.org/2000/svg\" height=\"24px\"viewBox=\"0 0 24 24\"\n",
              "       width=\"24px\">\n",
              "    <path d=\"M0 0h24v24H0V0z\" fill=\"none\"/>\n",
              "    <path d=\"M18.56 5.44l.94 2.06.94-2.06 2.06-.94-2.06-.94-.94-2.06-.94 2.06-2.06.94zm-11 1L8.5 8.5l.94-2.06 2.06-.94-2.06-.94L8.5 2.5l-.94 2.06-2.06.94zm10 10l.94 2.06.94-2.06 2.06-.94-2.06-.94-.94-2.06-.94 2.06-2.06.94z\"/><path d=\"M17.41 7.96l-1.37-1.37c-.4-.4-.92-.59-1.43-.59-.52 0-1.04.2-1.43.59L10.3 9.45l-7.72 7.72c-.78.78-.78 2.05 0 2.83L4 21.41c.39.39.9.59 1.41.59.51 0 1.02-.2 1.41-.59l7.78-7.78 2.81-2.81c.8-.78.8-2.07 0-2.86zM5.41 20L4 18.59l7.72-7.72 1.47 1.35L5.41 20z\"/>\n",
              "  </svg>\n",
              "      </button>\n",
              "      \n",
              "  <style>\n",
              "    .colab-df-container {\n",
              "      display:flex;\n",
              "      flex-wrap:wrap;\n",
              "      gap: 12px;\n",
              "    }\n",
              "\n",
              "    .colab-df-convert {\n",
              "      background-color: #E8F0FE;\n",
              "      border: none;\n",
              "      border-radius: 50%;\n",
              "      cursor: pointer;\n",
              "      display: none;\n",
              "      fill: #1967D2;\n",
              "      height: 32px;\n",
              "      padding: 0 0 0 0;\n",
              "      width: 32px;\n",
              "    }\n",
              "\n",
              "    .colab-df-convert:hover {\n",
              "      background-color: #E2EBFA;\n",
              "      box-shadow: 0px 1px 2px rgba(60, 64, 67, 0.3), 0px 1px 3px 1px rgba(60, 64, 67, 0.15);\n",
              "      fill: #174EA6;\n",
              "    }\n",
              "\n",
              "    [theme=dark] .colab-df-convert {\n",
              "      background-color: #3B4455;\n",
              "      fill: #D2E3FC;\n",
              "    }\n",
              "\n",
              "    [theme=dark] .colab-df-convert:hover {\n",
              "      background-color: #434B5C;\n",
              "      box-shadow: 0px 1px 3px 1px rgba(0, 0, 0, 0.15);\n",
              "      filter: drop-shadow(0px 1px 2px rgba(0, 0, 0, 0.3));\n",
              "      fill: #FFFFFF;\n",
              "    }\n",
              "  </style>\n",
              "\n",
              "      <script>\n",
              "        const buttonEl =\n",
              "          document.querySelector('#df-05eb3b56-1bb9-4b76-a54c-81bfb1b2dc2c button.colab-df-convert');\n",
              "        buttonEl.style.display =\n",
              "          google.colab.kernel.accessAllowed ? 'block' : 'none';\n",
              "\n",
              "        async function convertToInteractive(key) {\n",
              "          const element = document.querySelector('#df-05eb3b56-1bb9-4b76-a54c-81bfb1b2dc2c');\n",
              "          const dataTable =\n",
              "            await google.colab.kernel.invokeFunction('convertToInteractive',\n",
              "                                                     [key], {});\n",
              "          if (!dataTable) return;\n",
              "\n",
              "          const docLinkHtml = 'Like what you see? Visit the ' +\n",
              "            '<a target=\"_blank\" href=https://colab.research.google.com/notebooks/data_table.ipynb>data table notebook</a>'\n",
              "            + ' to learn more about interactive tables.';\n",
              "          element.innerHTML = '';\n",
              "          dataTable['output_type'] = 'display_data';\n",
              "          await google.colab.output.renderOutput(dataTable, element);\n",
              "          const docLink = document.createElement('div');\n",
              "          docLink.innerHTML = docLinkHtml;\n",
              "          element.appendChild(docLink);\n",
              "        }\n",
              "      </script>\n",
              "    </div>\n",
              "  </div>\n",
              "  "
            ]
          },
          "metadata": {}
        },
        {
          "output_type": "stream",
          "name": "stdout",
          "text": [
            "Cantidad de outliers:\n"
          ]
        },
        {
          "output_type": "display_data",
          "data": {
            "text/plain": [
              "num_peces    3\n",
              "dtype: int64"
            ]
          },
          "metadata": {}
        },
        {
          "output_type": "display_data",
          "data": {
            "text/plain": [
              "Empty DataFrame\n",
              "Columns: [min_conc_peces]\n",
              "Index: []"
            ],
            "text/html": [
              "\n",
              "  <div id=\"df-e1c9c314-a998-420e-8fa3-026440ead014\">\n",
              "    <div class=\"colab-df-container\">\n",
              "      <div>\n",
              "<style scoped>\n",
              "    .dataframe tbody tr th:only-of-type {\n",
              "        vertical-align: middle;\n",
              "    }\n",
              "\n",
              "    .dataframe tbody tr th {\n",
              "        vertical-align: top;\n",
              "    }\n",
              "\n",
              "    .dataframe thead th {\n",
              "        text-align: right;\n",
              "    }\n",
              "</style>\n",
              "<table border=\"1\" class=\"dataframe\">\n",
              "  <thead>\n",
              "    <tr style=\"text-align: right;\">\n",
              "      <th></th>\n",
              "      <th>min_conc_peces</th>\n",
              "    </tr>\n",
              "    <tr>\n",
              "      <th>X1</th>\n",
              "      <th></th>\n",
              "    </tr>\n",
              "  </thead>\n",
              "  <tbody>\n",
              "  </tbody>\n",
              "</table>\n",
              "</div>\n",
              "      <button class=\"colab-df-convert\" onclick=\"convertToInteractive('df-e1c9c314-a998-420e-8fa3-026440ead014')\"\n",
              "              title=\"Convert this dataframe to an interactive table.\"\n",
              "              style=\"display:none;\">\n",
              "        \n",
              "  <svg xmlns=\"http://www.w3.org/2000/svg\" height=\"24px\"viewBox=\"0 0 24 24\"\n",
              "       width=\"24px\">\n",
              "    <path d=\"M0 0h24v24H0V0z\" fill=\"none\"/>\n",
              "    <path d=\"M18.56 5.44l.94 2.06.94-2.06 2.06-.94-2.06-.94-.94-2.06-.94 2.06-2.06.94zm-11 1L8.5 8.5l.94-2.06 2.06-.94-2.06-.94L8.5 2.5l-.94 2.06-2.06.94zm10 10l.94 2.06.94-2.06 2.06-.94-2.06-.94-.94-2.06-.94 2.06-2.06.94z\"/><path d=\"M17.41 7.96l-1.37-1.37c-.4-.4-.92-.59-1.43-.59-.52 0-1.04.2-1.43.59L10.3 9.45l-7.72 7.72c-.78.78-.78 2.05 0 2.83L4 21.41c.39.39.9.59 1.41.59.51 0 1.02-.2 1.41-.59l7.78-7.78 2.81-2.81c.8-.78.8-2.07 0-2.86zM5.41 20L4 18.59l7.72-7.72 1.47 1.35L5.41 20z\"/>\n",
              "  </svg>\n",
              "      </button>\n",
              "      \n",
              "  <style>\n",
              "    .colab-df-container {\n",
              "      display:flex;\n",
              "      flex-wrap:wrap;\n",
              "      gap: 12px;\n",
              "    }\n",
              "\n",
              "    .colab-df-convert {\n",
              "      background-color: #E8F0FE;\n",
              "      border: none;\n",
              "      border-radius: 50%;\n",
              "      cursor: pointer;\n",
              "      display: none;\n",
              "      fill: #1967D2;\n",
              "      height: 32px;\n",
              "      padding: 0 0 0 0;\n",
              "      width: 32px;\n",
              "    }\n",
              "\n",
              "    .colab-df-convert:hover {\n",
              "      background-color: #E2EBFA;\n",
              "      box-shadow: 0px 1px 2px rgba(60, 64, 67, 0.3), 0px 1px 3px 1px rgba(60, 64, 67, 0.15);\n",
              "      fill: #174EA6;\n",
              "    }\n",
              "\n",
              "    [theme=dark] .colab-df-convert {\n",
              "      background-color: #3B4455;\n",
              "      fill: #D2E3FC;\n",
              "    }\n",
              "\n",
              "    [theme=dark] .colab-df-convert:hover {\n",
              "      background-color: #434B5C;\n",
              "      box-shadow: 0px 1px 3px 1px rgba(0, 0, 0, 0.15);\n",
              "      filter: drop-shadow(0px 1px 2px rgba(0, 0, 0, 0.3));\n",
              "      fill: #FFFFFF;\n",
              "    }\n",
              "  </style>\n",
              "\n",
              "      <script>\n",
              "        const buttonEl =\n",
              "          document.querySelector('#df-e1c9c314-a998-420e-8fa3-026440ead014 button.colab-df-convert');\n",
              "        buttonEl.style.display =\n",
              "          google.colab.kernel.accessAllowed ? 'block' : 'none';\n",
              "\n",
              "        async function convertToInteractive(key) {\n",
              "          const element = document.querySelector('#df-e1c9c314-a998-420e-8fa3-026440ead014');\n",
              "          const dataTable =\n",
              "            await google.colab.kernel.invokeFunction('convertToInteractive',\n",
              "                                                     [key], {});\n",
              "          if (!dataTable) return;\n",
              "\n",
              "          const docLinkHtml = 'Like what you see? Visit the ' +\n",
              "            '<a target=\"_blank\" href=https://colab.research.google.com/notebooks/data_table.ipynb>data table notebook</a>'\n",
              "            + ' to learn more about interactive tables.';\n",
              "          element.innerHTML = '';\n",
              "          dataTable['output_type'] = 'display_data';\n",
              "          await google.colab.output.renderOutput(dataTable, element);\n",
              "          const docLink = document.createElement('div');\n",
              "          docLink.innerHTML = docLinkHtml;\n",
              "          element.appendChild(docLink);\n",
              "        }\n",
              "      </script>\n",
              "    </div>\n",
              "  </div>\n",
              "  "
            ]
          },
          "metadata": {}
        },
        {
          "output_type": "stream",
          "name": "stdout",
          "text": [
            "Cantidad de outliers:\n"
          ]
        },
        {
          "output_type": "display_data",
          "data": {
            "text/plain": [
              "min_conc_peces    0\n",
              "dtype: int64"
            ]
          },
          "metadata": {}
        },
        {
          "output_type": "display_data",
          "data": {
            "text/plain": [
              "Empty DataFrame\n",
              "Columns: [max_conc_peces]\n",
              "Index: []"
            ],
            "text/html": [
              "\n",
              "  <div id=\"df-418fe899-e8c3-4cae-9d0a-afb59d0ffc2e\">\n",
              "    <div class=\"colab-df-container\">\n",
              "      <div>\n",
              "<style scoped>\n",
              "    .dataframe tbody tr th:only-of-type {\n",
              "        vertical-align: middle;\n",
              "    }\n",
              "\n",
              "    .dataframe tbody tr th {\n",
              "        vertical-align: top;\n",
              "    }\n",
              "\n",
              "    .dataframe thead th {\n",
              "        text-align: right;\n",
              "    }\n",
              "</style>\n",
              "<table border=\"1\" class=\"dataframe\">\n",
              "  <thead>\n",
              "    <tr style=\"text-align: right;\">\n",
              "      <th></th>\n",
              "      <th>max_conc_peces</th>\n",
              "    </tr>\n",
              "    <tr>\n",
              "      <th>X1</th>\n",
              "      <th></th>\n",
              "    </tr>\n",
              "  </thead>\n",
              "  <tbody>\n",
              "  </tbody>\n",
              "</table>\n",
              "</div>\n",
              "      <button class=\"colab-df-convert\" onclick=\"convertToInteractive('df-418fe899-e8c3-4cae-9d0a-afb59d0ffc2e')\"\n",
              "              title=\"Convert this dataframe to an interactive table.\"\n",
              "              style=\"display:none;\">\n",
              "        \n",
              "  <svg xmlns=\"http://www.w3.org/2000/svg\" height=\"24px\"viewBox=\"0 0 24 24\"\n",
              "       width=\"24px\">\n",
              "    <path d=\"M0 0h24v24H0V0z\" fill=\"none\"/>\n",
              "    <path d=\"M18.56 5.44l.94 2.06.94-2.06 2.06-.94-2.06-.94-.94-2.06-.94 2.06-2.06.94zm-11 1L8.5 8.5l.94-2.06 2.06-.94-2.06-.94L8.5 2.5l-.94 2.06-2.06.94zm10 10l.94 2.06.94-2.06 2.06-.94-2.06-.94-.94-2.06-.94 2.06-2.06.94z\"/><path d=\"M17.41 7.96l-1.37-1.37c-.4-.4-.92-.59-1.43-.59-.52 0-1.04.2-1.43.59L10.3 9.45l-7.72 7.72c-.78.78-.78 2.05 0 2.83L4 21.41c.39.39.9.59 1.41.59.51 0 1.02-.2 1.41-.59l7.78-7.78 2.81-2.81c.8-.78.8-2.07 0-2.86zM5.41 20L4 18.59l7.72-7.72 1.47 1.35L5.41 20z\"/>\n",
              "  </svg>\n",
              "      </button>\n",
              "      \n",
              "  <style>\n",
              "    .colab-df-container {\n",
              "      display:flex;\n",
              "      flex-wrap:wrap;\n",
              "      gap: 12px;\n",
              "    }\n",
              "\n",
              "    .colab-df-convert {\n",
              "      background-color: #E8F0FE;\n",
              "      border: none;\n",
              "      border-radius: 50%;\n",
              "      cursor: pointer;\n",
              "      display: none;\n",
              "      fill: #1967D2;\n",
              "      height: 32px;\n",
              "      padding: 0 0 0 0;\n",
              "      width: 32px;\n",
              "    }\n",
              "\n",
              "    .colab-df-convert:hover {\n",
              "      background-color: #E2EBFA;\n",
              "      box-shadow: 0px 1px 2px rgba(60, 64, 67, 0.3), 0px 1px 3px 1px rgba(60, 64, 67, 0.15);\n",
              "      fill: #174EA6;\n",
              "    }\n",
              "\n",
              "    [theme=dark] .colab-df-convert {\n",
              "      background-color: #3B4455;\n",
              "      fill: #D2E3FC;\n",
              "    }\n",
              "\n",
              "    [theme=dark] .colab-df-convert:hover {\n",
              "      background-color: #434B5C;\n",
              "      box-shadow: 0px 1px 3px 1px rgba(0, 0, 0, 0.15);\n",
              "      filter: drop-shadow(0px 1px 2px rgba(0, 0, 0, 0.3));\n",
              "      fill: #FFFFFF;\n",
              "    }\n",
              "  </style>\n",
              "\n",
              "      <script>\n",
              "        const buttonEl =\n",
              "          document.querySelector('#df-418fe899-e8c3-4cae-9d0a-afb59d0ffc2e button.colab-df-convert');\n",
              "        buttonEl.style.display =\n",
              "          google.colab.kernel.accessAllowed ? 'block' : 'none';\n",
              "\n",
              "        async function convertToInteractive(key) {\n",
              "          const element = document.querySelector('#df-418fe899-e8c3-4cae-9d0a-afb59d0ffc2e');\n",
              "          const dataTable =\n",
              "            await google.colab.kernel.invokeFunction('convertToInteractive',\n",
              "                                                     [key], {});\n",
              "          if (!dataTable) return;\n",
              "\n",
              "          const docLinkHtml = 'Like what you see? Visit the ' +\n",
              "            '<a target=\"_blank\" href=https://colab.research.google.com/notebooks/data_table.ipynb>data table notebook</a>'\n",
              "            + ' to learn more about interactive tables.';\n",
              "          element.innerHTML = '';\n",
              "          dataTable['output_type'] = 'display_data';\n",
              "          await google.colab.output.renderOutput(dataTable, element);\n",
              "          const docLink = document.createElement('div');\n",
              "          docLink.innerHTML = docLinkHtml;\n",
              "          element.appendChild(docLink);\n",
              "        }\n",
              "      </script>\n",
              "    </div>\n",
              "  </div>\n",
              "  "
            ]
          },
          "metadata": {}
        },
        {
          "output_type": "stream",
          "name": "stdout",
          "text": [
            "Cantidad de outliers:\n"
          ]
        },
        {
          "output_type": "display_data",
          "data": {
            "text/plain": [
              "max_conc_peces    0\n",
              "dtype: int64"
            ]
          },
          "metadata": {}
        },
        {
          "output_type": "display_data",
          "data": {
            "text/plain": [
              "    estim_conc\n",
              "X1            \n",
              "1         1.53"
            ],
            "text/html": [
              "\n",
              "  <div id=\"df-03f7c640-2269-4d4c-a07f-c764e69b3d80\">\n",
              "    <div class=\"colab-df-container\">\n",
              "      <div>\n",
              "<style scoped>\n",
              "    .dataframe tbody tr th:only-of-type {\n",
              "        vertical-align: middle;\n",
              "    }\n",
              "\n",
              "    .dataframe tbody tr th {\n",
              "        vertical-align: top;\n",
              "    }\n",
              "\n",
              "    .dataframe thead th {\n",
              "        text-align: right;\n",
              "    }\n",
              "</style>\n",
              "<table border=\"1\" class=\"dataframe\">\n",
              "  <thead>\n",
              "    <tr style=\"text-align: right;\">\n",
              "      <th></th>\n",
              "      <th>estim_conc</th>\n",
              "    </tr>\n",
              "    <tr>\n",
              "      <th>X1</th>\n",
              "      <th></th>\n",
              "    </tr>\n",
              "  </thead>\n",
              "  <tbody>\n",
              "    <tr>\n",
              "      <th>1</th>\n",
              "      <td>1.53</td>\n",
              "    </tr>\n",
              "  </tbody>\n",
              "</table>\n",
              "</div>\n",
              "      <button class=\"colab-df-convert\" onclick=\"convertToInteractive('df-03f7c640-2269-4d4c-a07f-c764e69b3d80')\"\n",
              "              title=\"Convert this dataframe to an interactive table.\"\n",
              "              style=\"display:none;\">\n",
              "        \n",
              "  <svg xmlns=\"http://www.w3.org/2000/svg\" height=\"24px\"viewBox=\"0 0 24 24\"\n",
              "       width=\"24px\">\n",
              "    <path d=\"M0 0h24v24H0V0z\" fill=\"none\"/>\n",
              "    <path d=\"M18.56 5.44l.94 2.06.94-2.06 2.06-.94-2.06-.94-.94-2.06-.94 2.06-2.06.94zm-11 1L8.5 8.5l.94-2.06 2.06-.94-2.06-.94L8.5 2.5l-.94 2.06-2.06.94zm10 10l.94 2.06.94-2.06 2.06-.94-2.06-.94-.94-2.06-.94 2.06-2.06.94z\"/><path d=\"M17.41 7.96l-1.37-1.37c-.4-.4-.92-.59-1.43-.59-.52 0-1.04.2-1.43.59L10.3 9.45l-7.72 7.72c-.78.78-.78 2.05 0 2.83L4 21.41c.39.39.9.59 1.41.59.51 0 1.02-.2 1.41-.59l7.78-7.78 2.81-2.81c.8-.78.8-2.07 0-2.86zM5.41 20L4 18.59l7.72-7.72 1.47 1.35L5.41 20z\"/>\n",
              "  </svg>\n",
              "      </button>\n",
              "      \n",
              "  <style>\n",
              "    .colab-df-container {\n",
              "      display:flex;\n",
              "      flex-wrap:wrap;\n",
              "      gap: 12px;\n",
              "    }\n",
              "\n",
              "    .colab-df-convert {\n",
              "      background-color: #E8F0FE;\n",
              "      border: none;\n",
              "      border-radius: 50%;\n",
              "      cursor: pointer;\n",
              "      display: none;\n",
              "      fill: #1967D2;\n",
              "      height: 32px;\n",
              "      padding: 0 0 0 0;\n",
              "      width: 32px;\n",
              "    }\n",
              "\n",
              "    .colab-df-convert:hover {\n",
              "      background-color: #E2EBFA;\n",
              "      box-shadow: 0px 1px 2px rgba(60, 64, 67, 0.3), 0px 1px 3px 1px rgba(60, 64, 67, 0.15);\n",
              "      fill: #174EA6;\n",
              "    }\n",
              "\n",
              "    [theme=dark] .colab-df-convert {\n",
              "      background-color: #3B4455;\n",
              "      fill: #D2E3FC;\n",
              "    }\n",
              "\n",
              "    [theme=dark] .colab-df-convert:hover {\n",
              "      background-color: #434B5C;\n",
              "      box-shadow: 0px 1px 3px 1px rgba(0, 0, 0, 0.15);\n",
              "      filter: drop-shadow(0px 1px 2px rgba(0, 0, 0, 0.3));\n",
              "      fill: #FFFFFF;\n",
              "    }\n",
              "  </style>\n",
              "\n",
              "      <script>\n",
              "        const buttonEl =\n",
              "          document.querySelector('#df-03f7c640-2269-4d4c-a07f-c764e69b3d80 button.colab-df-convert');\n",
              "        buttonEl.style.display =\n",
              "          google.colab.kernel.accessAllowed ? 'block' : 'none';\n",
              "\n",
              "        async function convertToInteractive(key) {\n",
              "          const element = document.querySelector('#df-03f7c640-2269-4d4c-a07f-c764e69b3d80');\n",
              "          const dataTable =\n",
              "            await google.colab.kernel.invokeFunction('convertToInteractive',\n",
              "                                                     [key], {});\n",
              "          if (!dataTable) return;\n",
              "\n",
              "          const docLinkHtml = 'Like what you see? Visit the ' +\n",
              "            '<a target=\"_blank\" href=https://colab.research.google.com/notebooks/data_table.ipynb>data table notebook</a>'\n",
              "            + ' to learn more about interactive tables.';\n",
              "          element.innerHTML = '';\n",
              "          dataTable['output_type'] = 'display_data';\n",
              "          await google.colab.output.renderOutput(dataTable, element);\n",
              "          const docLink = document.createElement('div');\n",
              "          docLink.innerHTML = docLinkHtml;\n",
              "          element.appendChild(docLink);\n",
              "        }\n",
              "      </script>\n",
              "    </div>\n",
              "  </div>\n",
              "  "
            ]
          },
          "metadata": {}
        },
        {
          "output_type": "stream",
          "name": "stdout",
          "text": [
            "Cantidad de outliers:\n"
          ]
        },
        {
          "output_type": "display_data",
          "data": {
            "text/plain": [
              "estim_conc    1\n",
              "dtype: int64"
            ]
          },
          "metadata": {}
        }
      ],
      "source": [
        "outliers = []\n",
        "for i,el in enumerate(cuantitativas):\n",
        "  std_value= data[el].std()\n",
        "  outliers.append(data.loc[np.abs( (data[el] - data[el].mean()) / data[el].std())  > 3, [el]])\n",
        "  display(outliers[i])\n",
        "  print(\"Cantidad de outliers:\")\n",
        "  display(outliers[i].count())"
      ]
    },
    {
      "cell_type": "code",
      "source": [
        "#std_value= data[\"num_peces\"].std()\n",
        "#data = data.loc[(data[\"num_peces\"] < 3  * std_value) & (data[\"num_peces\"] > -3 * std_value)]\n",
        "#data = \n",
        "#data.loc[data[\"num_peces\"] != 24].count()"
      ],
      "metadata": {
        "id": "K2knRCgUW1Fj"
      },
      "execution_count": 148,
      "outputs": []
    },
    {
      "cell_type": "markdown",
      "metadata": {
        "id": "o3E_IV0dM0SA"
      },
      "source": [
        "* Histogramas"
      ]
    },
    {
      "cell_type": "code",
      "execution_count": 149,
      "metadata": {
        "execution": {
          "iopub.execute_input": "2022-08-29T00:08:50.836507Z",
          "iopub.status.busy": "2022-08-29T00:08:50.835420Z",
          "iopub.status.idle": "2022-08-29T00:08:51.005598Z",
          "shell.execute_reply": "2022-08-29T00:08:51.004338Z",
          "shell.execute_reply.started": "2022-08-29T00:08:50.836464Z"
        },
        "trusted": true,
        "id": "b0TK6XQVM0SA",
        "colab": {
          "base_uri": "https://localhost:8080/",
          "height": 729
        },
        "outputId": "7a9a6214-a185-4af2-e1b4-53e057ecbd25"
      },
      "outputs": [
        {
          "output_type": "display_data",
          "data": {
            "text/plain": [
              "<Figure size 720x720 with 9 Axes>"
            ],
            "image/png": "[encoded data removed]"
          },
          "metadata": {
            "needs_background": "light"
          }
        }
      ],
      "source": [
        "fig, axes = plt.subplots(3,3, figsize=(10, 10))\n",
        "\n",
        "for i,el in enumerate(cuantitativas):\n",
        "    a = data.hist(el, ax=axes.flatten()[i])\n",
        "\n",
        "plt.tight_layout() \n"
      ]
    },
    {
      "cell_type": "markdown",
      "source": [
        "**Comparación de número de peces con concentración de mercurio**"
      ],
      "metadata": {
        "id": "ROa6IDmvajUO"
      }
    },
    {
      "cell_type": "code",
      "source": [
        "sns.barplot(x = data[\"num_peces\"], y = data[\"conc_mercurio\"])\n",
        "plt.show()"
      ],
      "metadata": {
        "id": "XwYli25I_8-T",
        "colab": {
          "base_uri": "https://localhost:8080/",
          "height": 279
        },
        "outputId": "f4ccebe8-179a-4466-d76f-8a0d31efc44a"
      },
      "execution_count": 150,
      "outputs": [
        {
          "output_type": "display_data",
          "data": {
            "text/plain": [
              "<Figure size 432x288 with 1 Axes>"
            ],
            "image/png": "[encoded data removed]"
          },
          "metadata": {
            "needs_background": "light"
          }
        }
      ]
    },
    {
      "cell_type": "markdown",
      "source": [
        "**Observaciones**\n",
        "\n",
        "*   La concentración media de mercurio cambia con la cantidad de peces.\n",
        "*   Parece que la concentración del mercurio comparada con la cantidad peces cambia de forma aleatoria, es decir, no se observa algún patron o tendencia que se siga.\n",
        "\n"
      ],
      "metadata": {
        "id": "0ShKcBVoar2u"
      }
    },
    {
      "cell_type": "markdown",
      "source": [
        "** **texto en negrita**Comparación de alcalinidad con concentración de mercurio**"
      ],
      "metadata": {
        "id": "VnqxBAXjbkLG"
      }
    },
    {
      "cell_type": "code",
      "source": [
        "sns.barplot(x = data[\"alcalinidad\"], y = data[\"conc_mercurio\"])\n",
        "plt.show()"
      ],
      "metadata": {
        "id": "yOQn9VNBb1CD",
        "colab": {
          "base_uri": "https://localhost:8080/",
          "height": 279
        },
        "outputId": "77e3f021-cceb-4406-8c0a-8eb8048ca5ba"
      },
      "execution_count": 151,
      "outputs": [
        {
          "output_type": "display_data",
          "data": {
            "text/plain": [
              "<Figure size 432x288 with 1 Axes>"
            ],
            "image/png": "[encoded data removed]"
          },
          "metadata": {
            "needs_background": "light"
          }
        }
      ]
    },
    {
      "cell_type": "markdown",
      "source": [
        "**Observaciones**\n",
        "* Parece que mientras aumenta el valor de la alcalinidad, la concentración media de mercurio disminuye."
      ],
      "metadata": {
        "id": "L4f_WVvjd0nj"
      }
    },
    {
      "cell_type": "markdown",
      "source": [
        "**Comparación de clorofila con concentración de mercurio**"
      ],
      "metadata": {
        "id": "Cm4IRciXbums"
      }
    },
    {
      "cell_type": "code",
      "source": [
        "sns.barplot(x = data[\"clorofila\"], y = data[\"conc_mercurio\"])\n",
        "plt.show()"
      ],
      "metadata": {
        "id": "CPM5TDxxb_8Y",
        "colab": {
          "base_uri": "https://localhost:8080/",
          "height": 279
        },
        "outputId": "a9a512b1-c9b8-423f-f2dc-9d61a021f9f9"
      },
      "execution_count": 152,
      "outputs": [
        {
          "output_type": "display_data",
          "data": {
            "text/plain": [
              "<Figure size 432x288 with 1 Axes>"
            ],
            "image/png": "[encoded data removed]"
          },
          "metadata": {
            "needs_background": "light"
          }
        }
      ]
    },
    {
      "cell_type": "markdown",
      "source": [
        "**Observaciones**\n",
        "* Se observa que la clorofila se comporta de forma similar a la alcalinidad al relacionarse con la concentración de mercurio, este tipo de relación podría indicar una correlación negativa y que la clorofila y la alcalinidad están correlacionadas."
      ],
      "metadata": {
        "id": "msyQlIk1eCyM"
      }
    },
    {
      "cell_type": "markdown",
      "source": [
        "**Comparación de calcio con concentración de mercurio**"
      ],
      "metadata": {
        "id": "qfpmsYpObyCx"
      }
    },
    {
      "cell_type": "code",
      "source": [
        "sns.barplot(x = data[\"calcio\"], y = data[\"conc_mercurio\"])\n",
        "plt.show()"
      ],
      "metadata": {
        "id": "OOBLlcSVcDUa",
        "colab": {
          "base_uri": "https://localhost:8080/",
          "height": 279
        },
        "outputId": "8b3b4fce-6b9b-4c01-c8a5-3f2dfbcf0793"
      },
      "execution_count": 153,
      "outputs": [
        {
          "output_type": "display_data",
          "data": {
            "text/plain": [
              "<Figure size 432x288 with 1 Axes>"
            ],
            "image/png": "[encoded data removed]"
          },
          "metadata": {
            "needs_background": "light"
          }
        }
      ]
    },
    {
      "cell_type": "markdown",
      "source": [
        "En la relación del calcio con la concentración de mercurio también se observa una tendencia a que la concentración disminuya cuando el valor de la clorofila aumenta, sin embargo esta no está tendencia no es tan notoria como en las variables anteriores."
      ],
      "metadata": {
        "id": "953oCrTJwj3R"
      }
    },
    {
      "cell_type": "markdown",
      "source": [
        "****"
      ],
      "metadata": {
        "id": "mo-t6BOsbT4W"
      }
    },
    {
      "cell_type": "markdown",
      "metadata": {
        "id": "Nt25tSeaM0SB"
      },
      "source": [
        "#### Variables categóricas"
      ]
    },
    {
      "cell_type": "markdown",
      "metadata": {
        "id": "rmfPirdWM0SC"
      },
      "source": [
        "* Distribución de los datos (diagramas de barras, diagramas de pastel)"
      ]
    },
    {
      "cell_type": "markdown",
      "metadata": {
        "id": "r89jCtiUM0SC"
      },
      "source": [
        "**Work_year**"
      ]
    },
    {
      "cell_type": "code",
      "execution_count": 154,
      "metadata": {
        "execution": {
          "iopub.execute_input": "2022-08-29T00:08:51.163970Z",
          "iopub.status.busy": "2022-08-29T00:08:51.163307Z",
          "iopub.status.idle": "2022-08-29T00:08:51.286141Z",
          "shell.execute_reply": "2022-08-29T00:08:51.284300Z",
          "shell.execute_reply.started": "2022-08-29T00:08:51.163920Z"
        },
        "trusted": true,
        "id": "PB8aBUw_M0SC",
        "colab": {
          "base_uri": "https://localhost:8080/",
          "height": 591
        },
        "outputId": "5a044dd6-1c63-489e-8b51-c160c0f12796"
      },
      "outputs": [
        {
          "output_type": "display_data",
          "data": {
            "text/plain": [
              "<Figure size 432x288 with 1 Axes>"
            ],
            "image/png": "[encoded data removed]"
          },
          "metadata": {}
        },
        {
          "output_type": "display_data",
          "data": {
            "text/plain": [
              "<Figure size 432x288 with 1 Axes>"
            ],
            "image/png": "[encoded data removed]"
          },
          "metadata": {
            "needs_background": "light"
          }
        }
      ],
      "source": [
        "data.groupby(['nombre_lago'])['nombre_lago'].count().plot.pie(y = 'count', autopct='%1.0f%%')\n",
        "plt.show()\n",
        "data.groupby(['nombre_lago'])['nombre_lago'].count().plot.bar(y = 'count')\n",
        "plt.show()"
      ]
    },
    {
      "cell_type": "code",
      "source": [
        "sns.barplot(x = data[\"nombre_lago\"], y = data[\"conc_mercurio\"])\n",
        "plt.show()"
      ],
      "metadata": {
        "id": "XDyWTTIJxFS6",
        "colab": {
          "base_uri": "https://localhost:8080/",
          "height": 280
        },
        "outputId": "bee3b820-44ef-46e0-9288-5ae4c9cb3133"
      },
      "execution_count": 155,
      "outputs": [
        {
          "output_type": "display_data",
          "data": {
            "text/plain": [
              "<Figure size 432x288 with 1 Axes>"
            ],
            "image/png": "[encoded data removed]"
          },
          "metadata": {
            "needs_background": "light"
          }
        }
      ]
    },
    {
      "cell_type": "markdown",
      "metadata": {
        "id": "-MYN64TAM0SE"
      },
      "source": [
        "**Observaciones**\n",
        "* La concentración media de mercurio cambia dependiendo del lago."
      ]
    },
    {
      "cell_type": "markdown",
      "metadata": {
        "id": "FrSnI7izM0SE"
      },
      "source": [
        "**Experience_level**"
      ]
    },
    {
      "cell_type": "code",
      "execution_count": 156,
      "metadata": {
        "execution": {
          "iopub.execute_input": "2022-08-29T00:08:51.733786Z",
          "iopub.status.busy": "2022-08-29T00:08:51.732355Z",
          "iopub.status.idle": "2022-08-29T00:08:51.968787Z",
          "shell.execute_reply": "2022-08-29T00:08:51.967447Z",
          "shell.execute_reply.started": "2022-08-29T00:08:51.733732Z"
        },
        "trusted": true,
        "id": "lZX-jViaM0SE",
        "colab": {
          "base_uri": "https://localhost:8080/",
          "height": 507
        },
        "outputId": "81117150-d2a4-4262-946f-1cebb0f4defc"
      },
      "outputs": [
        {
          "output_type": "display_data",
          "data": {
            "text/plain": [
              "<Figure size 432x288 with 1 Axes>"
            ],
            "image/png": "[encoded data removed]"
          },
          "metadata": {}
        },
        {
          "output_type": "display_data",
          "data": {
            "text/plain": [
              "<Figure size 432x288 with 1 Axes>"
            ],
            "image/png": "[encoded data removed]"
          },
          "metadata": {
            "needs_background": "light"
          }
        }
      ],
      "source": [
        "data.groupby(['edad'])['edad'].count().plot.pie(y = 'count', autopct='%1.0f%%')\n",
        "plt.show()\n",
        "data.groupby(['edad'])['edad'].count().plot.bar(y = 'count')\n",
        "plt.show()"
      ]
    },
    {
      "cell_type": "code",
      "execution_count": 157,
      "metadata": {
        "execution": {
          "iopub.execute_input": "2022-08-29T00:08:51.971497Z",
          "iopub.status.busy": "2022-08-29T00:08:51.970971Z",
          "iopub.status.idle": "2022-08-29T00:08:52.225735Z",
          "shell.execute_reply": "2022-08-29T00:08:52.224727Z",
          "shell.execute_reply.started": "2022-08-29T00:08:51.971438Z"
        },
        "trusted": true,
        "id": "m1Z-kUyVM0SE",
        "colab": {
          "base_uri": "https://localhost:8080/",
          "height": 279
        },
        "outputId": "fe6a50d1-0ae4-4c4e-f3df-bd381ec5eafc"
      },
      "outputs": [
        {
          "output_type": "display_data",
          "data": {
            "text/plain": [
              "<Figure size 432x288 with 1 Axes>"
            ],
            "image/png": "[encoded data removed]"
          },
          "metadata": {
            "needs_background": "light"
          }
        }
      ],
      "source": [
        "sns.barplot(x = data[\"edad\"], y = data[\"conc_mercurio\"])\n",
        "plt.show()"
      ]
    },
    {
      "cell_type": "markdown",
      "metadata": {
        "id": "iqkNb2o5M0SF"
      },
      "source": [
        "**Observaciones**\n",
        "\n",
        "* La concentración media de mercurio no varia mucho dependiendo de la edad, aun así, parece que hay menos concentración en los peces jovenes."
      ]
    },
    {
      "cell_type": "markdown",
      "metadata": {
        "id": "eaX6XmCeM0SO"
      },
      "source": [
        "### 3. Explora la correlación entre las variables. Identifica cuáles son las correlaciones más fuertes y qué sentido tiene relacionarlas.\n",
        "\n"
      ]
    },
    {
      "cell_type": "code",
      "source": [
        "%load_ext rpy2.ipython"
      ],
      "metadata": {
        "colab": {
          "base_uri": "https://localhost:8080/"
        },
        "id": "AO33uET9IfjS",
        "outputId": "d404587d-b4c4-4b78-a23f-db535fe7da84"
      },
      "execution_count": 158,
      "outputs": [
        {
          "output_type": "stream",
          "name": "stdout",
          "text": [
            "The rpy2.ipython extension is already loaded. To reload it, use:\n",
            "  %reload_ext rpy2.ipython\n"
          ]
        }
      ]
    },
    {
      "cell_type": "code",
      "source": [
        "%%R\n",
        "install.packages(\"MASS\")\n",
        "install.packages(\"nortest\")\n",
        "install.packages(\"VGAM\") # Yeo jhoson\n",
        "install.packages(\"survival\")\n",
        "install.packages(\"lattice\")\n",
        "install.packages(\"ggplot2\")\n",
        "install.packages(\"Hmisc\")"
      ],
      "metadata": {
        "colab": {
          "base_uri": "https://localhost:8080/",
          "height": 52
        },
        "id": "YKN1o7H-JaIn",
        "outputId": "c2860831-787b-405d-87bd-a49d6c5ee80c"
      },
      "execution_count": 159,
      "outputs": [
        {
          "output_type": "execute_result",
          "data": {
            "text/plain": [
              "'%%R\\ninstall.packages(\"MASS\")\\ninstall.packages(\"nortest\")\\ninstall.packages(\"VGAM\") # Yeo jhoson\\ninstall.packages(\"survival\")\\ninstall.packages(\"lattice\")\\ninstall.packages(\"ggplot2\")\\ninstall.packages(\"Hmisc\")'"
            ],
            "application/vnd.google.colaboratory.intrinsic+json": {
              "type": "string"
            }
          },
          "metadata": {},
          "execution_count": 159
        }
      ]
    },
    {
      "cell_type": "code",
      "source": [
        "%%R\n",
        "library(MASS)\n",
        "library(nortest)\n",
        "library(VGAM) # Yeo jhoson"
      ],
      "metadata": {
        "id": "OcsW9y8Q78yW"
      },
      "execution_count": 160,
      "outputs": []
    },
    {
      "cell_type": "code",
      "source": [
        "%%R -i data\n",
        "conc_merc1 = data$conc_merc\n",
        "alcalinidad1 = data$alcalinidad\n",
        "ph1 = data$ph\n",
        "calcio1 = data$calcio\n",
        "clorofila1 = data$clorofila\n",
        "num_peces1 = data$num_peces\n",
        "min_conc = data$min_conc\n",
        "max_conc = data$max_conc\n",
        "estim_conc = data$estim_conc\n",
        "edad1 = data$edad"
      ],
      "metadata": {
        "id": "98XGSeYHHKDr"
      },
      "execution_count": 161,
      "outputs": []
    },
    {
      "cell_type": "code",
      "source": [
        "%%R\n",
        "alcalinidad_box<-boxcox(alcalinidad1~1)\n",
        "alcalinidadV = alcalinidad_box$x[which.max(alcalinidad_box$y)]\n",
        "\n",
        "ph_box<-boxcox(ph1~1)\n",
        "phV = ph_box$x[which.max(ph_box$y)]\n",
        "\n",
        "calcio_box<-boxcox(calcio1~1)\n",
        "calcioV = calcio_box$x[which.max(calcio_box$y)]\n",
        "\n",
        "clorofila_box<-boxcox(clorofila1~1)\n",
        "clorofilaV = clorofila_box$x[which.max(clorofila_box$y)]\n",
        "\n",
        "num_peces_box<-boxcox(num_peces1~1)\n",
        "num_pecesV = num_peces_box$x[which.max(num_peces_box$y)]\n",
        "\n",
        "edad_box<-boxcox(edad1+1~1)\n",
        "edadV = edad_box$x[which.max(edad_box$y)]\n",
        "\n",
        "conc_merc_box<-boxcox(conc_merc1~1)\n",
        "conc_mercV = conc_merc_box$x[which.max(conc_merc_box$y)]\n"
      ],
      "metadata": {
        "colab": {
          "base_uri": "https://localhost:8080/",
          "height": 1000
        },
        "id": "AAfgFORCKc-7",
        "outputId": "36f7a9ad-e59c-4335-b3f2-93c87ed1037e"
      },
      "execution_count": 162,
      "outputs": [
        {
          "output_type": "display_data",
          "data": {
            "image/png": "[encoded data removed]"
          },
          "metadata": {}
        },
        {
          "output_type": "display_data",
          "data": {
            "image/png": "[encoded data removed]"
          },
          "metadata": {}
        },
        {
          "output_type": "display_data",
          "data": {
            "image/png": "[encoded data removed]"
          },
          "metadata": {}
        },
        {
          "output_type": "display_data",
          "data": {
            "image/png": "[encoded data removed]"
          },
          "metadata": {}
        },
        {
          "output_type": "display_data",
          "data": {
            "image/png": "[encoded data removed]"
          },
          "metadata": {}
        },
        {
          "output_type": "display_data",
          "data": {
            "image/png": "[encoded data removed]"
          },
          "metadata": {}
        },
        {
          "output_type": "display_data",
          "data": {
            "image/png": "[encoded data removed]"
          },
          "metadata": {}
        }
      ]
    },
    {
      "cell_type": "code",
      "source": [
        "%%R\n",
        "alcalinidad = log(alcalinidad1)\n",
        "hist(alcalinidad)\n",
        "ad.test(alcalinidad)"
      ],
      "metadata": {
        "colab": {
          "base_uri": "https://localhost:8080/",
          "height": 601
        },
        "id": "uwhmrj0mMeB4",
        "outputId": "ad0c6fcb-7c71-473e-e665-14982ca89cd0"
      },
      "execution_count": 164,
      "outputs": [
        {
          "output_type": "stream",
          "name": "stdout",
          "text": [
            "\n",
            "\tAnderson-Darling normality test\n",
            "\n",
            "data:  alcalinidad\n",
            "A = 0.87042, p-value = 0.02387\n",
            "\n"
          ]
        },
        {
          "output_type": "display_data",
          "data": {
            "image/png": "[encoded data removed]"
          },
          "metadata": {}
        }
      ]
    },
    {
      "cell_type": "code",
      "source": [
        "%%R\n",
        "hist(ph1)\n",
        "ph = ph1\n",
        "ad.test(ph1)"
      ],
      "metadata": {
        "colab": {
          "base_uri": "https://localhost:8080/",
          "height": 601
        },
        "id": "W37fvAM5TzX6",
        "outputId": "854837b4-7522-45bf-d61c-275030283261"
      },
      "execution_count": 165,
      "outputs": [
        {
          "output_type": "stream",
          "name": "stdout",
          "text": [
            "\n",
            "\tAnderson-Darling normality test\n",
            "\n",
            "data:  ph1\n",
            "A = 0.34956, p-value = 0.4611\n",
            "\n"
          ]
        },
        {
          "output_type": "display_data",
          "data": {
            "image/png": "[encoded data removed]"
          },
          "metadata": {}
        }
      ]
    },
    {
      "cell_type": "code",
      "source": [
        "%%R\n",
        "hist(calcio1) \n",
        "calcio = log(calcio1)  \n",
        "hist(calcio)\n",
        "ad.test(calcio)"
      ],
      "metadata": {
        "colab": {
          "base_uri": "https://localhost:8080/",
          "height": 1000
        },
        "id": "mOroLoyKUcdn",
        "outputId": "05d4b531-7e90-4746-a499-982b8eef09fe"
      },
      "execution_count": 166,
      "outputs": [
        {
          "output_type": "stream",
          "name": "stdout",
          "text": [
            "\n",
            "\tAnderson-Darling normality test\n",
            "\n",
            "data:  calcio\n",
            "A = 0.78183, p-value = 0.03976\n",
            "\n"
          ]
        },
        {
          "output_type": "display_data",
          "data": {
            "image/png": "[encoded data removed]"
          },
          "metadata": {}
        },
        {
          "output_type": "display_data",
          "data": {
            "image/png": "[encoded data removed]"
          },
          "metadata": {}
        }
      ]
    },
    {
      "cell_type": "code",
      "source": [
        "%%R\n",
        "hist(clorofila1) \n",
        "clorofila = log(clorofila1)  \n",
        "hist(clorofila)"
      ],
      "metadata": {
        "colab": {
          "base_uri": "https://localhost:8080/",
          "height": 977
        },
        "id": "Lh_jWdh5Vx6J",
        "outputId": "18141ee2-102b-459f-df27-6671123e4a70"
      },
      "execution_count": 167,
      "outputs": [
        {
          "output_type": "display_data",
          "data": {
            "image/png": "[encoded data removed]"
          },
          "metadata": {}
        },
        {
          "output_type": "display_data",
          "data": {
            "image/png": "[encoded data removed]"
          },
          "metadata": {}
        }
      ]
    },
    {
      "cell_type": "code",
      "source": [
        "%%R\n",
        "hist(num_peces1) \n",
        "num_peces = (num_peces1^num_pecesV-1)/num_pecesV\n",
        "hist(num_peces)\n",
        "ad.test(num_peces)"
      ],
      "metadata": {
        "colab": {
          "base_uri": "https://localhost:8080/",
          "height": 1000
        },
        "id": "KNW0V_PCV8y-",
        "outputId": "1d982d80-49ac-4a6a-9c4f-3d03c1875285"
      },
      "execution_count": 168,
      "outputs": [
        {
          "output_type": "stream",
          "name": "stdout",
          "text": [
            "\n",
            "\tAnderson-Darling normality test\n",
            "\n",
            "data:  num_peces\n",
            "A = 3.6788, p-value = 2.612e-09\n",
            "\n"
          ]
        },
        {
          "output_type": "display_data",
          "data": {
            "image/png": "[encoded data removed]"
          },
          "metadata": {}
        },
        {
          "output_type": "display_data",
          "data": {
            "image/png": "[encoded data removed]"
          },
          "metadata": {}
        }
      ]
    },
    {
      "cell_type": "code",
      "source": [
        "%%R\n",
        "hist(edad1) \n",
        "edad = edad1"
      ],
      "metadata": {
        "colab": {
          "base_uri": "https://localhost:8080/",
          "height": 497
        },
        "id": "oAQk1-abFnSj",
        "outputId": "cabd8b7d-14fd-43a7-a1ad-0493f69c1cf5"
      },
      "execution_count": 169,
      "outputs": [
        {
          "output_type": "display_data",
          "data": {
            "image/png": "[encoded data removed]"
          },
          "metadata": {}
        }
      ]
    },
    {
      "cell_type": "code",
      "source": [
        "%%R\n",
        "conc_mercV"
      ],
      "metadata": {
        "colab": {
          "base_uri": "https://localhost:8080/"
        },
        "id": "9i5Myrp5IPt9",
        "outputId": "e76d42b6-d0f5-4722-a52e-1c7b7168ab4e"
      },
      "execution_count": 170,
      "outputs": [
        {
          "output_type": "stream",
          "name": "stdout",
          "text": [
            "[1] 0.4646465\n"
          ]
        }
      ]
    },
    {
      "cell_type": "code",
      "source": [
        "%%R\n",
        "hist(conc_merc1) \n",
        "conc_merc = (conc_merc1^conc_mercV-1)/conc_mercV\n",
        "hist(conc_merc)\n",
        "ad.test(conc_merc)"
      ],
      "metadata": {
        "colab": {
          "base_uri": "https://localhost:8080/",
          "height": 1000
        },
        "id": "5gFl19ThH6qh",
        "outputId": "93c53901-d23a-499f-ee0f-d6a55b374f2f"
      },
      "execution_count": 171,
      "outputs": [
        {
          "output_type": "stream",
          "name": "stdout",
          "text": [
            "\n",
            "\tAnderson-Darling normality test\n",
            "\n",
            "data:  conc_merc\n",
            "A = 0.2334, p-value = 0.7864\n",
            "\n"
          ]
        },
        {
          "output_type": "display_data",
          "data": {
            "image/png": "[encoded data removed]"
          },
          "metadata": {}
        },
        {
          "output_type": "display_data",
          "data": {
            "image/png": "[encoded data removed]"
          },
          "metadata": {}
        }
      ]
    },
    {
      "cell_type": "code",
      "source": [
        "%%R\n",
        "alcalinidad = (alcalinidad-mean(alcalinidad))/sd(alcalinidad)\n",
        "calcio = (calcio -mean(calcio ))/sd(calcio )\n",
        "ph = (ph-mean(ph))/sd(ph)\n",
        "clorofila = (clorofila-mean(clorofila))/sd(clorofila)\n",
        "conc_merc = (conc_merc-mean(conc_merc))/sd(conc_merc)\n",
        "num_peces = (num_peces-mean(num_peces))/sd(num_peces)\n",
        "edad = (edad-mean(edad))/sd(edad)"
      ],
      "metadata": {
        "id": "GvMerFJbK9Jc"
      },
      "execution_count": 190,
      "outputs": []
    },
    {
      "cell_type": "code",
      "execution_count": 173,
      "metadata": {
        "execution": {
          "iopub.execute_input": "2022-08-29T00:09:05.777524Z",
          "iopub.status.busy": "2022-08-29T00:09:05.776839Z",
          "iopub.status.idle": "2022-08-29T00:09:05.809733Z",
          "shell.execute_reply": "2022-08-29T00:09:05.808281Z",
          "shell.execute_reply.started": "2022-08-29T00:09:05.777483Z"
        },
        "trusted": true,
        "id": "8oHJRVJAM0SP",
        "colab": {
          "base_uri": "https://localhost:8080/",
          "height": 687
        },
        "outputId": "df227e38-27e2-42e5-ab3e-7b5c03478d8d"
      },
      "outputs": [
        {
          "output_type": "execute_result",
          "data": {
            "text/plain": [
              "<matplotlib.axes._subplots.AxesSubplot at 0x7f6e3afd3c10>"
            ]
          },
          "metadata": {},
          "execution_count": 173
        },
        {
          "output_type": "display_data",
          "data": {
            "text/plain": [
              "<Figure size 720x720 with 2 Axes>"
            ],
            "image/png": "[encoded data removed]"
          },
          "metadata": {
            "needs_background": "light"
          }
        }
      ],
      "source": [
        "columns = cuantitativas+[\"edad\"]\n",
        "num_data = data[columns]\n",
        "plt.figure(figsize=(10,10))\n",
        "cor = num_data.corr()\n",
        "sns.heatmap(cor, annot=True, cmap=plt.cm.Reds,annot_kws = {'fontsize':12})"
      ]
    },
    {
      "cell_type": "markdown",
      "source": [
        "**Correlaciones más fuertes**\n",
        "* Hay una correlación mayor a 0.92 entre las variables mínimo de concentración de mercurio, máximo de concentración de mercurio y estimación de la concentración de mercurio en el pez de 3 años, con la variable de concentración media de mercurio, lo cual tiene sentido pues se trata de datos provenientes del mismo grupo de peces.\n",
        "\n",
        "*   Las variables calcio y alcalindad tienen una correlación de 0.83, lo cual tiene sentido pues la alcalinidad está medida en mg por litros de carbonato de calcio.\n",
        "\n",
        "* Las variables ph y alcalinidad tienen una correlación de 0.72, ya que se trata de medidas similares, pues el ph es una medidad de acidez o alcalinidad en el agua. "
      ],
      "metadata": {
        "id": "GvmwUS3j0WlE"
      }
    },
    {
      "cell_type": "code",
      "source": [
        "%%R\n",
        "library(Hmisc)\n"
      ],
      "metadata": {
        "id": "ihU13kbN1JwF"
      },
      "execution_count": 174,
      "outputs": []
    },
    {
      "cell_type": "code",
      "source": [
        "%%R -i data\n",
        "#data$nombre_lago\n",
        "df <- subset(data, select= -c(nombre_lago))"
      ],
      "metadata": {
        "id": "zAcQw3CO3MCb"
      },
      "execution_count": 175,
      "outputs": []
    },
    {
      "cell_type": "code",
      "source": [
        "%%R\n",
        "Rc = rcorr(as.matrix(df))\n",
        "Rc"
      ],
      "metadata": {
        "id": "0qX5p721zJ0N",
        "colab": {
          "base_uri": "https://localhost:8080/"
        },
        "outputId": "0b7eacb5-9302-450f-b9ea-e31bf1802a39"
      },
      "execution_count": 176,
      "outputs": [
        {
          "output_type": "stream",
          "name": "stdout",
          "text": [
            "               alcalinidad    ph calcio clorofila conc_mercurio num_peces\n",
            "alcalinidad           1.00  0.72   0.83      0.48         -0.59      0.01\n",
            "ph                    0.72  1.00   0.58      0.61         -0.58     -0.02\n",
            "calcio                0.83  0.58   1.00      0.41         -0.40     -0.09\n",
            "clorofila             0.48  0.61   0.41      1.00         -0.49     -0.01\n",
            "conc_mercurio        -0.59 -0.58  -0.40     -0.49          1.00      0.08\n",
            "num_peces             0.01 -0.02  -0.09     -0.01          0.08      1.00\n",
            "min_conc_peces       -0.53 -0.54  -0.33     -0.40          0.93     -0.08\n",
            "max_conc_peces       -0.60 -0.55  -0.41     -0.48          0.92      0.16\n",
            "estim_conc           -0.63 -0.61  -0.46     -0.51          0.96      0.03\n",
            "edad                 -0.09  0.04   0.00     -0.28          0.11      0.21\n",
            "               min_conc_peces max_conc_peces estim_conc  edad\n",
            "alcalinidad             -0.53          -0.60      -0.63 -0.09\n",
            "ph                      -0.54          -0.55      -0.61  0.04\n",
            "calcio                  -0.33          -0.41      -0.46  0.00\n",
            "clorofila               -0.40          -0.48      -0.51 -0.28\n",
            "conc_mercurio            0.93           0.92       0.96  0.11\n",
            "num_peces               -0.08           0.16       0.03  0.21\n",
            "min_conc_peces           1.00           0.77       0.92  0.10\n",
            "max_conc_peces           0.77           1.00       0.86  0.09\n",
            "estim_conc               0.92           0.86       1.00  0.09\n",
            "edad                     0.10           0.09       0.09  1.00\n",
            "\n",
            "n= 53 \n",
            "\n",
            "\n",
            "P\n",
            "               alcalinidad ph     calcio clorofila conc_mercurio num_peces\n",
            "alcalinidad                0.0000 0.0000 0.0003    0.0000        0.9417   \n",
            "ph             0.0000             0.0000 0.0000    0.0000        0.8948   \n",
            "calcio         0.0000      0.0000        0.0023    0.0029        0.5245   \n",
            "clorofila      0.0003      0.0000 0.0023           0.0002        0.9331   \n",
            "conc_mercurio  0.0000      0.0000 0.0029 0.0002                  0.5737   \n",
            "num_peces      0.9417      0.8948 0.5245 0.9331    0.5737                 \n",
            "min_conc_peces 0.0000      0.0000 0.0150 0.0030    0.0000        0.5611   \n",
            "max_conc_peces 0.0000      0.0000 0.0024 0.0002    0.0000        0.2492   \n",
            "estim_conc     0.0000      0.0000 0.0005 0.0001    0.0000        0.8545   \n",
            "edad           0.4989      0.7870 0.9880 0.0400    0.4383        0.1351   \n",
            "               min_conc_peces max_conc_peces estim_conc edad  \n",
            "alcalinidad    0.0000         0.0000         0.0000     0.4989\n",
            "ph             0.0000         0.0000         0.0000     0.7870\n",
            "calcio         0.0150         0.0024         0.0005     0.9880\n",
            "clorofila      0.0030         0.0002         0.0001     0.0400\n",
            "conc_mercurio  0.0000         0.0000         0.0000     0.4383\n",
            "num_peces      0.5611         0.2492         0.8545     0.1351\n",
            "min_conc_peces                0.0000         0.0000     0.4733\n",
            "max_conc_peces 0.0000                        0.0000     0.5043\n",
            "estim_conc     0.0000         0.0000                    0.5243\n",
            "edad           0.4733         0.5043         0.5243           \n"
          ]
        }
      ]
    },
    {
      "cell_type": "markdown",
      "source": [
        "$\\alpha = 0.05$"
      ],
      "metadata": {
        "id": "muGoqA2JnqyE"
      }
    },
    {
      "cell_type": "markdown",
      "source": [
        "**alcalinidad** \n",
        " 0.0000\n",
        "\n",
        "$H_0: \\rho = 0 $\n",
        "\n",
        "$H_0: \\rho \\neq 0 $\n",
        "\n",
        "Se rechaza la hipótesis nula si:\n",
        "  * valor p < 0.05\n",
        "\n",
        "Ya que el valor p de la alcalinidad en relación a la concentración media de mercurio es de 0.0000, se rechaza la hipótesis nula y se concluye que esta variable tiene correlación con la con concentración.\n",
        "\n"
      ],
      "metadata": {
        "id": "DFipoM3_kqJI"
      }
    },
    {
      "cell_type": "markdown",
      "source": [
        "**ph** 0.0000\n",
        "\n",
        "$H_0: \\rho = 0 $\n",
        "\n",
        "$H_0: \\rho \\neq 0 $\n",
        "\n",
        "Se rechaza la hipótesis nula si:\n",
        "* valor p < 0.05\n",
        "\n",
        "Ya que el valor p del ph en relación a la concentración media de mercurio es de 0.0000, se rechaza la hipótesis nula y se concluye que esta variable  tiene correlación con la con concentración."
      ],
      "metadata": {
        "id": "3c8iI9yams4K"
      }
    },
    {
      "cell_type": "markdown",
      "source": [
        "**calcio** 0.0029\n",
        "\n",
        "$H_0: \\rho = 0 $\n",
        "\n",
        "$H_0: \\rho \\neq 0 $\n",
        "\n",
        "Se rechaza la hipótesis nula si:\n",
        "* valor p < 0.05\n",
        "\n",
        "\n",
        "Ya que el valor p del calcio en relación a la concentración media de mercurio es de **0.0029**, se rechaza la hipótesis nula y se concluye que esta variable  tiene correlación con la con concentración."
      ],
      "metadata": {
        "id": "F0V3P7knmyDk"
      }
    },
    {
      "cell_type": "markdown",
      "source": [
        "**clorofila** 0.0002\n",
        "\n",
        "$H_0: \\rho = 0 $\n",
        "\n",
        "$H_0: \\rho \\neq 0 $\n",
        "\n",
        "Se rechaza la hipótesis nula si:\n",
        "* valor p < 0.05\n",
        "\n",
        "Ya que el valor p de la clorofila en relación a la concentración media de mercurio es de **0.0002**, se rechaza la hipótesis nula y se concluye que esta variable  tiene correlación con la con concentración."
      ],
      "metadata": {
        "id": "ZiQvXW8CmzcW"
      }
    },
    {
      "cell_type": "markdown",
      "source": [
        "**num_peces** 0.5737  \n",
        "$H_0: \\rho = 0 $\n",
        "\n",
        "$H_0: \\rho \\neq 0 $\n",
        "\n",
        "Se rechaza la hipótesis nula si:\n",
        "* valor p < 0.05\n",
        "\n",
        "Ya que el valor p del número de peces en relación a la concentración de mercurio es de **0.5737**, no se rechaza la hipótesis nula y se concluye que esta variable no tiene correlación con la con concentración.\n",
        "\n"
      ],
      "metadata": {
        "id": "tXV7B5CDm2vJ"
      }
    },
    {
      "cell_type": "markdown",
      "source": [
        "**min_conc_peces**  0.0000\n",
        "\n",
        "$H_0: \\rho = 0 $\n",
        "\n",
        "$H_0: \\rho \\neq 0 $\n",
        "\n",
        "Se rechaza la hipótesis nula si:\n",
        "* valor p < 0.05\n",
        "\n",
        "Ya que el valor p del mínimo de la concentración de mercurio en relación a la concentración media de mercurio es de **0.0000**, se rechaza la hipótesis nula y se concluye que esta variable  tiene correlación con la con concentración."
      ],
      "metadata": {
        "id": "tBdc7A33m4NS"
      }
    },
    {
      "cell_type": "markdown",
      "source": [
        "**max_conc_peces**  0.0000\n",
        "\n",
        "$H_0: \\rho = 0 $\n",
        "\n",
        "$H_0: \\rho \\neq 0 $\n",
        "\n",
        "Se rechaza la hipótesis nula si:\n",
        "* valor p < 0.05\n",
        "\n",
        "Ya que el valor p del máximo de la concentración de mercurio en relación a la concentración media de mercurio es de **0.0000**, se rechaza la hipótesis nula y se concluye que esta variable tiene correlación con la con concentración."
      ],
      "metadata": {
        "id": "otm1HbhAm5l4"
      }
    },
    {
      "cell_type": "markdown",
      "source": [
        "**estim_conc**   0.0000  \n",
        "\n",
        "$H_0: \\rho = 0 $\n",
        "\n",
        "$H_0: \\rho \\neq 0 $\n",
        "\n",
        "Se rechaza la hipótesis nula si:\n",
        "* valor p < 0.05\n",
        "\n",
        "Ya que el valor p del mínimo de la concentración de mercurio en relación a la estimación de la concentración media de mercurio es de **0.0000**, se rechaza la hipótesis nula y se concluye que esta variable  tiene correlación con la con concentración.\n"
      ],
      "metadata": {
        "id": "mu1M1mvem7Bo"
      }
    },
    {
      "cell_type": "markdown",
      "source": [
        "**edad** 0.4383\n",
        "\n",
        "$H_0: \\rho = 0 $\n",
        "\n",
        "$H_0: \\rho \\neq 0 $\n",
        "\n",
        "Se rechaza la hipótesis nula si:\n",
        "* valor p < 0.05\n",
        "\n",
        "Ya que el valor p de la edad en relación a la concentración media de mercurio es de **0.4383**, no se rechaza la hipótesis nula y se concluye que esta variable no  tiene correlación con la con concentración."
      ],
      "metadata": {
        "id": "D2od5sGbm8XZ"
      }
    },
    {
      "cell_type": "markdown",
      "source": [
        "# 2. Analiza los datos y pregunta base"
      ],
      "metadata": {
        "id": "aNFskOUqEAjf"
      }
    },
    {
      "cell_type": "markdown",
      "source": [
        "## Modelo de regresión lineal multiple"
      ],
      "metadata": {
        "id": "97B2AT8jQwcr"
      }
    },
    {
      "cell_type": "markdown",
      "source": [
        "**Variables que tienen correlación con la concentración media encontradas**\n",
        "\n",
        "\n",
        "*   Alcalinidad\n",
        "*   ph\n",
        "*   calcio\n",
        "*   colorofila\n",
        "*   mínimo de la concentración de mercurio\n",
        "*   máximo de la concentración de mercurio\n",
        "*   estimación de la concentración de mercurio\n",
        "\n",
        "**Variables que no tienen correlación con la concentración media encontradas**\n",
        "\n",
        "* num_peces\n",
        "* edad"
      ],
      "metadata": {
        "id": "e_A7ZtMbqCuB"
      }
    },
    {
      "cell_type": "markdown",
      "source": [
        "Debido a que las tres ultimas variables enlistadas arriba son medidas de concentración, estas no se toman en cuenta para contestar la pregunta de investigación, dado que no son factores que influyen en el nivel de contaminación por mecrurio en los peces, sino que estos solo miden la concentración del mercurio. Sin emabrgo, encontramos que la alcalinidad, el ph, el calcio y la clorofila tienen una correlación significativa con la concentración media de mercurio, por lo que son esas las variables que se van a utilizar para el modelo.\n",
        "\n",
        "A continuación se realiza un modelo de regresión lineal multiple, utilizando el método mixto para así conocer cuales son las variables que generan el mejor modelo para estimar la concentración media de mercurio utilizando como criterio el criterio de información de Akaike."
      ],
      "metadata": {
        "id": "OUJFrMnV5uTc"
      }
    },
    {
      "cell_type": "code",
      "source": [
        "%%R\n",
        "R = lm(conc_merc ~ alcalinidad + ph + calcio + clorofila)\n",
        "summary(R)"
      ],
      "metadata": {
        "id": "BlBmdbl6yBf-",
        "colab": {
          "base_uri": "https://localhost:8080/"
        },
        "outputId": "025ebd6d-f9f9-4175-9ae4-effa0b058637"
      },
      "execution_count": 189,
      "outputs": [
        {
          "output_type": "stream",
          "name": "stdout",
          "text": [
            "\n",
            "Call:\n",
            "lm(formula = conc_merc ~ alcalinidad + ph + calcio + clorofila)\n",
            "\n",
            "Residuals:\n",
            "     Min       1Q   Median       3Q      Max \n",
            "-0.67128 -0.23690  0.00311  0.15941  1.05926 \n",
            "\n",
            "Coefficients:\n",
            "            Estimate Std. Error t value Pr(>|t|)    \n",
            "(Intercept) -0.64590    0.04984 -12.960  < 2e-16 ***\n",
            "alcalinidad -0.39490    0.11475  -3.441  0.00121 ** \n",
            "ph          -0.02910    0.10254  -0.284  0.77782    \n",
            "calcio       0.13902    0.10281   1.352  0.18264    \n",
            "clorofila   -0.09588    0.06615  -1.449  0.15372    \n",
            "---\n",
            "Signif. codes:  0 ‘***’ 0.001 ‘**’ 0.01 ‘*’ 0.05 ‘.’ 0.1 ‘ ’ 1\n",
            "\n",
            "Residual standard error: 0.3628 on 48 degrees of freedom\n",
            "Multiple R-squared:  0.5239,\tAdjusted R-squared:  0.4842 \n",
            "F-statistic:  13.2 on 4 and 48 DF,  p-value: 2.5e-07\n",
            "\n"
          ]
        }
      ]
    },
    {
      "cell_type": "code",
      "source": [
        "%%R\n",
        "step(R, direction = \"both\", trace = 1)"
      ],
      "metadata": {
        "id": "BjPMpF0N8pps",
        "colab": {
          "base_uri": "https://localhost:8080/"
        },
        "outputId": "3c934d5d-7a3f-4efe-d83b-7dd14bd6a8c7"
      },
      "execution_count": 178,
      "outputs": [
        {
          "output_type": "stream",
          "name": "stdout",
          "text": [
            "Start:  AIC=-102.72\n",
            "conc_merc ~ alcalinidad + ph + calcio + clorofila\n",
            "\n",
            "              Df Sum of Sq    RSS      AIC\n",
            "- ph           1   0.01060 6.3297 -104.627\n",
            "- calcio       1   0.24072 6.5598 -102.734\n",
            "<none>                     6.3191 -102.716\n",
            "- clorofila    1   0.27658 6.5957 -102.445\n",
            "- alcalinidad  1   1.55921 7.8783  -93.027\n",
            "\n",
            "Step:  AIC=-104.63\n",
            "conc_merc ~ alcalinidad + calcio + clorofila\n",
            "\n",
            "              Df Sum of Sq    RSS      AIC\n",
            "- calcio       1   0.23012 6.5598 -104.734\n",
            "<none>                     6.3297 -104.627\n",
            "- clorofila    1   0.39820 6.7279 -103.393\n",
            "+ ph           1   0.01060 6.3191 -102.716\n",
            "- alcalinidad  1   2.09494 8.4247  -91.474\n",
            "\n",
            "Step:  AIC=-104.73\n",
            "conc_merc ~ alcalinidad + clorofila\n",
            "\n",
            "              Df Sum of Sq    RSS      AIC\n",
            "<none>                     6.5598 -104.734\n",
            "+ calcio       1    0.2301 6.3297 -104.627\n",
            "- clorofila    1    0.3431 6.9030 -104.032\n",
            "+ ph           1    0.0000 6.5598 -102.734\n",
            "- alcalinidad  1    3.3256 9.8854  -84.999\n",
            "\n",
            "Call:\n",
            "lm(formula = conc_merc ~ alcalinidad + clorofila)\n",
            "\n",
            "Coefficients:\n",
            "(Intercept)  alcalinidad    clorofila  \n",
            "   -0.64590     -0.29883     -0.09599  \n",
            "\n"
          ]
        }
      ]
    },
    {
      "cell_type": "markdown",
      "source": [
        "Como resultado se obtiene que las variables calcio, clorofila y alcalindad son con las que se generaría el mejor modelo.\n",
        "\n",
        "A continuación se evalua el mejor modelo analizando el coeficiente de determinación y realizando las siguientes pruebas a los residuos: normalidad, verificación de media cero, homocedasticidad."
      ],
      "metadata": {
        "id": "yA_r6qflCtOO"
      }
    },
    {
      "cell_type": "markdown",
      "source": [
        "## Verificación del modelo"
      ],
      "metadata": {
        "id": "dMewCZJgRDKA"
      }
    },
    {
      "cell_type": "markdown",
      "source": [
        "$\\alpha = 0.05$"
      ],
      "metadata": {
        "id": "h2cgVwx9iYDZ"
      }
    },
    {
      "cell_type": "code",
      "source": [
        "%%R\n",
        "R = lm(formula = conc_merc ~ alcalinidad + clorofila)\n",
        "summary(R)"
      ],
      "metadata": {
        "colab": {
          "base_uri": "https://localhost:8080/"
        },
        "id": "IjP2CB3mR6V3",
        "outputId": "91f3a189-98b1-49a3-8a70-03a82bb2e3fc"
      },
      "execution_count": 179,
      "outputs": [
        {
          "output_type": "stream",
          "name": "stdout",
          "text": [
            "\n",
            "Call:\n",
            "lm(formula = conc_merc ~ alcalinidad + clorofila)\n",
            "\n",
            "Residuals:\n",
            "    Min      1Q  Median      3Q     Max \n",
            "-0.6953 -0.2386 -0.0358  0.1466  1.1473 \n",
            "\n",
            "Coefficients:\n",
            "            Estimate Std. Error t value Pr(>|t|)    \n",
            "(Intercept) -0.64590    0.04975 -12.982  < 2e-16 ***\n",
            "alcalinidad -0.29883    0.05936  -5.035 6.59e-06 ***\n",
            "clorofila   -0.09599    0.05936  -1.617    0.112    \n",
            "---\n",
            "Signif. codes:  0 ‘***’ 0.001 ‘**’ 0.01 ‘*’ 0.05 ‘.’ 0.1 ‘ ’ 1\n",
            "\n",
            "Residual standard error: 0.3622 on 50 degrees of freedom\n",
            "Multiple R-squared:  0.5057,\tAdjusted R-squared:  0.486 \n",
            "F-statistic: 25.58 on 2 and 50 DF,  p-value: 2.233e-08\n",
            "\n"
          ]
        }
      ]
    },
    {
      "cell_type": "markdown",
      "source": [
        "**Coeficiente de determinación =** 0.5057\n",
        "\n",
        "**Coeficiente de determinación ajustado =** 0.486\n",
        "\n",
        "El coeficiente de determinación tiene un valor de 0.5057 lo cual indica que hay algo de variación explicada por el modelo, sin embargo, no es el valor más óptimo."
      ],
      "metadata": {
        "id": "60x1fLMVnTx_"
      }
    },
    {
      "cell_type": "markdown",
      "source": [
        "### Normalidad"
      ],
      "metadata": {
        "id": "Ntb6HnAIRIKu"
      }
    },
    {
      "cell_type": "markdown",
      "source": [
        "**Hipótesis**\n",
        "\n",
        "$H_0$: Los datos son normales\n",
        "\n",
        "$H_1$: Los datos no son normales\n",
        "\n",
        "**Regla de decisión**\n",
        "\n",
        "Se rechaza $H_0$ si:\n",
        "* Valor p < $\\alpha$ "
      ],
      "metadata": {
        "id": "ajGqQg9lRNgU"
      }
    },
    {
      "cell_type": "code",
      "source": [
        "%%R\n",
        "residuals = R$residuals\n",
        "qqnorm(residuals)\n",
        "qqline(residuals,col=\"blue\")\n",
        "\n",
        "hist(residuals,freq=FALSE)\n",
        "lines(density(residuals),col=\"red\")\n",
        "curve(dnorm(x,mean=mean(residuals),sd=sd(residuals)), from=-10,to=10,add=TRUE, col=\"blue\",lwd=2)"
      ],
      "metadata": {
        "colab": {
          "base_uri": "https://localhost:8080/",
          "height": 977
        },
        "id": "W3rtfM1lRHCw",
        "outputId": "b81e0334-5ec8-4375-9035-e4dca00899ba"
      },
      "execution_count": 180,
      "outputs": [
        {
          "output_type": "display_data",
          "data": {
            "image/png": "[encoded data removed]"
          },
          "metadata": {}
        },
        {
          "output_type": "display_data",
          "data": {
            "image/png": "[encoded data removed]"
          },
          "metadata": {}
        }
      ]
    },
    {
      "cell_type": "code",
      "source": [
        "%%R\n",
        "shapiro.test(residuals)"
      ],
      "metadata": {
        "colab": {
          "base_uri": "https://localhost:8080/"
        },
        "id": "aC3UxoKWRFXt",
        "outputId": "742de2ed-bba9-4268-901c-d0cd60b39474"
      },
      "execution_count": 181,
      "outputs": [
        {
          "output_type": "stream",
          "name": "stdout",
          "text": [
            "\n",
            "\tShapiro-Wilk normality test\n",
            "\n",
            "data:  residuals\n",
            "W = 0.96719, p-value = 0.1523\n",
            "\n"
          ]
        }
      ]
    },
    {
      "cell_type": "markdown",
      "source": [
        "**Análisis y conclusión**\n",
        "\n",
        "\n",
        "* En la qqplot se observa que la mayoría de los residuos se ajustan idealmente a la linea normal.\n",
        "* La forma del histograma se asemeja a una distribución normal. \n",
        "* El valor-p en la prueba de Shapiro tiene un valor de 0.1523, este es mayor a 0.05 por lo que no se rechaza la hipótesis nula.\n",
        "\n",
        "\n",
        "Tomando en cuenta las observaciones, se concluye que los residuos son normales.\n"
      ],
      "metadata": {
        "id": "v_kn4WmJZqPB"
      }
    },
    {
      "cell_type": "markdown",
      "source": [
        "### Verificación de media cero"
      ],
      "metadata": {
        "id": "8vHuCzzAbRSJ"
      }
    },
    {
      "cell_type": "markdown",
      "source": [
        "**Hipótesis**\n",
        "\n",
        "$H_0 = 0$\n",
        "\n",
        "$H_1 \\neq 0$\n",
        "\n",
        "**Regla de decisión**\n",
        "\n",
        "Se rechaza H_0 si:\n",
        "\n",
        "* Valor p < $\\alpha$ "
      ],
      "metadata": {
        "id": "QQ0GjDlCbXr8"
      }
    },
    {
      "cell_type": "code",
      "source": [
        "%%R\n",
        "t.test(residuals)"
      ],
      "metadata": {
        "colab": {
          "base_uri": "https://localhost:8080/"
        },
        "id": "FQV_BBlhb9UU",
        "outputId": "94961198-787c-488e-bc17-9dc4a2aea6f1"
      },
      "execution_count": 182,
      "outputs": [
        {
          "output_type": "stream",
          "name": "stdout",
          "text": [
            "\n",
            "\tOne Sample t-test\n",
            "\n",
            "data:  residuals\n",
            "t = 3.4585e-17, df = 52, p-value = 1\n",
            "alternative hypothesis: true mean is not equal to 0\n",
            "95 percent confidence interval:\n",
            " -0.09789895  0.09789895\n",
            "sample estimates:\n",
            "  mean of x \n",
            "1.68729e-18 \n",
            "\n"
          ]
        }
      ]
    },
    {
      "cell_type": "markdown",
      "source": [
        "**Análisis y conclusión**\n",
        "\n",
        "El valor p es mayor a 0.05, por esta razón no se rechaza la hipótesis nula y se concluye que la media de los residuos es 0.\n",
        "\n"
      ],
      "metadata": {
        "id": "FYHrxc8Db8zu"
      }
    },
    {
      "cell_type": "markdown",
      "source": [
        "#### Homocedasticidad"
      ],
      "metadata": {
        "id": "7I9-o0yobdyP"
      }
    },
    {
      "cell_type": "code",
      "source": [
        "%%R\n",
        "plot(R$fitted.values,residuals)\n",
        "abline(h=0, col=\"blue\")"
      ],
      "metadata": {
        "colab": {
          "base_uri": "https://localhost:8080/",
          "height": 497
        },
        "id": "mB8OgOSocvKo",
        "outputId": "d5603ddf-1313-4c59-fa5c-c1928cf153b3"
      },
      "execution_count": 183,
      "outputs": [
        {
          "output_type": "display_data",
          "data": {
            "image/png": "[encoded data removed]"
          },
          "metadata": {}
        }
      ]
    },
    {
      "cell_type": "markdown",
      "source": [
        "Los puntos no siguen algún patrón visible y se encuentran esparcidos alrededor de la linea, por lo que parecen ser homogeneos."
      ],
      "metadata": {
        "id": "GIQLoQ88dY68"
      }
    },
    {
      "cell_type": "markdown",
      "source": [
        "#### Independencia"
      ],
      "metadata": {
        "id": "NfDh5CyDkGmx"
      }
    },
    {
      "cell_type": "code",
      "source": [
        "%%R\n",
        "plot(c(1:53), R$residuals, type=\"l\", xlab=\"Orden de los datos\", ylab = \"Residuos\")\n",
        "abline(h=0, col=\"blue\")"
      ],
      "metadata": {
        "colab": {
          "base_uri": "https://localhost:8080/",
          "height": 497
        },
        "id": "HAiCxGGvkLQ6",
        "outputId": "a56d8ccc-4d6d-4eb7-8ea4-3d7d779f3766"
      },
      "execution_count": 184,
      "outputs": [
        {
          "output_type": "display_data",
          "data": {
            "image/png": "[encoded data removed]"
          },
          "metadata": {}
        }
      ]
    },
    {
      "cell_type": "markdown",
      "source": [
        "Los datos no siguen ningún patrón y parecen acomodarse de forma aleatoria, por lo que se puede decir que son independientes."
      ],
      "metadata": {
        "id": "qQd0eFwBkhTn"
      }
    },
    {
      "cell_type": "markdown",
      "source": [
        "#### Conclusión de verificación de modelo\n",
        "\n",
        "Ya que los datos son normales, hay homocedasticidad e independencia, se concluye que este modelo es apto para la base de datos y puede ser util para predecir la concentración media de mercurio en un grupo de peces con la alcalinidad y clorofila."
      ],
      "metadata": {
        "id": "Fi-jx5vbdv6Y"
      }
    },
    {
      "cell_type": "markdown",
      "source": [
        "## Conclusión"
      ],
      "metadata": {
        "id": "p3tlQscQb8Q1"
      }
    },
    {
      "cell_type": "markdown",
      "source": [
        "**¿Cuáles son los principales factores que influyen en el nivel de contaminación por mercurio en los peces de los lagos de Florida?**  \n",
        "Para el realizamiento de este análisis hubo preguntas clave que ayudaron en el proceso:\n",
        "\n",
        "* ¿Habrá diferencia significativa entre la concentración de mercurio por la edad de los peces?\n",
        "Con base en la gráfica de comparación encontrada en la sección de exploración de datos en donde se compara la edad de los peces con la concentración de mercurio, así como en la correlación de ambas variables. Se encontró que la concentración media de mercurio no varía mucho dependiendo de la edad y que no hay correlación entre estas dos variables. Por lo que puede decirse que no hay diferencias significativas entre la concentración de mercurio por la edad de los peces.\n",
        "\n",
        "* Si el muestreo se realizó lanzando una red y analizando los peces que la red encontraba ¿Habrá influencia del número de peces encontrados en la concentración de mercurio en los peces?\n",
        "Con base en la gráfica de comparación encontrada en la sección de exploración de datos en donde se compara la edad de los peces con la concentración de mercurio, así como en la correlación de ambas variables. Se encontró que la concentración media de mercurio cambia con la cantidad de peces y que esta relación cambia de forma aleatoria, es decir, no se observa algún patrón o tendencia que se siga; mientras que la correlación de ambas variables es de 0.079. Por lo que según lo deducido del análisis no hay influencia del número de peces encontrados con la concentración media de mercurio en los peces.\n",
        "\n"
      ],
      "metadata": {
        "id": "-q0S78r1_kqe"
      }
    },
    {
      "cell_type": "markdown",
      "source": [
        "\n",
        "* ¿Hay evidencia para suponer que la concentración promedio de mercurio en los lagos es dañino para la salud humana? Considera que las normativas de referencia para evaluar los niveles máximos de Hg (Reglamento 34687-MAG y los reglamentos internacionales CE 1881/2006 y Codex Standard 193-1995) establecen que la concentración promedio de mercurio en productos de la pesca no debe superar los 0.5 mg de Hg/kg."
      ],
      "metadata": {
        "id": "uIqHJFC8uVZB"
      }
    },
    {
      "cell_type": "markdown",
      "source": [
        "**Hipótesis**\n",
        "\n",
        "$H_0$: $\\mu=0.5$  \n",
        "$H_1$: $\\mu>0.5$ "
      ],
      "metadata": {
        "id": "NVE4lW-8uqUi"
      }
    },
    {
      "cell_type": "code",
      "source": [
        "%%R\n",
        "alpha = 0.05\n",
        "t0= 1 - qt(alpha, 52) \n",
        "cat(\"t0= \", t0)"
      ],
      "metadata": {
        "colab": {
          "base_uri": "https://localhost:8080/"
        },
        "id": "9c29IOWdvAmb",
        "outputId": "e2249d00-cd0d-4099-ff33-ffaa4b500bfd"
      },
      "execution_count": 185,
      "outputs": [
        {
          "output_type": "stream",
          "name": "stdout",
          "text": [
            "t0=  2.674689"
          ]
        }
      ]
    },
    {
      "cell_type": "markdown",
      "source": [
        "**Regla de decisión**\n",
        "\n",
        "Rechazo $H_0$ si:\n",
        "\n",
        "* Si |t*| > 1.644854"
      ],
      "metadata": {
        "id": "O_rIZNXQvFcD"
      }
    },
    {
      "cell_type": "markdown",
      "source": [
        "**Análisis**"
      ],
      "metadata": {
        "id": "OMxvYMv34-dm"
      }
    },
    {
      "cell_type": "code",
      "source": [
        "%%R\n",
        "m = mean(conc_merc)\n",
        "sm = sd(conc_merc) / sqrt(53) \n",
        "te = 1 - (m-0.5)/sm\n",
        "\n",
        "cat(\"t*=\",te,\"\\n\")"
      ],
      "metadata": {
        "colab": {
          "base_uri": "https://localhost:8080/"
        },
        "id": "Nw8xx6NluWhA",
        "outputId": "19f03f3a-601d-497e-8c38-e6ba04675149"
      },
      "execution_count": 191,
      "outputs": [
        {
          "output_type": "stream",
          "name": "stdout",
          "text": [
            "t*= 4.640055 \n"
          ]
        }
      ]
    },
    {
      "cell_type": "markdown",
      "source": [
        "Debido a que t* es mayor a 1.64 se rechaza la hipótesis nula, lo que significa que la media de concentración de mercurio es mayor a 0.5."
      ],
      "metadata": {
        "id": "ovQG2pBh5H8R"
      }
    },
    {
      "cell_type": "markdown",
      "source": [
        "\n",
        "Se concluye que la concentración promedio de mercurio en los peces, según la muestra evaluada, supera los 0.5 mg de Hg/kg. Por lo que hay evidencia para suponer que la concentración promedio de mercurio en los lagos de Florida es dañina para la salud humana."
      ],
      "metadata": {
        "id": "a0dGV5s965XC"
      }
    },
    {
      "cell_type": "markdown",
      "source": [
        "De acuerdo al análisis anterior de los datos, tomando en cuenta los resultados de las preguntas guía, las pruebas de hipótesis sobre la correlación de las variables con la concentración media de mercurio, así como las variables que resultaron ser mejores en la regresión lineal, se concluye que los principales factores que influyen en el nivel de contaminación por mercurio en los peces de los lagos de Florida son los valores del calcio, clorofila y alcalinidad"
      ],
      "metadata": {
        "id": "ZTrd1_8l8L8r"
      }
    }
  ],
  "metadata": {
    "kernelspec": {
      "display_name": "Python 3",
      "language": "python",
      "name": "python3"
    },
    "language_info": {
      "codemirror_mode": {
        "name": "ipython",
        "version": 3
      },
      "file_extension": ".py",
      "mimetype": "text/x-python",
      "name": "python",
      "nbconvert_exporter": "python",
      "pygments_lexer": "ipython3",
      "version": "3.7.12"
    },
    "colab": {
      "provenance": [],
      "collapsed_sections": [
        "AXlG--dLM0R8"
      ]
    }
  },
  "nbformat": 4,
  "nbformat_minor": 0
}